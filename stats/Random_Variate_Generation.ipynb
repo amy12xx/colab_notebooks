{
  "nbformat": 4,
  "nbformat_minor": 0,
  "metadata": {
    "colab": {
      "name": "Random Variate Generation.ipynb",
      "provenance": [],
      "collapsed_sections": []
    },
    "kernelspec": {
      "name": "python3",
      "display_name": "Python 3"
    }
  },
  "cells": [
    {
      "cell_type": "markdown",
      "metadata": {
        "id": "JNZiCYX3704a"
      },
      "source": [
        "Notebook to demonstrate random variate generation using the inverse transform method. ITM generates pseudo random numbers from a distribution given its cdf, and uniform samples. \n",
        "Since ITM depends on the cdf, it does not work for all distributions, for which the cdf cannot be computed analytically (for e.g. normal distribution), and in this case, other methods are suitable. \n",
        "\n",
        "Inverse Transform Theorem states that if X is a continuous random variable with cdf F(x), then F(X) ~ Unif(0,1).\n",
        "\n",
        "https://en.wikipedia.org/wiki/Inverse_transform_sampling\n",
        "\n",
        "ITM has the following procedure:\n",
        "To generate a random variable X, of some distribution,\n",
        "1. Generate a Uniform(0, 1) random variable\n",
        "2. Use the inverse of the CDF of the distribution to get X. i.e. $$F^{-1}(U) = X$$\n",
        "\n",
        "If you have this inverse pre-calculated (easy for some distributions), you can use numpy to generate the X's. If you are lazy, sympy is a symbolic math library that lets you perform mathematical operations; in particular the stats module can be used to do the math for you. \n",
        "\n",
        "[Note, that the functionality may change in future versions of sympy, and this notebook is using sympy=1.6.2]\n"
      ]
    },
    {
      "cell_type": "code",
      "metadata": {
        "id": "4jazaGE-snnw",
        "outputId": "0bed1f70-e599-4238-e8f6-422eab2ad93d",
        "colab": {
          "base_uri": "https://localhost:8080/",
          "height": 294
        }
      },
      "source": [
        "# requires sympy==1.6.2\n",
        "!pip install sympy==1.6.2"
      ],
      "execution_count": 4,
      "outputs": [
        {
          "output_type": "stream",
          "text": [
            "Collecting sympy==1.6.2\n",
            "\u001b[?25l  Downloading https://files.pythonhosted.org/packages/e0/1f/8cbbf698e853019ac3dc5d60ca8f6be4ace4542b2f05f7b62949617fc98e/sympy-1.6.2-py3-none-any.whl (5.8MB)\n",
            "\u001b[K     |████████████████████████████████| 5.8MB 2.7MB/s \n",
            "\u001b[?25hRequirement already satisfied: mpmath>=0.19 in /usr/local/lib/python3.6/dist-packages (from sympy==1.6.2) (1.1.0)\n",
            "Installing collected packages: sympy\n",
            "  Found existing installation: sympy 1.1.1\n",
            "    Uninstalling sympy-1.1.1:\n",
            "      Successfully uninstalled sympy-1.1.1\n",
            "Successfully installed sympy-1.6.2\n"
          ],
          "name": "stdout"
        },
        {
          "output_type": "display_data",
          "data": {
            "application/vnd.colab-display-data+json": {
              "pip_warning": {
                "packages": [
                  "sympy"
                ]
              }
            }
          },
          "metadata": {
            "tags": []
          }
        }
      ]
    },
    {
      "cell_type": "code",
      "metadata": {
        "id": "MbdlH1w6tUxd",
        "outputId": "a79809dd-4c78-45e2-e239-80d111bfa352",
        "colab": {
          "base_uri": "https://localhost:8080/",
          "height": 36
        }
      },
      "source": [
        "import sympy\n",
        "sympy.__version__"
      ],
      "execution_count": 1,
      "outputs": [
        {
          "output_type": "execute_result",
          "data": {
            "application/vnd.google.colaboratory.intrinsic+json": {
              "type": "string"
            },
            "text/plain": [
              "'1.6.2'"
            ]
          },
          "metadata": {
            "tags": []
          },
          "execution_count": 1
        }
      ]
    },
    {
      "cell_type": "code",
      "metadata": {
        "id": "36M5Qd1Fvfy0"
      },
      "source": [
        "import numpy as np\n",
        "import matplotlib.pyplot as plt\n",
        "from sympy.stats import cdf, density\n",
        "from sympy import Symbol, pprint, Eq, solve, solveset\n",
        "from sympy.utilities.lambdify import lambdify\n",
        "from sympy import integrate"
      ],
      "execution_count": 2,
      "outputs": []
    },
    {
      "cell_type": "code",
      "metadata": {
        "id": "t_k2uYyZvjEp"
      },
      "source": [
        "# set your favorite seed for reproducibility\n",
        "np.random.seed(42)"
      ],
      "execution_count": 3,
      "outputs": []
    },
    {
      "cell_type": "code",
      "metadata": {
        "id": "SmbsiH_OaGUr"
      },
      "source": [
        "# pick your favorite style sheet\n",
        "# https://matplotlib.org/3.1.0/gallery/style_sheets/style_sheets_reference.html\n",
        "plt.style.use('Solarize_Light2')"
      ],
      "execution_count": 4,
      "outputs": []
    },
    {
      "cell_type": "markdown",
      "metadata": {
        "id": "Aw7nBYyP7hJo"
      },
      "source": [
        "# **Continuous Distributions**"
      ]
    },
    {
      "cell_type": "code",
      "metadata": {
        "id": "PpgEKVmXvnD1",
        "outputId": "9204b3b0-ef63-4256-d224-fa66d16ea909",
        "colab": {
          "base_uri": "https://localhost:8080/",
          "height": 413
        }
      },
      "source": [
        "# Uniform Distribution\n",
        "# USING NUMPY\n",
        "# It is easy to get an expression for X from the inverse cdf.\n",
        "# You may recall that the cdf of a uniform is (x-a)/(b-a). \n",
        "# Solving for X, we get the expresssion X = a + (b-a) * U\n",
        "\n",
        "a, b = 1, 10\n",
        "n = 10000\n",
        "\n",
        "u = np.random.uniform(0, 1, n)\n",
        "x = a + (b-a)*u\n",
        "\n",
        "# Plot results\n",
        "n_bins = 20\n",
        "plt.hist(x, bins = n_bins)"
      ],
      "execution_count": 5,
      "outputs": [
        {
          "output_type": "execute_result",
          "data": {
            "text/plain": [
              "(array([493., 538., 503., 509., 501., 507., 503., 503., 523., 495., 528.,\n",
              "        505., 493., 512., 471., 451., 515., 487., 487., 476.]),\n",
              " array([1.00010471, 1.44997243, 1.89984015, 2.34970786, 2.79957558,\n",
              "        3.2494433 , 3.69931102, 4.14917873, 4.59904645, 5.04891417,\n",
              "        5.49878189, 5.9486496 , 6.39851732, 6.84838504, 7.29825276,\n",
              "        7.74812047, 8.19798819, 8.64785591, 9.09772362, 9.54759134,\n",
              "        9.99745906]),\n",
              " <a list of 20 Patch objects>)"
            ]
          },
          "metadata": {
            "tags": []
          },
          "execution_count": 5
        },
        {
          "output_type": "display_data",
          "data": {
            "image/png": "[encoded data removed]",
            "text/plain": [
              "<Figure size 432x288 with 1 Axes>"
            ]
          },
          "metadata": {
            "tags": []
          }
        }
      ]
    },
    {
      "cell_type": "code",
      "metadata": {
        "id": "UL9ijpac785z",
        "outputId": "4b69aa42-e387-44a4-d453-c55351a06eb3",
        "colab": {
          "base_uri": "https://localhost:8080/",
          "height": 579
        }
      },
      "source": [
        "# Uniform Distribution\n",
        "# USING SYMPY\n",
        "# Now to do it with sympy, it may seem like more code, but\n",
        "# in this case, we can use sympy to solve for X, instead of doing it ourselves.\n",
        "# This is a (trivial) example to generate a Unif(a, b) from Unif(0,1)\n",
        "\n",
        "from sympy.stats import Uniform\n",
        "\n",
        "x = Symbol(\"x\")\n",
        "a = Symbol(\"a\")\n",
        "b = Symbol(\"b\")\n",
        "\n",
        "# Define our target (uniform) distribution, and its cdf F_x\n",
        "D = Uniform(\"d\", a, b)\n",
        "F_x = cdf(D)(x)\n",
        "\n",
        "print(\"cdf\")\n",
        "pprint(F_x)\n",
        "\n",
        "# Solve for x using sympy\n",
        "u = Symbol(\"u\")\n",
        "expr = solve(Eq(F_x, u), x)[0]\n",
        "\n",
        "# Generate x from Unif(aa, bb) using Unif(0, 1)\n",
        "# You can generate x for any Unif(aa, bb)\n",
        "aa, bb = 0, 10\n",
        "n = 10000\n",
        "unifs = np.random.uniform(0, 1, n)\n",
        "\n",
        "f=lambdify([u, a, b], expr, \"numpy\")\n",
        "x_vals = f(unifs, aa, bb)\n",
        "\n",
        "# Plot results\n",
        "n_bins = 20\n",
        "plt.hist(x_vals, bins = n_bins)"
      ],
      "execution_count": 6,
      "outputs": [
        {
          "output_type": "stream",
          "text": [
            "cdf\n",
            "⎧  0     for a > x\n",
            "⎪                 \n",
            "⎪-a + x           \n",
            "⎨──────  for b ≥ x\n",
            "⎪-a + b           \n",
            "⎪                 \n",
            "⎩  1     otherwise\n"
          ],
          "name": "stdout"
        },
        {
          "output_type": "execute_result",
          "data": {
            "text/plain": [
              "(array([499., 503., 474., 491., 492., 475., 490., 502., 507., 503., 524.,\n",
              "        485., 493., 490., 499., 540., 466., 545., 495., 527.]),\n",
              " array([1.57744578e-03, 5.01460987e-01, 1.00134453e+00, 1.50122807e+00,\n",
              "        2.00111161e+00, 2.50099515e+00, 3.00087869e+00, 3.50076223e+00,\n",
              "        4.00064577e+00, 4.50052932e+00, 5.00041286e+00, 5.50029640e+00,\n",
              "        6.00017994e+00, 6.50006348e+00, 6.99994702e+00, 7.49983056e+00,\n",
              "        7.99971410e+00, 8.49959764e+00, 8.99948119e+00, 9.49936473e+00,\n",
              "        9.99924827e+00]),\n",
              " <a list of 20 Patch objects>)"
            ]
          },
          "metadata": {
            "tags": []
          },
          "execution_count": 6
        },
        {
          "output_type": "display_data",
          "data": {
            "image/png": "[encoded data removed]",
            "text/plain": [
              "<Figure size 432x288 with 1 Axes>"
            ]
          },
          "metadata": {
            "tags": []
          }
        }
      ]
    },
    {
      "cell_type": "code",
      "metadata": {
        "id": "yuCcUiJKxLIg",
        "outputId": "95d16117-8178-49de-b2b7-df7afc22f3fa",
        "colab": {
          "base_uri": "https://localhost:8080/",
          "height": 468
        }
      },
      "source": [
        "# Exponential Distribution\n",
        "# USING NUMPY\n",
        "\n",
        "lam = 1/3\n",
        "n = 10000\n",
        "\n",
        "u = np.random.uniform(0, 1, n)\n",
        "x = (-1/lam)*np.log(1-u)\n",
        "\n",
        "# Plot results\n",
        "n_bins = 20\n",
        "plt.hist(x, bins = n_bins)"
      ],
      "execution_count": 7,
      "outputs": [
        {
          "output_type": "execute_result",
          "data": {
            "text/plain": [
              "(array([3.678e+03, 2.322e+03, 1.540e+03, 9.280e+02, 5.490e+02, 3.580e+02,\n",
              "        2.200e+02, 1.540e+02, 9.600e+01, 5.600e+01, 3.800e+01, 1.300e+01,\n",
              "        2.300e+01, 1.100e+01, 4.000e+00, 2.000e+00, 4.000e+00, 3.000e+00,\n",
              "        0.000e+00, 1.000e+00]),\n",
              " array([1.44375157e-04, 1.38316093e+00, 2.76617749e+00, 4.14919405e+00,\n",
              "        5.53221060e+00, 6.91522716e+00, 8.29824372e+00, 9.68126027e+00,\n",
              "        1.10642768e+01, 1.24472934e+01, 1.38303099e+01, 1.52133265e+01,\n",
              "        1.65963431e+01, 1.79793596e+01, 1.93623762e+01, 2.07453927e+01,\n",
              "        2.21284093e+01, 2.35114258e+01, 2.48944424e+01, 2.62774590e+01,\n",
              "        2.76604755e+01]),\n",
              " <a list of 20 Patch objects>)"
            ]
          },
          "metadata": {
            "tags": []
          },
          "execution_count": 7
        },
        {
          "output_type": "display_data",
          "data": {
            "image/png": "[encoded data removed]",
            "text/plain": [
              "<Figure size 432x288 with 1 Axes>"
            ]
          },
          "metadata": {
            "tags": []
          }
        }
      ]
    },
    {
      "cell_type": "code",
      "metadata": {
        "id": "foYeUn4Pxln4",
        "outputId": "3b120e61-a890-4624-c263-245b2249b22b",
        "colab": {
          "base_uri": "https://localhost:8080/",
          "height": 450
        }
      },
      "source": [
        "# Weibull Distribution\n",
        "# USING NUMPY\n",
        "\n",
        "lam = 1/3\n",
        "beta = 2\n",
        "n = 10000\n",
        "\n",
        "u = np.random.uniform(0, 1, n)\n",
        "x = (1/lam)*(-np.log(1-u))**(1/beta)\n",
        "\n",
        "# Plot results\n",
        "n_bins = 20\n",
        "plt.hist(x, bins = n_bins)"
      ],
      "execution_count": 8,
      "outputs": [
        {
          "output_type": "execute_result",
          "data": {
            "text/plain": [
              "(array([ 226.,  586.,  955., 1145., 1244., 1190., 1126.,  974.,  763.,\n",
              "         587.,  444.,  291.,  203.,  106.,   78.,   46.,   17.,   12.,\n",
              "           5.,    2.]),\n",
              " array([7.05905232e-03, 4.43136922e-01, 8.79214792e-01, 1.31529266e+00,\n",
              "        1.75137053e+00, 2.18744840e+00, 2.62352627e+00, 3.05960414e+00,\n",
              "        3.49568201e+00, 3.93175988e+00, 4.36783775e+00, 4.80391562e+00,\n",
              "        5.23999349e+00, 5.67607136e+00, 6.11214923e+00, 6.54822710e+00,\n",
              "        6.98430497e+00, 7.42038284e+00, 7.85646071e+00, 8.29253858e+00,\n",
              "        8.72861645e+00]),\n",
              " <a list of 20 Patch objects>)"
            ]
          },
          "metadata": {
            "tags": []
          },
          "execution_count": 8
        },
        {
          "output_type": "display_data",
          "data": {
            "image/png": "[encoded data removed]",
            "text/plain": [
              "<Figure size 432x288 with 1 Axes>"
            ]
          },
          "metadata": {
            "tags": []
          }
        }
      ]
    },
    {
      "cell_type": "code",
      "metadata": {
        "id": "QwpNdKL4BY22",
        "outputId": "00ebaaed-8501-4434-dee7-d699a8cfabc0",
        "colab": {
          "base_uri": "https://localhost:8080/",
          "height": 413
        }
      },
      "source": [
        "# Triangular Distribution\n",
        "# USING NUMPY\n",
        "# An example of generating Tria(0,1,2)\n",
        "# We have to first solve for X, using the inverse cdf of Tria(0,1,2)\n",
        "\n",
        "def func(z):\n",
        "    ''' Triangular distribution Tria(0, 1, 2)\n",
        "    '''\n",
        "    if z < 0.5:\n",
        "        return np.sqrt((2*z))\n",
        "    else:\n",
        "        return 2 - np.sqrt(2*(1-z))\n",
        "\n",
        "n = 10000\n",
        "u = np.random.uniform(0, 1, n)\n",
        "x = np.vectorize(func)(u)\n",
        "\n",
        "# Plot results\n",
        "n_bins = 20\n",
        "plt.hist(x, bins=n_bins)"
      ],
      "execution_count": 9,
      "outputs": [
        {
          "output_type": "execute_result",
          "data": {
            "text/plain": [
              "(array([ 62., 145., 243., 348., 477., 572., 667., 767., 839., 936., 912.,\n",
              "        845., 712., 672., 533., 445., 373., 239., 149.,  64.]),\n",
              " array([0.00578554, 0.10512309, 0.20446063, 0.30379817, 0.40313572,\n",
              "        0.50247326, 0.6018108 , 0.70114834, 0.80048589, 0.89982343,\n",
              "        0.99916097, 1.09849852, 1.19783606, 1.2971736 , 1.39651115,\n",
              "        1.49584869, 1.59518623, 1.69452378, 1.79386132, 1.89319886,\n",
              "        1.9925364 ]),\n",
              " <a list of 20 Patch objects>)"
            ]
          },
          "metadata": {
            "tags": []
          },
          "execution_count": 9
        },
        {
          "output_type": "display_data",
          "data": {
            "image/png": "[encoded data removed]",
            "text/plain": [
              "<Figure size 432x288 with 1 Axes>"
            ]
          },
          "metadata": {
            "tags": []
          }
        }
      ]
    },
    {
      "cell_type": "code",
      "metadata": {
        "id": "0VXNwY5p3fw1",
        "outputId": "520e3a43-3479-4c42-ce9c-767c5d91448f",
        "colab": {
          "base_uri": "https://localhost:8080/",
          "height": 431
        }
      },
      "source": [
        "# Triangular Distribution\n",
        "# USING SYMPY\n",
        "# We can use sympy instead to generate from any Tria(a, b, c) \"directly\"\n",
        "# Using the cdf directly as we have done in the uniform distribution case\n",
        "# did not seem to work, so we will use the pdf instead, and compute the\n",
        "# cdf first, which produces it in peicewise form, that we can then use to\n",
        "# get an expression for X. A little long-winded, but it's a way to automate\n",
        "# the R.V generation for any Tria(a,b,c)\n",
        "\n",
        "# Triangular Distribution\n",
        "\n",
        "from sympy.stats import Triangular\n",
        "from sympy import nan\n",
        "\n",
        "# Define any a, b and c, for Tria(a, b, c) distribution\n",
        "a, b, c = 0, 2, 1\n",
        "\n",
        "x = Symbol(\"x\")\n",
        "u = Symbol(\"u\")\n",
        "\n",
        "# Define triangular distribution Tria(a, b, c), and its pdf, and cdf\n",
        "D = Triangular(\"d\", a, b, c)\n",
        "\n",
        "pdf = density(D)(x)\n",
        "F_x = integrate(pdf, (x))\n",
        "print(F_x)\n",
        "\n",
        "# Solve for X\n",
        "eqn = Eq(F_x, u)\n",
        "expr = solve(eqn, x)\n",
        "\n",
        "# generate X's using uniforms\n",
        "n = 1000\n",
        "unifs = np.random.uniform(0, 1, n)\n",
        "xvals = []\n",
        "for uval in unifs:\n",
        "    for i in range(len(expr)):\n",
        "        ans = expr[i].subs({u: uval}).evalf()\n",
        "        xvals.append(ans)\n",
        "\n",
        "xvals = [xval for xval in xvals if xval != nan]\n",
        "xvals = np.array(xvals).astype(np.float64)\n",
        "\n",
        "# # Plot results\n",
        "n_bins = 20\n",
        "plt.hist(xvals, bins=n_bins)"
      ],
      "execution_count": 10,
      "outputs": [
        {
          "output_type": "stream",
          "text": [
            "Piecewise((0, x <= 0), (x**2/2, x < 1), (-x**2/2 + 2*x - 1, x <= 2), (1, True))\n"
          ],
          "name": "stdout"
        },
        {
          "output_type": "execute_result",
          "data": {
            "text/plain": [
              "(array([  7.,  17.,  30.,  32.,  43.,  58.,  62.,  65.,  73.,  97.,  84.,\n",
              "        103.,  71.,  59.,  51.,  62.,  29.,  32.,  17.,   8.]),\n",
              " array([0.03528372, 0.13178663, 0.22828954, 0.32479245, 0.42129536,\n",
              "        0.51779827, 0.61430118, 0.71080409, 0.807307  , 0.90380992,\n",
              "        1.00031283, 1.09681574, 1.19331865, 1.28982156, 1.38632447,\n",
              "        1.48282738, 1.57933029, 1.6758332 , 1.77233611, 1.86883902,\n",
              "        1.96534193]),\n",
              " <a list of 20 Patch objects>)"
            ]
          },
          "metadata": {
            "tags": []
          },
          "execution_count": 10
        },
        {
          "output_type": "display_data",
          "data": {
            "image/png": "[encoded data removed]",
            "text/plain": [
              "<Figure size 432x288 with 1 Axes>"
            ]
          },
          "metadata": {
            "tags": []
          }
        }
      ]
    },
    {
      "cell_type": "markdown",
      "metadata": {
        "id": "pZj__m787UpL"
      },
      "source": [
        "# **Discrete Distributions**"
      ]
    },
    {
      "cell_type": "code",
      "metadata": {
        "id": "G27lUQB9C9Bs",
        "outputId": "983f7d7a-68b3-482f-eba5-67a6c1c8af4c",
        "colab": {
          "base_uri": "https://localhost:8080/",
          "height": 376
        }
      },
      "source": [
        "# Bernoulli Distribution\n",
        "# USING NUMPY\n",
        "\n",
        "def func(z, p):\n",
        "    if z <= 1-p:\n",
        "        return 0\n",
        "    else:\n",
        "        return 1\n",
        "\n",
        "# Define probability p, for Bern(p) distribution\n",
        "p = 0.75\n",
        "n = 10000\n",
        "u = np.random.uniform(0, 1, n)\n",
        "x = np.vectorize(func)(u, p=p)\n",
        "\n",
        "# # Plot results\n",
        "n_bins = 20\n",
        "plt.hist(x, bins = n_bins)"
      ],
      "execution_count": 11,
      "outputs": [
        {
          "output_type": "execute_result",
          "data": {
            "text/plain": [
              "(array([2429.,    0.,    0.,    0.,    0.,    0.,    0.,    0.,    0.,\n",
              "           0.,    0.,    0.,    0.,    0.,    0.,    0.,    0.,    0.,\n",
              "           0., 7571.]),\n",
              " array([0.  , 0.05, 0.1 , 0.15, 0.2 , 0.25, 0.3 , 0.35, 0.4 , 0.45, 0.5 ,\n",
              "        0.55, 0.6 , 0.65, 0.7 , 0.75, 0.8 , 0.85, 0.9 , 0.95, 1.  ]),\n",
              " <a list of 20 Patch objects>)"
            ]
          },
          "metadata": {
            "tags": []
          },
          "execution_count": 11
        },
        {
          "output_type": "display_data",
          "data": {
            "image/png": "[encoded data removed]",
            "text/plain": [
              "<Figure size 432x288 with 1 Axes>"
            ]
          },
          "metadata": {
            "tags": []
          }
        }
      ]
    },
    {
      "cell_type": "code",
      "metadata": {
        "id": "n6o3lVZTD4NE",
        "outputId": "f04ba3fa-a5ed-4aa8-f5f1-5376d58a6a11",
        "colab": {
          "base_uri": "https://localhost:8080/",
          "height": 377
        }
      },
      "source": [
        "# Geometric Distribution\n",
        "# USING NUMPY\n",
        "\n",
        "# Method 1:\n",
        "# X = min[k: 1-q**k >= U] = ceil(1-U) / ceil(1-p) = ln(U) / ceil(1-p)\n",
        "\n",
        "def func(u, q):\n",
        "    k = 1\n",
        "    while True:\n",
        "        if 1 - q**k >= u:\n",
        "            return k\n",
        "        k += 1\n",
        "    \n",
        "# Define probability p, for Geom(p) distribution\n",
        "p = 0.3\n",
        "q = 1-p\n",
        "n = 100\n",
        "u = np.random.uniform(0, 1, n)\n",
        "x = np.vectorize(func)(u, q)\n",
        "\n",
        "# # Plot results\n",
        "n_bins = 20\n",
        "plt.hist(x, bins=n_bins)"
      ],
      "execution_count": 40,
      "outputs": [
        {
          "output_type": "execute_result",
          "data": {
            "text/plain": [
              "(array([29., 16.,  0., 17.,  0., 10.,  0.,  6.,  0.,  6., 10.,  0.,  3.,\n",
              "         0.,  1.,  0.,  0.,  0.,  0.,  2.]),\n",
              " array([ 1.  ,  1.55,  2.1 ,  2.65,  3.2 ,  3.75,  4.3 ,  4.85,  5.4 ,\n",
              "         5.95,  6.5 ,  7.05,  7.6 ,  8.15,  8.7 ,  9.25,  9.8 , 10.35,\n",
              "        10.9 , 11.45, 12.  ]),\n",
              " <a list of 20 Patch objects>)"
            ]
          },
          "metadata": {
            "tags": []
          },
          "execution_count": 40
        },
        {
          "output_type": "display_data",
          "data": {
            "image/png": "[encoded data removed]",
            "text/plain": [
              "<Figure size 432x288 with 1 Axes>"
            ]
          },
          "metadata": {
            "tags": []
          }
        }
      ]
    },
    {
      "cell_type": "code",
      "metadata": {
        "id": "iOdy5esz5Jf7",
        "outputId": "7ee79660-bdca-4167-fa12-732be1e5384a",
        "colab": {
          "base_uri": "https://localhost:8080/",
          "height": 376
        }
      },
      "source": [
        "# Geometric Distribution\n",
        "# USING NUMPY\n",
        "\n",
        "# Method 2:\n",
        "# Count number of trials i until U_i <= p\n",
        "\n",
        "def func(r, p):\n",
        "    num_trials = 1\n",
        "    while True:\n",
        "        unif = np.random.uniform()\n",
        "        if unif <= p:\n",
        "            return num_trials\n",
        "        num_trials += 1\n",
        "    \n",
        "# Define probability p, for Geom(p) distribution\n",
        "p = 0.3\n",
        "n = 100\n",
        "r = range(n)\n",
        "x = np.vectorize(func)(r, p)\n",
        "\n",
        "# # Plot results\n",
        "n_bins = 20\n",
        "plt.hist(x, bins=n_bins)"
      ],
      "execution_count": 13,
      "outputs": [
        {
          "output_type": "execute_result",
          "data": {
            "text/plain": [
              "(array([21., 33.,  0., 14.,  9.,  0.,  7.,  5.,  0.,  4.,  3.,  0.,  1.,\n",
              "         0.,  0.,  1.,  1.,  0.,  0.,  1.]),\n",
              " array([ 1.  ,  1.65,  2.3 ,  2.95,  3.6 ,  4.25,  4.9 ,  5.55,  6.2 ,\n",
              "         6.85,  7.5 ,  8.15,  8.8 ,  9.45, 10.1 , 10.75, 11.4 , 12.05,\n",
              "        12.7 , 13.35, 14.  ]),\n",
              " <a list of 20 Patch objects>)"
            ]
          },
          "metadata": {
            "tags": []
          },
          "execution_count": 13
        },
        {
          "output_type": "display_data",
          "data": {
            "image/png": "[encoded data removed]",
            "text/plain": [
              "<Figure size 432x288 with 1 Axes>"
            ]
          },
          "metadata": {
            "tags": []
          }
        }
      ]
    },
    {
      "cell_type": "code",
      "metadata": {
        "id": "JdaDeicv7IuH",
        "outputId": "b1beba0c-6766-487b-ffa6-219706c0ebe4",
        "colab": {
          "base_uri": "https://localhost:8080/",
          "height": 378
        }
      },
      "source": [
        "# Poisson Distribution\n",
        "# USING SYMPY\n",
        "\n",
        "from sympy.stats import Poisson\n",
        "\n",
        "x = Symbol(\"x\", positive=True)\n",
        "lam = Symbol(\"lam\", positive=True)\n",
        "\n",
        "# Define poisson distribution\n",
        "D = Poisson(\"d\", lam)\n",
        "\n",
        "#### and its pmf function\n",
        "f_x = density(D)(x)\n",
        "print(f_x)\n",
        "\n",
        "# Define any lambda for Poisson(lambda) distribution\n",
        "l = 2\n",
        "\n",
        "# Generate cdf ranges from pmf function. i.e P(X<=x)\n",
        "xval = 0\n",
        "cdf_range = [0]\n",
        "while True:\n",
        "    fxval = f_x.evalf(subs={x: xval, lam: l})\n",
        "    r = cdf_range[-1] + fxval\n",
        "\n",
        "    if r >= 1:\n",
        "        break\n",
        "\n",
        "    cdf_range.append(r)\n",
        "    xval = xval + 1\n",
        "\n",
        "def func(u, cdfvals):\n",
        "    for k, c in enumerate(cdfvals):\n",
        "        if u <= c:\n",
        "            return k\n",
        "\n",
        "# Generate poisson X's from Unif(0, 1) samples\n",
        "n = 1000\n",
        "unifs = np.random.uniform(0, 1, n)\n",
        "x = [func(u, cdf_range[1:]) for u in unifs]\n",
        "\n",
        "# # Plot results\n",
        "n_bins = 20\n",
        "plt.hist(x, bins=n_bins)"
      ],
      "execution_count": 50,
      "outputs": [
        {
          "output_type": "stream",
          "text": [
            "lam**x*exp(-lam)/factorial(x)\n"
          ],
          "name": "stdout"
        },
        {
          "output_type": "execute_result",
          "data": {
            "text/plain": [
              "(array([112.,   0., 289.,   0., 276.,   0., 189.,   0.,  93.,   0.,   0.,\n",
              "         26.,   0.,  10.,   0.,   2.,   0.,   0.,   0.,   3.]),\n",
              " array([0.  , 0.45, 0.9 , 1.35, 1.8 , 2.25, 2.7 , 3.15, 3.6 , 4.05, 4.5 ,\n",
              "        4.95, 5.4 , 5.85, 6.3 , 6.75, 7.2 , 7.65, 8.1 , 8.55, 9.  ]),\n",
              " <a list of 20 Patch objects>)"
            ]
          },
          "metadata": {
            "tags": []
          },
          "execution_count": 50
        },
        {
          "output_type": "display_data",
          "data": {
            "image/png": "[encoded data removed]",
            "text/plain": [
              "<Figure size 432x288 with 1 Axes>"
            ]
          },
          "metadata": {
            "tags": []
          }
        }
      ]
    }
  ]
}