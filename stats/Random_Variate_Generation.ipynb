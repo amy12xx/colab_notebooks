{
  "nbformat": 4,
  "nbformat_minor": 0,
  "metadata": {
    "colab": {
      "name": "Random Variate Generation.ipynb",
      "provenance": [],
      "collapsed_sections": []
    },
    "kernelspec": {
      "name": "python3",
      "display_name": "Python 3"
    }
  },
  "cells": [
    {
      "cell_type": "markdown",
      "metadata": {
        "id": "JNZiCYX3704a"
      },
      "source": [
        "Notebook to demonstrate random variate generation using the inverse transform method. ITM generates pseudo random numbers from a distribution given its cdf, and uniform samples. \n",
        "Since ITM depends on the cdf, it does not work for all distributions, for which the cdf cannot be computed analytically (for e.g. normal distribution), and in this case, other methods are suitable. \n",
        "\n",
        "Inverse Transform Theorem states that if X is a continuous random variable with cdf F(x), then F(X) ~ Unif(0,1).\n",
        "\n",
        "https://en.wikipedia.org/wiki/Inverse_transform_sampling\n",
        "\n",
        "ITM has the following procedure:\n",
        "To generate a random variable X, of some distribution,\n",
        "1. Generate a Uniform(0, 1) random variable\n",
        "2. Use the inverse of the CDF of the distribution to get X. i.e. $$F^{-1}(U) = X$$\n",
        "\n",
        "If you have this inverse pre-calculated (easy for some distributions), you can use numpy to generate the X's. If you are lazy, sympy is a symbolic math library that lets you perform mathematical operations; in particular the stats module can be used to do the math for you. \n",
        "\n",
        "[Note, that the functionality may change in future versions of sympy, and this notebook is using sympy=1.6.2]\n"
      ]
    },
    {
      "cell_type": "code",
      "metadata": {
        "id": "4jazaGE-snnw",
        "outputId": "9db3133d-0157-4975-a017-836bf0e74700",
        "colab": {
          "base_uri": "https://localhost:8080/"
        }
      },
      "source": [
        "# requires sympy==1.6.2\n",
        "!pip install sympy==1.6.2"
      ],
      "execution_count": 1,
      "outputs": [
        {
          "output_type": "stream",
          "text": [
            "Collecting sympy==1.6.2\n",
            "\u001b[?25l  Downloading https://files.pythonhosted.org/packages/e0/1f/8cbbf698e853019ac3dc5d60ca8f6be4ace4542b2f05f7b62949617fc98e/sympy-1.6.2-py3-none-any.whl (5.8MB)\n",
            "\u001b[K     |████████████████████████████████| 5.8MB 2.7MB/s \n",
            "\u001b[?25hRequirement already satisfied: mpmath>=0.19 in /usr/local/lib/python3.6/dist-packages (from sympy==1.6.2) (1.1.0)\n",
            "Installing collected packages: sympy\n",
            "  Found existing installation: sympy 1.1.1\n",
            "    Uninstalling sympy-1.1.1:\n",
            "      Successfully uninstalled sympy-1.1.1\n",
            "Successfully installed sympy-1.6.2\n"
          ],
          "name": "stdout"
        }
      ]
    },
    {
      "cell_type": "code",
      "metadata": {
        "id": "MbdlH1w6tUxd",
        "outputId": "bca981a1-5d00-464a-8073-8ed18f187cf3",
        "colab": {
          "base_uri": "https://localhost:8080/",
          "height": 36
        }
      },
      "source": [
        "import sympy\n",
        "sympy.__version__"
      ],
      "execution_count": 2,
      "outputs": [
        {
          "output_type": "execute_result",
          "data": {
            "application/vnd.google.colaboratory.intrinsic+json": {
              "type": "string"
            },
            "text/plain": [
              "'1.6.2'"
            ]
          },
          "metadata": {
            "tags": []
          },
          "execution_count": 2
        }
      ]
    },
    {
      "cell_type": "code",
      "metadata": {
        "id": "36M5Qd1Fvfy0"
      },
      "source": [
        "import numpy as np\n",
        "import matplotlib.pyplot as plt\n",
        "from sympy.stats import cdf, density\n",
        "from sympy import Symbol, pprint, Eq, solve, solveset\n",
        "from sympy.utilities.lambdify import lambdify\n",
        "from sympy import integrate"
      ],
      "execution_count": 3,
      "outputs": []
    },
    {
      "cell_type": "code",
      "metadata": {
        "id": "t_k2uYyZvjEp"
      },
      "source": [
        "# set your favorite seed for reproducibility\n",
        "np.random.seed(42)"
      ],
      "execution_count": 4,
      "outputs": []
    },
    {
      "cell_type": "code",
      "metadata": {
        "id": "SmbsiH_OaGUr"
      },
      "source": [
        "# pick your favorite style sheet\n",
        "# https://matplotlib.org/3.1.0/gallery/style_sheets/style_sheets_reference.html\n",
        "plt.style.use('Solarize_Light2')"
      ],
      "execution_count": 54,
      "outputs": []
    },
    {
      "cell_type": "markdown",
      "metadata": {
        "id": "Aw7nBYyP7hJo"
      },
      "source": [
        "# **Continuous Distributions**"
      ]
    },
    {
      "cell_type": "code",
      "metadata": {
        "id": "PpgEKVmXvnD1",
        "outputId": "e569c948-8fb5-4c3b-cb8a-13bb5896e9f7",
        "colab": {
          "base_uri": "https://localhost:8080/",
          "height": 413
        }
      },
      "source": [
        "# Uniform Distribution\n",
        "# It is easy to get an expression for X from the inverse cdf.\n",
        "# You may recall that the cdf of a uniform is (x-a)/(b-a). \n",
        "# Solving for X, we get the expresssion X = a + (b-a) * U\n",
        "\n",
        "n = 10000\n",
        "n_bins = 20\n",
        "a, b = 1, 10\n",
        "\n",
        "u = np.random.uniform(0, 1, n)\n",
        "x = a + (b-a)*u\n",
        "\n",
        "plt.hist(x, bins = n_bins)"
      ],
      "execution_count": 55,
      "outputs": [
        {
          "output_type": "execute_result",
          "data": {
            "text/plain": [
              "(array([527., 501., 498., 528., 509., 465., 518., 471., 478., 481., 509.,\n",
              "        505., 469., 499., 487., 513., 496., 521., 519., 506.]),\n",
              " array([1.00115942, 1.45109787, 1.90103632, 2.35097477, 2.80091321,\n",
              "        3.25085166, 3.70079011, 4.15072856, 4.60066701, 5.05060545,\n",
              "        5.5005439 , 5.95048235, 6.4004208 , 6.85035925, 7.30029769,\n",
              "        7.75023614, 8.20017459, 8.65011304, 9.10005148, 9.54998993,\n",
              "        9.99992838]),\n",
              " <a list of 20 Patch objects>)"
            ]
          },
          "metadata": {
            "tags": []
          },
          "execution_count": 55
        },
        {
          "output_type": "display_data",
          "data": {
            "image/png": "[encoded data removed]",
            "text/plain": [
              "<Figure size 432x288 with 1 Axes>"
            ]
          },
          "metadata": {
            "tags": []
          }
        }
      ]
    },
    {
      "cell_type": "code",
      "metadata": {
        "id": "UL9ijpac785z",
        "outputId": "ea0f79ee-f7e9-4e79-fd38-3498d93482e5",
        "colab": {
          "base_uri": "https://localhost:8080/",
          "height": 579
        }
      },
      "source": [
        "# Now to do it with sympy, it may seem like more code, but\n",
        "# in this case, we can use sympy to solve for X, instead of doing it ourselves.\n",
        "# This is a (trivial) example to generate a Unif(a, b) from Unif(0,1)\n",
        "\n",
        "from sympy.stats import Uniform\n",
        "\n",
        "x = Symbol(\"x\")\n",
        "a = Symbol(\"a\")\n",
        "b = Symbol(\"b\")\n",
        "\n",
        "# Define our target (uniform) distribution, and its cdf F_x\n",
        "D = Uniform(\"d\", a, b)\n",
        "F_x = cdf(D)(x)\n",
        "\n",
        "print(\"cdf\")\n",
        "pprint(F_x)\n",
        "\n",
        "# Solve for x using sympy\n",
        "u = Symbol(\"u\")\n",
        "expr = solve(Eq(F_x, u), x)[0]\n",
        "\n",
        "# Generate x from Unif(aa, bb) using Unif(0, 1)\n",
        "# You can generate x for any Unif(aa, bb)\n",
        "n = 10000\n",
        "aa, bb = 0, 10\n",
        "unifs = np.random.uniform(0, 1, n)\n",
        "\n",
        "f=lambdify([u, a, b], expr, \"numpy\")\n",
        "x_vals = f(unifs, aa, bb)\n",
        "\n",
        "# Plot results\n",
        "n_bins = 20\n",
        "plt.hist(x_vals, bins = n_bins)"
      ],
      "execution_count": 56,
      "outputs": [
        {
          "output_type": "stream",
          "text": [
            "cdf\n",
            "⎧  0     for a > x\n",
            "⎪                 \n",
            "⎪-a + x           \n",
            "⎨──────  for b ≥ x\n",
            "⎪-a + b           \n",
            "⎪                 \n",
            "⎩  1     otherwise\n"
          ],
          "name": "stdout"
        },
        {
          "output_type": "execute_result",
          "data": {
            "text/plain": [
              "(array([484., 538., 539., 476., 516., 502., 486., 477., 483., 493., 537.,\n",
              "        488., 518., 532., 496., 494., 498., 482., 459., 502.]),\n",
              " array([2.93499679e-04, 5.00266812e-01, 1.00024012e+00, 1.50021344e+00,\n",
              "        2.00018675e+00, 2.50016006e+00, 3.00013337e+00, 3.50010668e+00,\n",
              "        4.00008000e+00, 4.50005331e+00, 5.00002662e+00, 5.49999993e+00,\n",
              "        5.99997325e+00, 6.49994656e+00, 6.99991987e+00, 7.49989318e+00,\n",
              "        7.99986649e+00, 8.49983981e+00, 8.99981312e+00, 9.49978643e+00,\n",
              "        9.99975974e+00]),\n",
              " <a list of 20 Patch objects>)"
            ]
          },
          "metadata": {
            "tags": []
          },
          "execution_count": 56
        },
        {
          "output_type": "display_data",
          "data": {
            "image/png": "[encoded data removed]",
            "text/plain": [
              "<Figure size 432x288 with 1 Axes>"
            ]
          },
          "metadata": {
            "tags": []
          }
        }
      ]
    },
    {
      "cell_type": "code",
      "metadata": {
        "id": "yuCcUiJKxLIg",
        "outputId": "5f83d590-b641-4383-9937-07a8f77cff46",
        "colab": {
          "base_uri": "https://localhost:8080/",
          "height": 468
        }
      },
      "source": [
        "# Exponential Distribution\n",
        "\n",
        "n = 10000\n",
        "n_bins = 20\n",
        "lam = 1/3\n",
        "\n",
        "u = np.random.uniform(0, 1, n)\n",
        "x = (-1/lam)*np.log(1-u)\n",
        "\n",
        "plt.hist(x, bins = n_bins)"
      ],
      "execution_count": 57,
      "outputs": [
        {
          "output_type": "execute_result",
          "data": {
            "text/plain": [
              "(array([3.405e+03, 2.263e+03, 1.479e+03, 9.590e+02, 7.030e+02, 4.180e+02,\n",
              "        2.850e+02, 1.590e+02, 1.210e+02, 8.000e+01, 4.000e+01, 2.400e+01,\n",
              "        2.900e+01, 8.000e+00, 1.200e+01, 3.000e+00, 6.000e+00, 1.000e+00,\n",
              "        4.000e+00, 1.000e+00]),\n",
              " array([2.93716463e-04, 1.26047665e+00, 2.52065959e+00, 3.78084252e+00,\n",
              "        5.04102546e+00, 6.30120839e+00, 7.56139133e+00, 8.82157426e+00,\n",
              "        1.00817572e+01, 1.13419401e+01, 1.26021231e+01, 1.38623060e+01,\n",
              "        1.51224889e+01, 1.63826719e+01, 1.76428548e+01, 1.89030377e+01,\n",
              "        2.01632207e+01, 2.14234036e+01, 2.26835865e+01, 2.39437695e+01,\n",
              "        2.52039524e+01]),\n",
              " <a list of 20 Patch objects>)"
            ]
          },
          "metadata": {
            "tags": []
          },
          "execution_count": 57
        },
        {
          "output_type": "display_data",
          "data": {
            "image/png": "[encoded data removed]",
            "text/plain": [
              "<Figure size 432x288 with 1 Axes>"
            ]
          },
          "metadata": {
            "tags": []
          }
        }
      ]
    },
    {
      "cell_type": "code",
      "metadata": {
        "id": "foYeUn4Pxln4",
        "outputId": "37007ef3-087c-4e93-e44a-243c0ae980fb",
        "colab": {
          "base_uri": "https://localhost:8080/",
          "height": 431
        }
      },
      "source": [
        "# Weibull Distribution\n",
        "\n",
        "n = 10000\n",
        "n_bins = 20\n",
        "lam = 1/3\n",
        "beta = 2\n",
        "\n",
        "u = np.random.uniform(0, 1, n)\n",
        "x = (1/lam)*(-np.log(1-u))**(1/beta)\n",
        "\n",
        "plt.hist(x, bins = n_bins)"
      ],
      "execution_count": 58,
      "outputs": [
        {
          "output_type": "execute_result",
          "data": {
            "text/plain": [
              "(array([ 234.,  670.,  983., 1148., 1266., 1219., 1129.,  929.,  737.,\n",
              "         597.,  428.,  267.,  176.,  100.,   48.,   39.,   14.,    7.,\n",
              "           6.,    3.]),\n",
              " array([0.01574079, 0.46225393, 0.90876707, 1.35528021, 1.80179335,\n",
              "        2.24830648, 2.69481962, 3.14133276, 3.5878459 , 4.03435903,\n",
              "        4.48087217, 4.92738531, 5.37389845, 5.82041158, 6.26692472,\n",
              "        6.71343786, 7.159951  , 7.60646413, 8.05297727, 8.49949041,\n",
              "        8.94600355]),\n",
              " <a list of 20 Patch objects>)"
            ]
          },
          "metadata": {
            "tags": []
          },
          "execution_count": 58
        },
        {
          "output_type": "display_data",
          "data": {
            "image/png": "[encoded data removed]",
            "text/plain": [
              "<Figure size 432x288 with 1 Axes>"
            ]
          },
          "metadata": {
            "tags": []
          }
        }
      ]
    },
    {
      "cell_type": "code",
      "metadata": {
        "id": "QwpNdKL4BY22",
        "outputId": "95aead29-20cb-4d13-cc21-fd3d7460862c",
        "colab": {
          "base_uri": "https://localhost:8080/",
          "height": 416
        }
      },
      "source": [
        "# Triangular Distribution\n",
        "# An example of generating Tria(0,1,2)\n",
        "# We have to first solve for X, using the inverse cdf of Tria(0,1,2)\n",
        "\n",
        "def func(z):\n",
        "    ''' Triangular distribution Tria(0, 1, 2)\n",
        "    '''\n",
        "    if z < 0.5:\n",
        "        return np.sqrt((2*z))\n",
        "    else:\n",
        "        return 2 - np.sqrt(2*(1-z))\n",
        "\n",
        "n = 10000\n",
        "u = np.random.uniform(0, 1, n)\n",
        "x = np.vectorize(func)(u)\n",
        "\n",
        "plt.hist(x, bins=n_bins)"
      ],
      "execution_count": 59,
      "outputs": [
        {
          "output_type": "execute_result",
          "data": {
            "text/plain": [
              "(array([ 69., 168., 258., 358., 432., 569., 650., 729., 895., 940., 959.,\n",
              "        849., 749., 592., 547., 446., 332., 244., 150.,  64.]),\n",
              " array([0.01066688, 0.10950625, 0.20834563, 0.307185  , 0.40602437,\n",
              "        0.50486374, 0.60370311, 0.70254248, 0.80138185, 0.90022122,\n",
              "        0.99906059, 1.09789996, 1.19673933, 1.2955787 , 1.39441807,\n",
              "        1.49325745, 1.59209682, 1.69093619, 1.78977556, 1.88861493,\n",
              "        1.9874543 ]),\n",
              " <a list of 20 Patch objects>)"
            ]
          },
          "metadata": {
            "tags": []
          },
          "execution_count": 59
        },
        {
          "output_type": "display_data",
          "data": {
            "image/png": "[encoded data removed]",
            "text/plain": [
              "<Figure size 432x288 with 1 Axes>"
            ]
          },
          "metadata": {
            "tags": []
          }
        }
      ]
    },
    {
      "cell_type": "code",
      "metadata": {
        "id": "0VXNwY5p3fw1",
        "outputId": "4f82c1ad-11c3-4495-bf4c-527656024f5c",
        "colab": {
          "base_uri": "https://localhost:8080/",
          "height": 431
        }
      },
      "source": [
        "# We can use sympy instead to generate from any Tria(a, b, c) \"directly\"\n",
        "# Using the cdf directly as we have done in the uniform distribution case\n",
        "# did not seem to work, so we will use the pdf instead, and compute the\n",
        "# cdf first, which produces it in peicewise form, that we can then use to\n",
        "# get an expression for X. A little long-winded, but it's a way to automate\n",
        "# the R.V generation for any Tria(a,b,c)\n",
        "\n",
        "# Triangular Distribution\n",
        "\n",
        "from sympy.stats import Triangular\n",
        "from sympy import nan\n",
        "\n",
        "n = 1000\n",
        "a, b, c = 0, 2, 1\n",
        "unifs = np.random.uniform(0, 1, n)\n",
        "\n",
        "x = Symbol(\"x\")\n",
        "u = Symbol(\"u\")\n",
        "\n",
        "# Define triangular distribution, and its pdf, and cdf\n",
        "D = Triangular(\"d\", a, b, c)\n",
        "\n",
        "pdf = density(D)(x)\n",
        "F_x = integrate(pdf, (x))\n",
        "print(F_x)\n",
        "\n",
        "# Solve for X\n",
        "eqn = Eq(F_x, u)\n",
        "expr = solve(eqn, x)\n",
        "\n",
        "# generate X's using uniforms\n",
        "xvals = []\n",
        "for uval in unifs:\n",
        "    for i in range(len(expr)):\n",
        "        ans = expr[i].subs({u: uval}).evalf()\n",
        "        xvals.append(ans)\n",
        "\n",
        "xvals = [xval for xval in xvals if xval != nan]\n",
        "xvals = np.array(xvals).astype(np.float64)\n",
        "\n",
        "\n",
        "# # Plot results\n",
        "n_bins = 20\n",
        "plt.hist(xvals, bins=n_bins)"
      ],
      "execution_count": 60,
      "outputs": [
        {
          "output_type": "stream",
          "text": [
            "Piecewise((0, x <= 0), (x**2/2, x < 1), (-x**2/2 + 2*x - 1, x <= 2), (1, True))\n"
          ],
          "name": "stdout"
        },
        {
          "output_type": "execute_result",
          "data": {
            "text/plain": [
              "(array([ 4., 19., 28., 45., 45., 45., 53., 67., 66., 93., 95., 81., 66.,\n",
              "        66., 60., 58., 40., 28., 23., 18.]),\n",
              " array([0.02057391, 0.11660299, 0.21263207, 0.30866116, 0.40469024,\n",
              "        0.50071932, 0.59674841, 0.69277749, 0.78880657, 0.88483565,\n",
              "        0.98086474, 1.07689382, 1.1729229 , 1.26895199, 1.36498107,\n",
              "        1.46101015, 1.55703924, 1.65306832, 1.7490974 , 1.84512649,\n",
              "        1.94115557]),\n",
              " <a list of 20 Patch objects>)"
            ]
          },
          "metadata": {
            "tags": []
          },
          "execution_count": 60
        },
        {
          "output_type": "display_data",
          "data": {
            "image/png": "[encoded data removed]",
            "text/plain": [
              "<Figure size 432x288 with 1 Axes>"
            ]
          },
          "metadata": {
            "tags": []
          }
        }
      ]
    },
    {
      "cell_type": "markdown",
      "metadata": {
        "id": "pZj__m787UpL"
      },
      "source": [
        "# **Discrete Distributions**"
      ]
    },
    {
      "cell_type": "code",
      "metadata": {
        "id": "G27lUQB9C9Bs",
        "outputId": "532377a0-9342-45d9-fd41-0bf9a9b39ca8",
        "colab": {
          "base_uri": "https://localhost:8080/",
          "height": 376
        }
      },
      "source": [
        "# Bernoulli Distribution\n",
        "\n",
        "def func(z, p):\n",
        "    if z <= 1-p:\n",
        "        return 0\n",
        "    else:\n",
        "        return 1\n",
        "\n",
        "n = 10000\n",
        "p = 0.75\n",
        "u = np.random.uniform(0, 1, n)\n",
        "x = np.vectorize(func)(u, p=p)\n",
        "\n",
        "plt.hist(x, bins = n_bins)"
      ],
      "execution_count": 61,
      "outputs": [
        {
          "output_type": "execute_result",
          "data": {
            "text/plain": [
              "(array([2482.,    0.,    0.,    0.,    0.,    0.,    0.,    0.,    0.,\n",
              "           0.,    0.,    0.,    0.,    0.,    0.,    0.,    0.,    0.,\n",
              "           0., 7518.]),\n",
              " array([0.  , 0.05, 0.1 , 0.15, 0.2 , 0.25, 0.3 , 0.35, 0.4 , 0.45, 0.5 ,\n",
              "        0.55, 0.6 , 0.65, 0.7 , 0.75, 0.8 , 0.85, 0.9 , 0.95, 1.  ]),\n",
              " <a list of 20 Patch objects>)"
            ]
          },
          "metadata": {
            "tags": []
          },
          "execution_count": 61
        },
        {
          "output_type": "display_data",
          "data": {
            "image/png": "[encoded data removed]",
            "text/plain": [
              "<Figure size 432x288 with 1 Axes>"
            ]
          },
          "metadata": {
            "tags": []
          }
        }
      ]
    },
    {
      "cell_type": "code",
      "metadata": {
        "id": "n6o3lVZTD4NE",
        "outputId": "69e31eee-3955-44bb-ad40-17db1cff7ccf",
        "colab": {
          "base_uri": "https://localhost:8080/",
          "height": 394
        }
      },
      "source": [
        "# Geometric Distribution\n",
        "\n",
        "# Method 1:\n",
        "# X = min[k: 1-q**k >= U] = ceil(1-U) / ceil(1-p) = ln(U) / ceil(1-p)\n",
        "\n",
        "def func(u, q):\n",
        "    k = 1\n",
        "    while True:\n",
        "        if 1 - q**k >= u:\n",
        "            return k\n",
        "        k += 1\n",
        "    \n",
        "n = 100\n",
        "p = 0.3\n",
        "q = 1-p\n",
        "unifs = np.random.uniform(0, 1, n)\n",
        "x = np.vectorize(func)(u, q)\n",
        "\n",
        "plt.hist(x, bins=n_bins)"
      ],
      "execution_count": 62,
      "outputs": [
        {
          "output_type": "execute_result",
          "data": {
            "text/plain": [
              "(array([5.030e+03, 2.514e+03, 7.420e+02, 8.410e+02, 2.600e+02, 2.970e+02,\n",
              "        1.590e+02, 4.600e+01, 5.500e+01, 1.300e+01, 2.200e+01, 1.200e+01,\n",
              "        2.000e+00, 2.000e+00, 1.000e+00, 2.000e+00, 1.000e+00, 0.000e+00,\n",
              "        0.000e+00, 1.000e+00]),\n",
              " array([ 1. ,  2.6,  4.2,  5.8,  7.4,  9. , 10.6, 12.2, 13.8, 15.4, 17. ,\n",
              "        18.6, 20.2, 21.8, 23.4, 25. , 26.6, 28.2, 29.8, 31.4, 33. ]),\n",
              " <a list of 20 Patch objects>)"
            ]
          },
          "metadata": {
            "tags": []
          },
          "execution_count": 62
        },
        {
          "output_type": "display_data",
          "data": {
            "image/png": "[encoded data removed]",
            "text/plain": [
              "<Figure size 432x288 with 1 Axes>"
            ]
          },
          "metadata": {
            "tags": []
          }
        }
      ]
    },
    {
      "cell_type": "code",
      "metadata": {
        "id": "iOdy5esz5Jf7",
        "outputId": "e07354d0-ab19-4523-88cf-c431413c2d10",
        "colab": {
          "base_uri": "https://localhost:8080/",
          "height": 357
        }
      },
      "source": [
        "# Geometric Distribution\n",
        "\n",
        "# Method 2:\n",
        "# Count number of trials until U_i <= p\n",
        "\n",
        "def func(r, p):\n",
        "    num_trials = 1\n",
        "    while True:\n",
        "        unif = np.random.uniform()\n",
        "        if unif <= p:\n",
        "            return num_trials\n",
        "        num_trials += 1\n",
        "    \n",
        "n = 100\n",
        "p = 0.3\n",
        "r = range(n)\n",
        "x = np.vectorize(func)(r, p)\n",
        "\n",
        "plt.hist(x, bins=n_bins)"
      ],
      "execution_count": 63,
      "outputs": [
        {
          "output_type": "execute_result",
          "data": {
            "text/plain": [
              "(array([25., 23., 18.,  0., 14.,  6.,  0.,  3.,  4.,  0.,  1.,  1.,  2.,\n",
              "         0.,  1.,  1.,  0.,  0.,  0.,  1.]),\n",
              " array([ 1. ,  1.7,  2.4,  3.1,  3.8,  4.5,  5.2,  5.9,  6.6,  7.3,  8. ,\n",
              "         8.7,  9.4, 10.1, 10.8, 11.5, 12.2, 12.9, 13.6, 14.3, 15. ]),\n",
              " <a list of 20 Patch objects>)"
            ]
          },
          "metadata": {
            "tags": []
          },
          "execution_count": 63
        },
        {
          "output_type": "display_data",
          "data": {
            "image/png": "[encoded data removed]",
            "text/plain": [
              "<Figure size 432x288 with 1 Axes>"
            ]
          },
          "metadata": {
            "tags": []
          }
        }
      ]
    },
    {
      "cell_type": "code",
      "metadata": {
        "id": "JdaDeicv7IuH"
      },
      "source": [
        "# TBD Poisson Distribution"
      ],
      "execution_count": null,
      "outputs": []
    },
    {
      "cell_type": "code",
      "metadata": {
        "id": "jr_ORCmN7sbQ"
      },
      "source": [
        "# TBD Generating from unknown distributions"
      ],
      "execution_count": null,
      "outputs": []
    }
  ]
}