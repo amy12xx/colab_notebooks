{
  "nbformat": 4,
  "nbformat_minor": 0,
  "metadata": {
    "colab": {
      "name": "Random Variate Generation using Inverse Transform Theorem.ipynb",
      "provenance": [],
      "collapsed_sections": []
    },
    "kernelspec": {
      "name": "python3",
      "display_name": "Python 3"
    }
  },
  "cells": [
    {
      "cell_type": "markdown",
      "metadata": {
        "id": "JNZiCYX3704a"
      },
      "source": [
        "Notebook to demonstrate random variate generation using the inverse transform theorem. ITT generates pseudo random numbers from any distribution given its cdf, and uniform samples. \n",
        "\n",
        "https://en.wikipedia.org/wiki/Inverse_transform_sampling\n"
      ]
    },
    {
      "cell_type": "code",
      "metadata": {
        "id": "4jazaGE-snnw",
        "outputId": "61f61051-1a22-4ef9-e8f0-8a23b680e99c",
        "colab": {
          "base_uri": "https://localhost:8080/",
          "height": 294
        }
      },
      "source": [
        "# requires sympy==1.6.2\n",
        "!pip install sympy==1.6.2"
      ],
      "execution_count": null,
      "outputs": [
        {
          "output_type": "stream",
          "text": [
            "Collecting sympy==1.6.2\n",
            "\u001b[?25l  Downloading https://files.pythonhosted.org/packages/e0/1f/8cbbf698e853019ac3dc5d60ca8f6be4ace4542b2f05f7b62949617fc98e/sympy-1.6.2-py3-none-any.whl (5.8MB)\n",
            "\u001b[K     |████████████████████████████████| 5.8MB 2.4MB/s \n",
            "\u001b[?25hRequirement already satisfied: mpmath>=0.19 in /usr/local/lib/python3.6/dist-packages (from sympy==1.6.2) (1.1.0)\n",
            "Installing collected packages: sympy\n",
            "  Found existing installation: sympy 1.1.1\n",
            "    Uninstalling sympy-1.1.1:\n",
            "      Successfully uninstalled sympy-1.1.1\n",
            "Successfully installed sympy-1.6.2\n"
          ],
          "name": "stdout"
        },
        {
          "output_type": "display_data",
          "data": {
            "application/vnd.colab-display-data+json": {
              "pip_warning": {
                "packages": [
                  "sympy"
                ]
              }
            }
          },
          "metadata": {
            "tags": []
          }
        }
      ]
    },
    {
      "cell_type": "code",
      "metadata": {
        "id": "MbdlH1w6tUxd",
        "outputId": "255a3c0b-f09e-465a-cb24-c5afbc604476",
        "colab": {
          "base_uri": "https://localhost:8080/",
          "height": 36
        }
      },
      "source": [
        "import sympy\n",
        "sympy.__version__"
      ],
      "execution_count": null,
      "outputs": [
        {
          "output_type": "execute_result",
          "data": {
            "application/vnd.google.colaboratory.intrinsic+json": {
              "type": "string"
            },
            "text/plain": [
              "'1.6.2'"
            ]
          },
          "metadata": {
            "tags": []
          },
          "execution_count": 1
        }
      ]
    },
    {
      "cell_type": "code",
      "metadata": {
        "id": "36M5Qd1Fvfy0"
      },
      "source": [
        "import numpy as np\n",
        "import matplotlib.pyplot as plt\n",
        "from sympy.stats import cdf, density\n",
        "from sympy import Symbol, pprint, Eq, solve, solveset\n",
        "from sympy.utilities.lambdify import lambdify\n",
        "from sympy import integrate"
      ],
      "execution_count": null,
      "outputs": []
    },
    {
      "cell_type": "code",
      "metadata": {
        "id": "t_k2uYyZvjEp"
      },
      "source": [
        "np.random.seed(42)"
      ],
      "execution_count": null,
      "outputs": []
    },
    {
      "cell_type": "markdown",
      "metadata": {
        "id": "Aw7nBYyP7hJo"
      },
      "source": [
        "# **Continuous Distributions**"
      ]
    },
    {
      "cell_type": "code",
      "metadata": {
        "id": "PpgEKVmXvnD1",
        "outputId": "d56125e5-b774-465c-e8fc-e6e7465250c7",
        "colab": {
          "base_uri": "https://localhost:8080/",
          "height": 413
        }
      },
      "source": [
        "# Uniform Distribution\n",
        "# Specific example for Unif(0, 10)\n",
        "\n",
        "n = 10000\n",
        "n_bins = 20\n",
        "a, b = 1, 10\n",
        "\n",
        "u = np.random.uniform(0, 1, n)\n",
        "x = a + (b-a)*u\n",
        "\n",
        "plt.hist(x, bins = n_bins)"
      ],
      "execution_count": null,
      "outputs": [
        {
          "output_type": "execute_result",
          "data": {
            "text/plain": [
              "(array([493., 538., 503., 509., 501., 507., 503., 503., 523., 495., 528.,\n",
              "        505., 493., 512., 471., 451., 515., 487., 487., 476.]),\n",
              " array([1.00010471, 1.44997243, 1.89984015, 2.34970786, 2.79957558,\n",
              "        3.2494433 , 3.69931102, 4.14917873, 4.59904645, 5.04891417,\n",
              "        5.49878189, 5.9486496 , 6.39851732, 6.84838504, 7.29825276,\n",
              "        7.74812047, 8.19798819, 8.64785591, 9.09772362, 9.54759134,\n",
              "        9.99745906]),\n",
              " <a list of 20 Patch objects>)"
            ]
          },
          "metadata": {
            "tags": []
          },
          "execution_count": 4
        },
        {
          "output_type": "display_data",
          "data": {
            "image/png": "[encoded data removed]",
            "text/plain": [
              "<Figure size 432x288 with 1 Axes>"
            ]
          },
          "metadata": {
            "tags": [],
            "needs_background": "light"
          }
        }
      ]
    },
    {
      "cell_type": "code",
      "metadata": {
        "id": "UL9ijpac785z",
        "outputId": "aa713086-12ee-4b4d-fb66-f7ce896bcba0",
        "colab": {
          "base_uri": "https://localhost:8080/",
          "height": 579
        }
      },
      "source": [
        "# Using sympy to generate uniforms, from any Unif(a,b)\n",
        "from sympy.stats import Uniform\n",
        "\n",
        "x = Symbol(\"x\")\n",
        "a = Symbol(\"a\")\n",
        "b = Symbol(\"b\")\n",
        "\n",
        "# Define uniform distribution, and its cdf F_x\n",
        "D = Uniform(\"d\", a, b)\n",
        "F_x = cdf(D)(x)\n",
        "\n",
        "print(\"cdf\")\n",
        "pprint(F_x)\n",
        "\n",
        "# Solve for x\n",
        "u = Symbol(\"u\")\n",
        "expr = solve(Eq(F_x, u), x)[0]\n",
        "\n",
        "# Generate x from Unif(aa, bb) using Unif(0, 1)\n",
        "# You can generate x for any Unif(aa, bb)\n",
        "n = 10000\n",
        "aa, bb = 0, 10\n",
        "unifs = np.random.uniform(0, 1, n)\n",
        "\n",
        "f=lambdify([u, a, b], expr, \"numpy\")\n",
        "x_vals = f(unifs, aa, bb)\n",
        "\n",
        "# Plot results\n",
        "n_bins = 20\n",
        "plt.hist(x_vals, bins = n_bins)"
      ],
      "execution_count": null,
      "outputs": [
        {
          "output_type": "stream",
          "text": [
            "cdf\n",
            "⎧  0     for a > x\n",
            "⎪                 \n",
            "⎪-a + x           \n",
            "⎨──────  for b ≥ x\n",
            "⎪-a + b           \n",
            "⎪                 \n",
            "⎩  1     otherwise\n"
          ],
          "name": "stdout"
        },
        {
          "output_type": "execute_result",
          "data": {
            "text/plain": [
              "(array([484., 516., 496., 503., 469., 480., 505., 493., 507., 511., 502.,\n",
              "        518., 480., 508., 501., 522., 515., 533., 486., 471.]),\n",
              " array([2.70122357e-03, 5.02411101e-01, 1.00212098e+00, 1.50183086e+00,\n",
              "        2.00154073e+00, 2.50125061e+00, 3.00096049e+00, 3.50067037e+00,\n",
              "        4.00038024e+00, 4.50009012e+00, 4.99980000e+00, 5.49950988e+00,\n",
              "        5.99921975e+00, 6.49892963e+00, 6.99863951e+00, 7.49834939e+00,\n",
              "        7.99805926e+00, 8.49776914e+00, 8.99747902e+00, 9.49718890e+00,\n",
              "        9.99689877e+00]),\n",
              " <a list of 20 Patch objects>)"
            ]
          },
          "metadata": {
            "tags": []
          },
          "execution_count": 11
        },
        {
          "output_type": "display_data",
          "data": {
            "image/png": "[encoded data removed]",
            "text/plain": [
              "<Figure size 432x288 with 1 Axes>"
            ]
          },
          "metadata": {
            "tags": [],
            "needs_background": "light"
          }
        }
      ]
    },
    {
      "cell_type": "code",
      "metadata": {
        "id": "yuCcUiJKxLIg",
        "outputId": "7f254e00-5705-4988-f712-1608ea458cbc",
        "colab": {
          "base_uri": "https://localhost:8080/",
          "height": 468
        }
      },
      "source": [
        "# Exponential Distribution\n",
        "\n",
        "n = 10000\n",
        "n_bins = 20\n",
        "lam = 1/3\n",
        "\n",
        "u = np.random.uniform(0, 1, n)\n",
        "x = (-1/lam)*np.log(1-u)\n",
        "\n",
        "plt.hist(x, bins = n_bins)"
      ],
      "execution_count": null,
      "outputs": [
        {
          "output_type": "execute_result",
          "data": {
            "text/plain": [
              "(array([3.634e+03, 2.313e+03, 1.489e+03, 9.700e+02, 6.010e+02, 3.730e+02,\n",
              "        2.420e+02, 1.270e+02, 7.900e+01, 6.300e+01, 4.900e+01, 2.000e+01,\n",
              "        1.100e+01, 1.100e+01, 6.000e+00, 2.000e+00, 1.000e+00, 1.000e+00,\n",
              "        3.000e+00, 5.000e+00]),\n",
              " array([3.90059169e-04, 1.34856910e+00, 2.69674813e+00, 4.04492717e+00,\n",
              "        5.39310621e+00, 6.74128524e+00, 8.08946428e+00, 9.43764332e+00,\n",
              "        1.07858224e+01, 1.21340014e+01, 1.34821804e+01, 1.48303595e+01,\n",
              "        1.61785385e+01, 1.75267175e+01, 1.88748966e+01, 2.02230756e+01,\n",
              "        2.15712546e+01, 2.29194337e+01, 2.42676127e+01, 2.56157918e+01,\n",
              "        2.69639708e+01]),\n",
              " <a list of 20 Patch objects>)"
            ]
          },
          "metadata": {
            "tags": []
          },
          "execution_count": 12
        },
        {
          "output_type": "display_data",
          "data": {
            "image/png": "[encoded data removed]",
            "text/plain": [
              "<Figure size 432x288 with 1 Axes>"
            ]
          },
          "metadata": {
            "tags": [],
            "needs_background": "light"
          }
        }
      ]
    },
    {
      "cell_type": "code",
      "metadata": {
        "id": "foYeUn4Pxln4",
        "outputId": "4f59890c-7b37-4b6c-9a01-7399ac7293b7",
        "colab": {
          "base_uri": "https://localhost:8080/",
          "height": 450
        }
      },
      "source": [
        "# Weibull Distribution\n",
        "\n",
        "n = 10000\n",
        "n_bins = 20\n",
        "lam = 1/3\n",
        "beta = 2\n",
        "\n",
        "u = np.random.uniform(0, 1, n)\n",
        "x = (1/lam)*(-np.log(1-u))**(1/beta)\n",
        "\n",
        "plt.hist(x, bins = n_bins)"
      ],
      "execution_count": null,
      "outputs": [
        {
          "output_type": "execute_result",
          "data": {
            "text/plain": [
              "(array([3.470e+02, 8.450e+02, 1.262e+03, 1.407e+03, 1.371e+03, 1.300e+03,\n",
              "        1.049e+03, 8.530e+02, 6.250e+02, 4.200e+02, 2.460e+02, 1.410e+02,\n",
              "        7.900e+01, 2.500e+01, 1.700e+01, 6.000e+00, 4.000e+00, 2.000e+00,\n",
              "        0.000e+00, 1.000e+00]),\n",
              " array([ 0.03405139,  0.54633408,  1.05861677,  1.57089946,  2.08318215,\n",
              "         2.59546483,  3.10774752,  3.62003021,  4.1323129 ,  4.64459559,\n",
              "         5.15687828,  5.66916097,  6.18144366,  6.69372634,  7.20600903,\n",
              "         7.71829172,  8.23057441,  8.7428571 ,  9.25513979,  9.76742248,\n",
              "        10.27970516]),\n",
              " <a list of 20 Patch objects>)"
            ]
          },
          "metadata": {
            "tags": []
          },
          "execution_count": 13
        },
        {
          "output_type": "display_data",
          "data": {
            "image/png": "[encoded data removed]",
            "text/plain": [
              "<Figure size 432x288 with 1 Axes>"
            ]
          },
          "metadata": {
            "tags": [],
            "needs_background": "light"
          }
        }
      ]
    },
    {
      "cell_type": "code",
      "metadata": {
        "id": "QwpNdKL4BY22",
        "outputId": "21c8092f-65df-4458-ca0e-0b4fa0e9e42a",
        "colab": {
          "base_uri": "https://localhost:8080/",
          "height": 413
        }
      },
      "source": [
        "def func(z):\n",
        "    ''' Triangular distribution Tria(0, 1, 2)\n",
        "    '''\n",
        "    if z < 0.5:\n",
        "        return np.sqrt((2*z))\n",
        "    else:\n",
        "        return 2 - np.sqrt(2*(1-z))\n",
        "\n",
        "n = 10000\n",
        "u = np.random.uniform(0, 1, n)\n",
        "x = np.vectorize(func)(u)\n",
        "\n",
        "plt.hist(x, bins=n_bins)"
      ],
      "execution_count": null,
      "outputs": [
        {
          "output_type": "execute_result",
          "data": {
            "text/plain": [
              "(array([ 60., 157., 238., 370., 460., 586., 652., 775., 803., 930., 971.,\n",
              "        858., 761., 629., 567., 403., 320., 260., 152.,  48.]),\n",
              " array([0.00766159, 0.10693191, 0.20620224, 0.30547256, 0.40474289,\n",
              "        0.50401321, 0.60328354, 0.70255386, 0.80182419, 0.90109451,\n",
              "        1.00036483, 1.09963516, 1.19890548, 1.29817581, 1.39744613,\n",
              "        1.49671646, 1.59598678, 1.69525711, 1.79452743, 1.89379776,\n",
              "        1.99306808]),\n",
              " <a list of 20 Patch objects>)"
            ]
          },
          "metadata": {
            "tags": []
          },
          "execution_count": 14
        },
        {
          "output_type": "display_data",
          "data": {
            "image/png": "[encoded data removed]",
            "text/plain": [
              "<Figure size 432x288 with 1 Axes>"
            ]
          },
          "metadata": {
            "tags": [],
            "needs_background": "light"
          }
        }
      ]
    },
    {
      "cell_type": "code",
      "metadata": {
        "id": "0VXNwY5p3fw1",
        "outputId": "de923443-52bc-4a45-b276-7a8c57b9bf6a",
        "colab": {
          "base_uri": "https://localhost:8080/",
          "height": 431
        }
      },
      "source": [
        "# Using sympy to generate any Tria(a, b, c)\n",
        "# Triangular Distribution\n",
        "\n",
        "from sympy.stats import Triangular\n",
        "from sympy import nan\n",
        "\n",
        "n = 1000\n",
        "a, b, c = 0, 2, 1\n",
        "unifs = np.random.uniform(0, 1, n)\n",
        "\n",
        "x = Symbol(\"x\")\n",
        "u = Symbol(\"u\")\n",
        "\n",
        "# Define triangular distribution, and its pdf, and cdf\n",
        "D = Triangular(\"d\", a, b, c)\n",
        "\n",
        "pdf = density(D)(x)\n",
        "F_x = integrate(pdf, (x))\n",
        "print(F_x)\n",
        "\n",
        "# Solve for X\n",
        "eqn = Eq(F_x, u)\n",
        "expr = solve(eqn, x)\n",
        "\n",
        "# generate X's using uniforms\n",
        "xvals = []\n",
        "for uval in unifs:\n",
        "    for i in range(len(expr)):\n",
        "        ans = expr[i].subs({u: uval}).evalf()\n",
        "        xvals.append(ans)\n",
        "\n",
        "xvals = [xval for xval in xvals if xval != nan]\n",
        "xvals = np.array(xvals).astype(np.float64)\n",
        "\n",
        "\n",
        "# # Plot results\n",
        "n_bins = 20\n",
        "plt.hist(xvals, bins=n_bins)"
      ],
      "execution_count": null,
      "outputs": [
        {
          "output_type": "stream",
          "text": [
            "Piecewise((0, x <= 0), (x**2/2, x < 1), (-x**2/2 + 2*x - 1, x <= 2), (1, True))\n"
          ],
          "name": "stdout"
        },
        {
          "output_type": "execute_result",
          "data": {
            "text/plain": [
              "(array([15., 28., 30., 47., 58., 60., 66., 72., 82., 85., 92., 77., 59.,\n",
              "        60., 45., 45., 38., 23., 15.,  3.]),\n",
              " array([0.09624991, 0.1902493 , 0.28424868, 0.37824806, 0.47224744,\n",
              "        0.56624683, 0.66024621, 0.75424559, 0.84824497, 0.94224436,\n",
              "        1.03624374, 1.13024312, 1.2242425 , 1.31824189, 1.41224127,\n",
              "        1.50624065, 1.60024003, 1.69423942, 1.7882388 , 1.88223818,\n",
              "        1.97623756]),\n",
              " <a list of 20 Patch objects>)"
            ]
          },
          "metadata": {
            "tags": []
          },
          "execution_count": 15
        },
        {
          "output_type": "display_data",
          "data": {
            "image/png": "[encoded data removed]",
            "text/plain": [
              "<Figure size 432x288 with 1 Axes>"
            ]
          },
          "metadata": {
            "tags": [],
            "needs_background": "light"
          }
        }
      ]
    },
    {
      "cell_type": "markdown",
      "metadata": {
        "id": "pZj__m787UpL"
      },
      "source": [
        "# **Discrete Distributions**"
      ]
    },
    {
      "cell_type": "code",
      "metadata": {
        "id": "G27lUQB9C9Bs",
        "outputId": "b46c08ab-3b01-4ffe-fbbe-a20ab0b412a4",
        "colab": {
          "base_uri": "https://localhost:8080/",
          "height": 376
        }
      },
      "source": [
        "# Bernoulli Distribution\n",
        "\n",
        "def func(z, p):\n",
        "    if z <= 1-p:\n",
        "        return 0\n",
        "    else:\n",
        "        return 1\n",
        "\n",
        "n = 10000\n",
        "p = 0.75\n",
        "u = np.random.uniform(0, 1, n)\n",
        "x = np.vectorize(func)(u, p=p)\n",
        "\n",
        "plt.hist(x, bins = n_bins)"
      ],
      "execution_count": null,
      "outputs": [
        {
          "output_type": "execute_result",
          "data": {
            "text/plain": [
              "(array([2525.,    0.,    0.,    0.,    0.,    0.,    0.,    0.,    0.,\n",
              "           0.,    0.,    0.,    0.,    0.,    0.,    0.,    0.,    0.,\n",
              "           0., 7475.]),\n",
              " array([0.  , 0.05, 0.1 , 0.15, 0.2 , 0.25, 0.3 , 0.35, 0.4 , 0.45, 0.5 ,\n",
              "        0.55, 0.6 , 0.65, 0.7 , 0.75, 0.8 , 0.85, 0.9 , 0.95, 1.  ]),\n",
              " <a list of 20 Patch objects>)"
            ]
          },
          "metadata": {
            "tags": []
          },
          "execution_count": 16
        },
        {
          "output_type": "display_data",
          "data": {
            "image/png": "[encoded data removed]",
            "text/plain": [
              "<Figure size 432x288 with 1 Axes>"
            ]
          },
          "metadata": {
            "tags": [],
            "needs_background": "light"
          }
        }
      ]
    },
    {
      "cell_type": "code",
      "metadata": {
        "id": "n6o3lVZTD4NE",
        "outputId": "dd10d036-bfc4-47d1-efe0-ba1e22f519d0",
        "colab": {
          "base_uri": "https://localhost:8080/",
          "height": 394
        }
      },
      "source": [
        "# Geometric Distribution\n",
        "\n",
        "# Method 1:\n",
        "# X = min[k: 1-q**k >= U] = ceil(1-U) / ceil(1-p) = ln(U) / ceil(1-p)\n",
        "\n",
        "def func(u, q):\n",
        "    k = 1\n",
        "    while True:\n",
        "        if 1 - q**k >= u:\n",
        "            return k\n",
        "        k += 1\n",
        "    \n",
        "n = 100\n",
        "p = 0.3\n",
        "q = 1-p\n",
        "unifs = np.random.uniform(0, 1, n)\n",
        "x = np.vectorize(func)(u, q)\n",
        "\n",
        "plt.hist(x, bins=n_bins)"
      ],
      "execution_count": null,
      "outputs": [
        {
          "output_type": "execute_result",
          "data": {
            "text/plain": [
              "(array([5.184e+03, 1.464e+03, 1.016e+03, 7.100e+02, 5.060e+02, 3.260e+02,\n",
              "        2.380e+02, 1.800e+02, 1.220e+02, 8.300e+01, 8.700e+01, 2.600e+01,\n",
              "        1.200e+01, 1.600e+01, 1.200e+01, 5.000e+00, 4.000e+00, 2.000e+00,\n",
              "        3.000e+00, 4.000e+00]),\n",
              " array([ 1. ,  2.1,  3.2,  4.3,  5.4,  6.5,  7.6,  8.7,  9.8, 10.9, 12. ,\n",
              "        13.1, 14.2, 15.3, 16.4, 17.5, 18.6, 19.7, 20.8, 21.9, 23. ]),\n",
              " <a list of 20 Patch objects>)"
            ]
          },
          "metadata": {
            "tags": []
          },
          "execution_count": 19
        },
        {
          "output_type": "display_data",
          "data": {
            "image/png": "[encoded data removed]",
            "text/plain": [
              "<Figure size 432x288 with 1 Axes>"
            ]
          },
          "metadata": {
            "tags": [],
            "needs_background": "light"
          }
        }
      ]
    },
    {
      "cell_type": "code",
      "metadata": {
        "id": "iOdy5esz5Jf7",
        "outputId": "ddf8fdba-e39d-4002-be6e-9b6fc7d06199",
        "colab": {
          "base_uri": "https://localhost:8080/",
          "height": 357
        }
      },
      "source": [
        "# Geometric Distribution\n",
        "\n",
        "# Method 2:\n",
        "# Count number of trials until U_i <= p\n",
        "\n",
        "def func(r, p):\n",
        "    num_trials = 1\n",
        "    while True:\n",
        "        unif = np.random.uniform()\n",
        "        if unif <= p:\n",
        "            return num_trials\n",
        "        num_trials += 1\n",
        "    \n",
        "n = 100\n",
        "p = 0.3\n",
        "r = range(n)\n",
        "x = np.vectorize(func)(r, p)\n",
        "\n",
        "plt.hist(x, bins=n_bins)"
      ],
      "execution_count": null,
      "outputs": [
        {
          "output_type": "execute_result",
          "data": {
            "text/plain": [
              "(array([35., 23., 13.,  9.,  4.,  5.,  2.,  4.,  2.,  0.,  1.,  1.,  0.,\n",
              "         0.,  0.,  0.,  0.,  0.,  0.,  1.]),\n",
              " array([ 1. ,  1.9,  2.8,  3.7,  4.6,  5.5,  6.4,  7.3,  8.2,  9.1, 10. ,\n",
              "        10.9, 11.8, 12.7, 13.6, 14.5, 15.4, 16.3, 17.2, 18.1, 19. ]),\n",
              " <a list of 20 Patch objects>)"
            ]
          },
          "metadata": {
            "tags": []
          },
          "execution_count": 23
        },
        {
          "output_type": "display_data",
          "data": {
            "image/png": "[encoded data removed]",
            "text/plain": [
              "<Figure size 432x288 with 1 Axes>"
            ]
          },
          "metadata": {
            "tags": [],
            "needs_background": "light"
          }
        }
      ]
    },
    {
      "cell_type": "code",
      "metadata": {
        "id": "JdaDeicv7IuH"
      },
      "source": [
        "# TBD Poisson Distribution"
      ],
      "execution_count": null,
      "outputs": []
    },
    {
      "cell_type": "code",
      "metadata": {
        "id": "jr_ORCmN7sbQ"
      },
      "source": [
        "# TBD Generating from unknown distributions"
      ],
      "execution_count": null,
      "outputs": []
    }
  ]
}