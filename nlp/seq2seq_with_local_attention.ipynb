{
  "nbformat": 4,
  "nbformat_minor": 0,
  "metadata": {
    "colab": {
      "name": "seq2seq_with_local_attention.ipynb",
      "provenance": [],
      "collapsed_sections": []
    },
    "kernelspec": {
      "name": "python3",
      "display_name": "Python 3"
    },
    "accelerator": "GPU"
  },
  "cells": [
    {
      "cell_type": "markdown",
      "metadata": {
        "id": "yRooPBDZryc_",
        "colab_type": "text"
      },
      "source": [
        "Code to replicate sequence-to-sequence architecture, with Luong local attention (monotonic and predictive). If you find any issues with this implementation, please raise an issue. Thanks."
      ]
    },
    {
      "cell_type": "code",
      "metadata": {
        "id": "QbjOYeDG19w-",
        "colab_type": "code",
        "colab": {}
      },
      "source": [
        "# https://arxiv.org/pdf/1508.04025.pdf\n",
        "# https://lilianweng.github.io/lil-log/2018/06/24/attention-attention.html#a-family-of-attention-mechanisms\n",
        "# https://blog.floydhub.com/attention-mechanism/\n",
        "# https://github.com/spro/practical-pytorch/blob/master/seq2seq-translation/seq2seq-translation-batched.ipynb"
      ],
      "execution_count": null,
      "outputs": []
    },
    {
      "cell_type": "code",
      "metadata": {
        "id": "C415mHjozxCJ",
        "colab_type": "code",
        "colab": {}
      },
      "source": [
        "import torch\n",
        "import torch.nn as nn\n",
        "import torch.nn.functional as F\n",
        "import torch.optim as optim\n",
        "from torchtext import data\n",
        "from torchtext import datasets\n",
        "import re\n",
        "import spacy"
      ],
      "execution_count": null,
      "outputs": []
    },
    {
      "cell_type": "code",
      "metadata": {
        "id": "LW7g1PkVTTTC",
        "colab_type": "code",
        "colab": {}
      },
      "source": [
        "device = torch.device(\"cuda\" if torch.cuda.is_available() else \"cpu\")"
      ],
      "execution_count": null,
      "outputs": []
    },
    {
      "cell_type": "code",
      "metadata": {
        "id": "WrwzUsJuix3G",
        "colab_type": "code",
        "colab": {
          "base_uri": "https://localhost:8080/",
          "height": 35
        },
        "outputId": "75714d66-0503-477e-8d00-cc9a7e269f33"
      },
      "source": [
        "device"
      ],
      "execution_count": null,
      "outputs": [
        {
          "output_type": "execute_result",
          "data": {
            "text/plain": [
              "device(type='cuda')"
            ]
          },
          "metadata": {
            "tags": []
          },
          "execution_count": 4
        }
      ]
    },
    {
      "cell_type": "code",
      "metadata": {
        "id": "M9Ww8oigzSHo",
        "colab_type": "code",
        "colab": {
          "base_uri": "https://localhost:8080/",
          "height": 628
        },
        "outputId": "b63b07de-eea4-44f8-afa7-c8ee2ed0b9b6"
      },
      "source": [
        "!python -m spacy download de_core_news_sm"
      ],
      "execution_count": null,
      "outputs": [
        {
          "output_type": "stream",
          "text": [
            "Collecting de_core_news_sm==2.2.5\n",
            "\u001b[?25l  Downloading https://github.com/explosion/spacy-models/releases/download/de_core_news_sm-2.2.5/de_core_news_sm-2.2.5.tar.gz (14.9MB)\n",
            "\u001b[K     |████████████████████████████████| 14.9MB 1.2MB/s \n",
            "\u001b[?25hRequirement already satisfied: spacy>=2.2.2 in /usr/local/lib/python3.6/dist-packages (from de_core_news_sm==2.2.5) (2.2.4)\n",
            "Requirement already satisfied: thinc==7.4.0 in /usr/local/lib/python3.6/dist-packages (from spacy>=2.2.2->de_core_news_sm==2.2.5) (7.4.0)\n",
            "Requirement already satisfied: cymem<2.1.0,>=2.0.2 in /usr/local/lib/python3.6/dist-packages (from spacy>=2.2.2->de_core_news_sm==2.2.5) (2.0.3)\n",
            "Requirement already satisfied: preshed<3.1.0,>=3.0.2 in /usr/local/lib/python3.6/dist-packages (from spacy>=2.2.2->de_core_news_sm==2.2.5) (3.0.2)\n",
            "Requirement already satisfied: wasabi<1.1.0,>=0.4.0 in /usr/local/lib/python3.6/dist-packages (from spacy>=2.2.2->de_core_news_sm==2.2.5) (0.7.0)\n",
            "Requirement already satisfied: tqdm<5.0.0,>=4.38.0 in /usr/local/lib/python3.6/dist-packages (from spacy>=2.2.2->de_core_news_sm==2.2.5) (4.41.1)\n",
            "Requirement already satisfied: requests<3.0.0,>=2.13.0 in /usr/local/lib/python3.6/dist-packages (from spacy>=2.2.2->de_core_news_sm==2.2.5) (2.23.0)\n",
            "Requirement already satisfied: setuptools in /usr/local/lib/python3.6/dist-packages (from spacy>=2.2.2->de_core_news_sm==2.2.5) (49.1.0)\n",
            "Requirement already satisfied: blis<0.5.0,>=0.4.0 in /usr/local/lib/python3.6/dist-packages (from spacy>=2.2.2->de_core_news_sm==2.2.5) (0.4.1)\n",
            "Requirement already satisfied: plac<1.2.0,>=0.9.6 in /usr/local/lib/python3.6/dist-packages (from spacy>=2.2.2->de_core_news_sm==2.2.5) (1.1.3)\n",
            "Requirement already satisfied: numpy>=1.15.0 in /usr/local/lib/python3.6/dist-packages (from spacy>=2.2.2->de_core_news_sm==2.2.5) (1.18.5)\n",
            "Requirement already satisfied: srsly<1.1.0,>=1.0.2 in /usr/local/lib/python3.6/dist-packages (from spacy>=2.2.2->de_core_news_sm==2.2.5) (1.0.2)\n",
            "Requirement already satisfied: murmurhash<1.1.0,>=0.28.0 in /usr/local/lib/python3.6/dist-packages (from spacy>=2.2.2->de_core_news_sm==2.2.5) (1.0.2)\n",
            "Requirement already satisfied: catalogue<1.1.0,>=0.0.7 in /usr/local/lib/python3.6/dist-packages (from spacy>=2.2.2->de_core_news_sm==2.2.5) (1.0.0)\n",
            "Requirement already satisfied: idna<3,>=2.5 in /usr/local/lib/python3.6/dist-packages (from requests<3.0.0,>=2.13.0->spacy>=2.2.2->de_core_news_sm==2.2.5) (2.10)\n",
            "Requirement already satisfied: certifi>=2017.4.17 in /usr/local/lib/python3.6/dist-packages (from requests<3.0.0,>=2.13.0->spacy>=2.2.2->de_core_news_sm==2.2.5) (2020.6.20)\n",
            "Requirement already satisfied: urllib3!=1.25.0,!=1.25.1,<1.26,>=1.21.1 in /usr/local/lib/python3.6/dist-packages (from requests<3.0.0,>=2.13.0->spacy>=2.2.2->de_core_news_sm==2.2.5) (1.24.3)\n",
            "Requirement already satisfied: chardet<4,>=3.0.2 in /usr/local/lib/python3.6/dist-packages (from requests<3.0.0,>=2.13.0->spacy>=2.2.2->de_core_news_sm==2.2.5) (3.0.4)\n",
            "Requirement already satisfied: importlib-metadata>=0.20; python_version < \"3.8\" in /usr/local/lib/python3.6/dist-packages (from catalogue<1.1.0,>=0.0.7->spacy>=2.2.2->de_core_news_sm==2.2.5) (1.7.0)\n",
            "Requirement already satisfied: zipp>=0.5 in /usr/local/lib/python3.6/dist-packages (from importlib-metadata>=0.20; python_version < \"3.8\"->catalogue<1.1.0,>=0.0.7->spacy>=2.2.2->de_core_news_sm==2.2.5) (3.1.0)\n",
            "Building wheels for collected packages: de-core-news-sm\n",
            "  Building wheel for de-core-news-sm (setup.py) ... \u001b[?25l\u001b[?25hdone\n",
            "  Created wheel for de-core-news-sm: filename=de_core_news_sm-2.2.5-cp36-none-any.whl size=14907056 sha256=6c40453e33a2efc01f76f767bccad1445fe9e746b0b205df1fdc98fd494f4639\n",
            "  Stored in directory: /tmp/pip-ephem-wheel-cache-g8xtu9sp/wheels/ba/3f/ed/d4aa8e45e7191b7f32db4bfad565e7da1edbf05c916ca7a1ca\n",
            "Successfully built de-core-news-sm\n",
            "Installing collected packages: de-core-news-sm\n",
            "Successfully installed de-core-news-sm-2.2.5\n",
            "\u001b[38;5;2m✔ Download and installation successful\u001b[0m\n",
            "You can now load the model via spacy.load('de_core_news_sm')\n"
          ],
          "name": "stdout"
        }
      ]
    },
    {
      "cell_type": "code",
      "metadata": {
        "id": "9p_g0Hcg1e5R",
        "colab_type": "code",
        "colab": {
          "base_uri": "https://localhost:8080/",
          "height": 425
        },
        "outputId": "9eb1b307-cbfc-4fcd-d997-19e818dec0da"
      },
      "source": [
        "# https://stackoverflow.com/questions/56927602/unable-to-load-the-spacy-model-en-core-web-lg-on-google-colab\n",
        "# https://spacy.io/usage/models\n",
        "\n",
        "!pip install de_core_news_sm"
      ],
      "execution_count": null,
      "outputs": [
        {
          "output_type": "stream",
          "text": [
            "Requirement already satisfied: de_core_news_sm in /usr/local/lib/python3.6/dist-packages (2.2.5)\n",
            "Requirement already satisfied: spacy>=2.2.2 in /usr/local/lib/python3.6/dist-packages (from de_core_news_sm) (2.2.4)\n",
            "Requirement already satisfied: catalogue<1.1.0,>=0.0.7 in /usr/local/lib/python3.6/dist-packages (from spacy>=2.2.2->de_core_news_sm) (1.0.0)\n",
            "Requirement already satisfied: setuptools in /usr/local/lib/python3.6/dist-packages (from spacy>=2.2.2->de_core_news_sm) (49.1.0)\n",
            "Requirement already satisfied: murmurhash<1.1.0,>=0.28.0 in /usr/local/lib/python3.6/dist-packages (from spacy>=2.2.2->de_core_news_sm) (1.0.2)\n",
            "Requirement already satisfied: tqdm<5.0.0,>=4.38.0 in /usr/local/lib/python3.6/dist-packages (from spacy>=2.2.2->de_core_news_sm) (4.41.1)\n",
            "Requirement already satisfied: cymem<2.1.0,>=2.0.2 in /usr/local/lib/python3.6/dist-packages (from spacy>=2.2.2->de_core_news_sm) (2.0.3)\n",
            "Requirement already satisfied: numpy>=1.15.0 in /usr/local/lib/python3.6/dist-packages (from spacy>=2.2.2->de_core_news_sm) (1.18.5)\n",
            "Requirement already satisfied: preshed<3.1.0,>=3.0.2 in /usr/local/lib/python3.6/dist-packages (from spacy>=2.2.2->de_core_news_sm) (3.0.2)\n",
            "Requirement already satisfied: requests<3.0.0,>=2.13.0 in /usr/local/lib/python3.6/dist-packages (from spacy>=2.2.2->de_core_news_sm) (2.23.0)\n",
            "Requirement already satisfied: plac<1.2.0,>=0.9.6 in /usr/local/lib/python3.6/dist-packages (from spacy>=2.2.2->de_core_news_sm) (1.1.3)\n",
            "Requirement already satisfied: thinc==7.4.0 in /usr/local/lib/python3.6/dist-packages (from spacy>=2.2.2->de_core_news_sm) (7.4.0)\n",
            "Requirement already satisfied: blis<0.5.0,>=0.4.0 in /usr/local/lib/python3.6/dist-packages (from spacy>=2.2.2->de_core_news_sm) (0.4.1)\n",
            "Requirement already satisfied: srsly<1.1.0,>=1.0.2 in /usr/local/lib/python3.6/dist-packages (from spacy>=2.2.2->de_core_news_sm) (1.0.2)\n",
            "Requirement already satisfied: wasabi<1.1.0,>=0.4.0 in /usr/local/lib/python3.6/dist-packages (from spacy>=2.2.2->de_core_news_sm) (0.7.0)\n",
            "Requirement already satisfied: importlib-metadata>=0.20; python_version < \"3.8\" in /usr/local/lib/python3.6/dist-packages (from catalogue<1.1.0,>=0.0.7->spacy>=2.2.2->de_core_news_sm) (1.7.0)\n",
            "Requirement already satisfied: urllib3!=1.25.0,!=1.25.1,<1.26,>=1.21.1 in /usr/local/lib/python3.6/dist-packages (from requests<3.0.0,>=2.13.0->spacy>=2.2.2->de_core_news_sm) (1.24.3)\n",
            "Requirement already satisfied: idna<3,>=2.5 in /usr/local/lib/python3.6/dist-packages (from requests<3.0.0,>=2.13.0->spacy>=2.2.2->de_core_news_sm) (2.10)\n",
            "Requirement already satisfied: chardet<4,>=3.0.2 in /usr/local/lib/python3.6/dist-packages (from requests<3.0.0,>=2.13.0->spacy>=2.2.2->de_core_news_sm) (3.0.4)\n",
            "Requirement already satisfied: certifi>=2017.4.17 in /usr/local/lib/python3.6/dist-packages (from requests<3.0.0,>=2.13.0->spacy>=2.2.2->de_core_news_sm) (2020.6.20)\n",
            "Requirement already satisfied: zipp>=0.5 in /usr/local/lib/python3.6/dist-packages (from importlib-metadata>=0.20; python_version < \"3.8\"->catalogue<1.1.0,>=0.0.7->spacy>=2.2.2->de_core_news_sm) (3.1.0)\n"
          ],
          "name": "stdout"
        }
      ]
    },
    {
      "cell_type": "code",
      "metadata": {
        "id": "e5tUOzUd4wJX",
        "colab_type": "code",
        "colab": {}
      },
      "source": [
        "import de_core_news_sm\n",
        "spacy_de = de_core_news_sm.load()"
      ],
      "execution_count": null,
      "outputs": []
    },
    {
      "cell_type": "code",
      "metadata": {
        "id": "c_eVHQdG4YlM",
        "colab_type": "code",
        "colab": {
          "base_uri": "https://localhost:8080/",
          "height": 425
        },
        "outputId": "e137f637-bcf1-443b-8547-6892f2a8c620"
      },
      "source": [
        "!pip install en_core_web_sm"
      ],
      "execution_count": null,
      "outputs": [
        {
          "output_type": "stream",
          "text": [
            "Requirement already satisfied: en_core_web_sm in /usr/local/lib/python3.6/dist-packages (2.2.5)\n",
            "Requirement already satisfied: spacy>=2.2.2 in /usr/local/lib/python3.6/dist-packages (from en_core_web_sm) (2.2.4)\n",
            "Requirement already satisfied: catalogue<1.1.0,>=0.0.7 in /usr/local/lib/python3.6/dist-packages (from spacy>=2.2.2->en_core_web_sm) (1.0.0)\n",
            "Requirement already satisfied: murmurhash<1.1.0,>=0.28.0 in /usr/local/lib/python3.6/dist-packages (from spacy>=2.2.2->en_core_web_sm) (1.0.2)\n",
            "Requirement already satisfied: srsly<1.1.0,>=1.0.2 in /usr/local/lib/python3.6/dist-packages (from spacy>=2.2.2->en_core_web_sm) (1.0.2)\n",
            "Requirement already satisfied: cymem<2.1.0,>=2.0.2 in /usr/local/lib/python3.6/dist-packages (from spacy>=2.2.2->en_core_web_sm) (2.0.3)\n",
            "Requirement already satisfied: requests<3.0.0,>=2.13.0 in /usr/local/lib/python3.6/dist-packages (from spacy>=2.2.2->en_core_web_sm) (2.23.0)\n",
            "Requirement already satisfied: preshed<3.1.0,>=3.0.2 in /usr/local/lib/python3.6/dist-packages (from spacy>=2.2.2->en_core_web_sm) (3.0.2)\n",
            "Requirement already satisfied: tqdm<5.0.0,>=4.38.0 in /usr/local/lib/python3.6/dist-packages (from spacy>=2.2.2->en_core_web_sm) (4.41.1)\n",
            "Requirement already satisfied: wasabi<1.1.0,>=0.4.0 in /usr/local/lib/python3.6/dist-packages (from spacy>=2.2.2->en_core_web_sm) (0.7.0)\n",
            "Requirement already satisfied: blis<0.5.0,>=0.4.0 in /usr/local/lib/python3.6/dist-packages (from spacy>=2.2.2->en_core_web_sm) (0.4.1)\n",
            "Requirement already satisfied: setuptools in /usr/local/lib/python3.6/dist-packages (from spacy>=2.2.2->en_core_web_sm) (49.1.0)\n",
            "Requirement already satisfied: numpy>=1.15.0 in /usr/local/lib/python3.6/dist-packages (from spacy>=2.2.2->en_core_web_sm) (1.18.5)\n",
            "Requirement already satisfied: plac<1.2.0,>=0.9.6 in /usr/local/lib/python3.6/dist-packages (from spacy>=2.2.2->en_core_web_sm) (1.1.3)\n",
            "Requirement already satisfied: thinc==7.4.0 in /usr/local/lib/python3.6/dist-packages (from spacy>=2.2.2->en_core_web_sm) (7.4.0)\n",
            "Requirement already satisfied: importlib-metadata>=0.20; python_version < \"3.8\" in /usr/local/lib/python3.6/dist-packages (from catalogue<1.1.0,>=0.0.7->spacy>=2.2.2->en_core_web_sm) (1.7.0)\n",
            "Requirement already satisfied: certifi>=2017.4.17 in /usr/local/lib/python3.6/dist-packages (from requests<3.0.0,>=2.13.0->spacy>=2.2.2->en_core_web_sm) (2020.6.20)\n",
            "Requirement already satisfied: urllib3!=1.25.0,!=1.25.1,<1.26,>=1.21.1 in /usr/local/lib/python3.6/dist-packages (from requests<3.0.0,>=2.13.0->spacy>=2.2.2->en_core_web_sm) (1.24.3)\n",
            "Requirement already satisfied: chardet<4,>=3.0.2 in /usr/local/lib/python3.6/dist-packages (from requests<3.0.0,>=2.13.0->spacy>=2.2.2->en_core_web_sm) (3.0.4)\n",
            "Requirement already satisfied: idna<3,>=2.5 in /usr/local/lib/python3.6/dist-packages (from requests<3.0.0,>=2.13.0->spacy>=2.2.2->en_core_web_sm) (2.10)\n",
            "Requirement already satisfied: zipp>=0.5 in /usr/local/lib/python3.6/dist-packages (from importlib-metadata>=0.20; python_version < \"3.8\"->catalogue<1.1.0,>=0.0.7->spacy>=2.2.2->en_core_web_sm) (3.1.0)\n"
          ],
          "name": "stdout"
        }
      ]
    },
    {
      "cell_type": "code",
      "metadata": {
        "id": "sq5MgTZ45jUD",
        "colab_type": "code",
        "colab": {}
      },
      "source": [
        "import en_core_web_sm\n",
        "spacy_en = en_core_web_sm.load()"
      ],
      "execution_count": null,
      "outputs": []
    },
    {
      "cell_type": "code",
      "metadata": {
        "id": "GoGnCYb55nmZ",
        "colab_type": "code",
        "colab": {}
      },
      "source": [
        "url = re.compile('(<url>.*</url>)')"
      ],
      "execution_count": null,
      "outputs": []
    },
    {
      "cell_type": "code",
      "metadata": {
        "id": "ahkwwkBG1mkm",
        "colab_type": "code",
        "colab": {}
      },
      "source": [
        "def tokenize_de(text):\n",
        "    return [tok.text for tok in spacy_de.tokenizer(url.sub('@URL@', text))]\n",
        "\n",
        "def tokenize_en(text):\n",
        "    return [tok.text for tok in spacy_en.tokenizer(url.sub('@URL@', text))]"
      ],
      "execution_count": null,
      "outputs": []
    },
    {
      "cell_type": "code",
      "metadata": {
        "id": "84DpBWNP1sbi",
        "colab_type": "code",
        "colab": {}
      },
      "source": [
        "from torchtext.data.utils import get_tokenizer\n",
        "\n",
        "DE = data.Field(tokenize=tokenize_de, init_token='<sos>', eos_token='<eos>')\n",
        "EN = data.Field(tokenize=tokenize_en, init_token='<sos>', eos_token='<eos>')"
      ],
      "execution_count": null,
      "outputs": []
    },
    {
      "cell_type": "code",
      "metadata": {
        "id": "TWfdpGdh6rJc",
        "colab_type": "code",
        "colab": {
          "base_uri": "https://localhost:8080/",
          "height": 129
        },
        "outputId": "042ce01f-ce1d-4b76-f3ed-3ee406651d27"
      },
      "source": [
        "from google.colab import drive\n",
        "drive.mount('/content/drive')\n",
        "path = '/content/drive/My Drive/data/data/translation/'"
      ],
      "execution_count": null,
      "outputs": [
        {
          "output_type": "stream",
          "text": [
            "Go to this URL in a browser: https://accounts.google.com/o/oauth2/auth?client_id=947318989803-6bn6qk8qdgf4n4g3pfee6491hc0brc4i.apps.googleusercontent.com&redirect_uri=urn%3aietf%3awg%3aoauth%3a2.0%3aoob&response_type=code&scope=email%20https%3a%2f%2fwww.googleapis.com%2fauth%2fdocs.test%20https%3a%2f%2fwww.googleapis.com%2fauth%2fdrive%20https%3a%2f%2fwww.googleapis.com%2fauth%2fdrive.photos.readonly%20https%3a%2f%2fwww.googleapis.com%2fauth%2fpeopleapi.readonly\n",
            "\n",
            "Enter your authorization code:\n",
            "··········\n",
            "Mounted at /content/drive\n"
          ],
          "name": "stdout"
        }
      ]
    },
    {
      "cell_type": "code",
      "metadata": {
        "id": "2VHAElbx1uFH",
        "colab_type": "code",
        "colab": {
          "base_uri": "https://localhost:8080/",
          "height": 146
        },
        "outputId": "7a5e5f32-f750-4052-d646-5bbf4508300e"
      },
      "source": [
        "train_data, valid_data, test_data = datasets.Multi30k.splits(exts=('.de', '.en'), fields=(DE, EN))\n",
        "print('Loaded data...')"
      ],
      "execution_count": null,
      "outputs": [
        {
          "output_type": "stream",
          "text": [
            "downloading training.tar.gz\n"
          ],
          "name": "stdout"
        },
        {
          "output_type": "stream",
          "text": [
            "training.tar.gz: 100%|██████████| 1.21M/1.21M [00:01<00:00, 823kB/s]\n"
          ],
          "name": "stderr"
        },
        {
          "output_type": "stream",
          "text": [
            "downloading validation.tar.gz\n"
          ],
          "name": "stdout"
        },
        {
          "output_type": "stream",
          "text": [
            "validation.tar.gz: 100%|██████████| 46.3k/46.3k [00:00<00:00, 221kB/s]\n"
          ],
          "name": "stderr"
        },
        {
          "output_type": "stream",
          "text": [
            "downloading mmt_task1_test2016.tar.gz\n"
          ],
          "name": "stdout"
        },
        {
          "output_type": "stream",
          "text": [
            "mmt_task1_test2016.tar.gz: 100%|██████████| 66.2k/66.2k [00:00<00:00, 209kB/s]\n"
          ],
          "name": "stderr"
        },
        {
          "output_type": "stream",
          "text": [
            "Loaded data...\n"
          ],
          "name": "stdout"
        }
      ]
    },
    {
      "cell_type": "code",
      "metadata": {
        "id": "oRR9469r7U7N",
        "colab_type": "code",
        "colab": {
          "base_uri": "https://localhost:8080/",
          "height": 148
        },
        "outputId": "85e3551e-7a54-429b-cb49-a55f70bda383"
      },
      "source": [
        "print(train_data.fields)\n",
        "print(len(train_data))\n",
        "print(len(valid_data))\n",
        "print(vars(train_data[0]))\n",
        "print(vars(train_data[100]))\n",
        "print(vars(valid_data[100]))"
      ],
      "execution_count": null,
      "outputs": [
        {
          "output_type": "stream",
          "text": [
            "{'src': <torchtext.data.field.Field object at 0x7f1de4ab3c88>, 'trg': <torchtext.data.field.Field object at 0x7f1de7eea9b0>}\n",
            "29000\n",
            "1014\n",
            "{'src': ['Zwei', 'junge', 'weiße', 'Männer', 'sind', 'im', 'Freien', 'in', 'der', 'Nähe', 'vieler', 'Büsche', '.'], 'trg': ['Two', 'young', ',', 'White', 'males', 'are', 'outside', 'near', 'many', 'bushes', '.']}\n",
            "{'src': ['Männliches', 'Kleinkind', 'in', 'einem', 'roten', 'Hut', ',', 'das', 'sich', 'an', 'einem', 'Geländer', 'festhält', '.'], 'trg': ['Toddler', 'boy', 'in', 'a', 'red', 'hat', 'holding', 'on', 'to', 'some', 'railings', '.']}\n",
            "{'src': ['Ein', 'älterer', ',', 'übergewichtiger', 'Mann', 'wendet', 'einen', 'Pfannkuchen', ',', 'während', 'er', 'Frühstück', 'macht', '.'], 'trg': ['An', 'older', ',', 'overweight', 'man', 'flips', 'a', 'pancake', 'while', 'making', 'breakfast', '.']}\n"
          ],
          "name": "stdout"
        }
      ]
    },
    {
      "cell_type": "code",
      "metadata": {
        "id": "P6XDPfZkB6p4",
        "colab_type": "code",
        "colab": {}
      },
      "source": [
        "# set source and target language\n",
        "DE.build_vocab(train_data.src, min_freq=3)\n",
        "EN.build_vocab(train_data.trg, min_freq=3)"
      ],
      "execution_count": null,
      "outputs": []
    },
    {
      "cell_type": "code",
      "metadata": {
        "id": "4FwAMWsnCOs0",
        "colab_type": "code",
        "colab": {
          "base_uri": "https://localhost:8080/",
          "height": 111
        },
        "outputId": "5ab6cef6-2f32-4bc2-ff01-358a6b44d0c7"
      },
      "source": [
        "train_iter, valid_iter = data.BucketIterator.splits((train_data, valid_data), batch_size=32, device=device)\n",
        "\n",
        "print(DE.vocab.freqs.most_common(10))\n",
        "print(len(DE.vocab))\n",
        "print(EN.vocab.freqs.most_common(10))\n",
        "print(len(EN.vocab))"
      ],
      "execution_count": null,
      "outputs": [
        {
          "output_type": "stream",
          "text": [
            "[('.', 28821), ('Ein', 13904), ('einem', 13697), ('in', 11830), (',', 8938), ('und', 8925), ('mit', 8838), ('auf', 8686), ('Mann', 7805), ('einer', 6750)]\n",
            "5500\n",
            "[('a', 31707), ('.', 27623), ('A', 17458), ('in', 14847), ('the', 9923), ('on', 8019), ('is', 7524), ('and', 7378), ('man', 7359), ('of', 6871)]\n",
            "4727\n"
          ],
          "name": "stdout"
        }
      ]
    },
    {
      "cell_type": "code",
      "metadata": {
        "id": "v_4fR3w0HAkr",
        "colab_type": "code",
        "colab": {}
      },
      "source": [
        "class EncoderRNN(nn.Module):\n",
        "    def __init__(self, vocab_size, embedding_size, hidden_size, device):\n",
        "        super(EncoderRNN, self).__init__()\n",
        "\n",
        "        self.hidden_size = hidden_size\n",
        "\n",
        "        self.embed = nn.Embedding(vocab_size, embedding_size)\n",
        "        self.gru = nn.GRU(embedding_size, hidden_size)\n",
        "\n",
        "        self.device = device\n",
        "        self.to(self.device)\n",
        "        \n",
        "    def forward(self, input, hidden):\n",
        "        # input is of shape [1, batch_size]\n",
        "        # embedded is of shape [1, batch_size, embedding_size]\n",
        "\n",
        "        input = input.to(self.device)\n",
        "\n",
        "        embedded = self.embed(input)\n",
        "\n",
        "        output, hidden = self.gru(embedded, hidden)\n",
        "\n",
        "        # output shape is [1, batch_size, hidden_dim]\n",
        "        # hidden shape is [num_layers, batch_size, hidden_dim]\n",
        "\n",
        "        return output, hidden\n",
        "\n",
        "    def init_hidden(self, batch_size):\n",
        "        return torch.zeros(1, batch_size, self.hidden_size, device=device)\n"
      ],
      "execution_count": null,
      "outputs": []
    },
    {
      "cell_type": "code",
      "metadata": {
        "id": "8kmQvH4PIjL4",
        "colab_type": "code",
        "colab": {}
      },
      "source": [
        "class AttentionDecoderRNN(nn.Module):\n",
        "    def __init__(self, vocab_size, embedding_size, hidden_size, n_dropout, attend_type, local, D, device):\n",
        "        super(AttentionDecoderRNN, self).__init__()\n",
        "        self.hidden_size = hidden_size\n",
        "        self.embedding_size = embedding_size\n",
        "        self.n_dropout = n_dropout\n",
        "        self.attend_type = attend_type\n",
        "        self.local = local\n",
        "        self.D = D\n",
        "\n",
        "        self.embed = nn.Embedding(vocab_size, embedding_size)\n",
        "        self.gru = nn.GRU(self.embedding_size, self.hidden_size)\n",
        "        self.dropout = nn.Dropout(self.n_dropout)\n",
        "\n",
        "        self.align = nn.Linear(self.hidden_size * 2, self.hidden_size)\n",
        "        self.align_gen = nn.Linear(self.hidden_size, self.hidden_size)\n",
        "        self.V = nn.Parameter(torch.rand(hidden_size))\n",
        "        self.Wp = nn.Linear(self.hidden_size, self.hidden_size)\n",
        "        self.Vp = nn.Parameter(torch.rand(hidden_size))\n",
        "\n",
        "        self.appl_context = nn.Linear(self.hidden_size * 2, self.hidden_size)\n",
        "        self.out = nn.Linear(hidden_size, vocab_size)\n",
        "        self.logsoftmax = nn.LogSoftmax(dim=1)\n",
        "        \n",
        "        self.device = device\n",
        "        self.to(self.device)\n",
        "\n",
        "    def attend_concat(self, enc_outputs, dec_output):\n",
        "        # dec_output:  [1, batch_size, hidden_dim]\n",
        "        # enc_outputs is of shape [sequence_len, batch_size, hidden_dim]\n",
        "\n",
        "        batch_size = dec_output.size(1)\n",
        "        sequence_len = enc_outputs.size(0)\n",
        "\n",
        "        dec_output = dec_output.repeat(sequence_len, 1, 1)\n",
        "        #dec_output:  [sequence_len, batch_size, hidden_dim]\n",
        "\n",
        "        attn_in = torch.cat((enc_outputs, dec_output), dim=-1)\n",
        "        # combined enc_outputs and hidden:  [sequence_len, batch_size, hidden_dim * 2]\n",
        "\n",
        "        aligned = self.align(attn_in)\n",
        "        aligned = torch.tanh(aligned)\n",
        "    \n",
        "        aligned = aligned.permute(1, 2, 0)\n",
        "        #aligned = [batch size, hidden_dim, sequence_len]\n",
        "        \n",
        "        #v = [hidden_dim]\n",
        "        v = self.V.repeat(batch_size, 1).unsqueeze(1)\n",
        "        #v = [batch size, 1, hidden_dim]\n",
        "\n",
        "        attention = torch.bmm(v, aligned).squeeze(1)\n",
        "        #attention = [batch size, sequence_len]\n",
        "\n",
        "        return attention\n",
        "\n",
        "    def attend_dot(self, enc_outputs, dec_output):\n",
        "        # dec_output:  [1, batch_size, hidden_dim]\n",
        "        # enc_outputs is of shape [sequence_len, batch_size, hidden_dim]\n",
        "        \n",
        "        dec_output = dec_output.permute(1, 0, 2)\n",
        "        # dec_output:  [batch_size, 1, hidden_dim]\n",
        "\n",
        "        enc_outputs = enc_outputs.permute(1, 2, 0)\n",
        "        # enc_outputs is of shape [batch_size, hidden_dim, sequence_len]\n",
        "        \n",
        "        attention = torch.bmm(dec_output, enc_outputs)\n",
        "        # weighted = [batch_size, 1, sequence_len]\n",
        "\n",
        "        attention = attention.squeeze(1)\n",
        "        # attention is of shape [batch_size, sequence_len]\n",
        "\n",
        "        return attention\n",
        "\n",
        "    def attend_general(self, enc_outputs, dec_output):\n",
        "        # dec_output:  [1, batch_size, hidden_dim]\n",
        "        # enc_outputs is of shape [sequence_len, batch_size, hidden_dim]\n",
        "\n",
        "        enc_outputs = self.align_gen(enc_outputs)\n",
        "        # enc_outputs is of shape [sequence_len, batch_size, hidden_dim]\n",
        "\n",
        "        dec_output = dec_output.permute(1, 0, 2)\n",
        "        enc_outputs = enc_outputs.permute(1, 2, 0)\n",
        "        attention = torch.bmm(dec_output, enc_outputs)\n",
        "        attention = attention.squeeze(1)\n",
        "\n",
        "        return attention\n",
        "\n",
        "    def forward(self, input, hidden, enc_outputs, p_t):\n",
        "        # input is of shape [batch_size]\n",
        "        # enc_outputs is of shape [sequence_len, batch_size, hidden_dim]\n",
        "        # hidden is of shape [1, batch_size, hidden_dim]\n",
        "\n",
        "        # Decoder\n",
        "\n",
        "        batch_size = hidden.size(1)\n",
        "        \n",
        "        input = input.unsqueeze(0)\n",
        "        # now, input shape is [1, batch_size]\n",
        "\n",
        "        input = input.to(self.device)\n",
        "\n",
        "        embedded = self.embed(input)\n",
        "        embedded = self.dropout(embedded)\n",
        "        # embedded is of shape [1, batch_size, embedding_dim]\n",
        "\n",
        "        output, hidden = self.gru(embedded, hidden)\n",
        "        #output:  [1, batch_size, hidden_dim]\n",
        "\n",
        "        # Attention\n",
        "\n",
        "        sequence_len = enc_outputs.size(0)\n",
        "\n",
        "        # Monotonic alignment (local-m)\n",
        "        if self.local == 'm':\n",
        "            if p_t > sequence_len:\n",
        "                p_t = sequence_len\n",
        "\n",
        "            win_min = max(0, p_t - self.D)\n",
        "            win_max = min(sequence_len, p_t + self.D + 1)\n",
        "\n",
        "            enc_outputs = enc_outputs[win_min: win_max]\n",
        "            # enc_outputs is of shape [local_context_window (2D+1), batch_size, hidden_dim]\n",
        "\n",
        "        if self.attend_type == 'concat':\n",
        "            attention = self.attend_concat(enc_outputs, output)\n",
        "        elif self.attend_type == 'dot':\n",
        "            attention = self.attend_dot(enc_outputs, output)\n",
        "        elif self.attend_type == 'general':\n",
        "            attention = self.attend_general(enc_outputs, output)\n",
        "\n",
        "        alphas = F.softmax(attention, dim=1)\n",
        "        #alphas = [batch_size, sequence_len]\n",
        "\n",
        "        alphas = alphas.unsqueeze(1)\n",
        "        #alphas =  [batch_size, 1, sequence_len]\n",
        "\n",
        "        # Predictive alignment (local-p)\n",
        "        if self.local == 'p':\n",
        "            local_p = torch.tanh(self.Wp(output))\n",
        "            # local_p = [1, batch_size, hidden_size]\n",
        "            # b×m×p\n",
        "            local_p = local_p.permute(1, 2, 0)\n",
        "            # local_p = [batch_size, hidden_size, 1]\n",
        "\n",
        "            # Vp = [hidden_size]\n",
        "            vp = self.Vp.repeat(batch_size, 1).unsqueeze(1)\n",
        "            # Vp = [batch_size, 1, hidden_size]\n",
        "            # b×n×m\n",
        "            # Vp = [batch_size, 1, hidden_size]\n",
        "\n",
        "            # b×n×p\n",
        "            p_t = sequence_len * torch.sigmoid(torch.bmm(vp, local_p))\n",
        "            # p_t = [batch_size, 1, 1]\n",
        "\n",
        "            s = torch.arange(0, sequence_len, device=self.device, requires_grad=False)\n",
        "            # s = [1, sequence_len]\n",
        "            s = s.repeat(batch_size, 1).unsqueeze(1)\n",
        "            # s = [batch_size, 1, sequence_len]\n",
        "\n",
        "            expression = -(s - p_t) / (self.D**2 / 2)\n",
        "            expression = torch.exp(expression)\n",
        "            # expression = [batch_size, 1, sequence_len]\n",
        "\n",
        "            #alphas =  [batch_size, 1, sequence_len]\n",
        "\n",
        "            alphas = alphas * expression\n",
        "            #alphas =  [batch_size, 1, sequence_len]\n",
        "\n",
        "        # enc_outputs is of shape [sequence_len, batch_size, hidden_dim]\n",
        "        enc_outputs = enc_outputs.permute(1, 0, 2)\n",
        "        #enc_outputs = [batch_size, sequence_len, hidden_dim]\n",
        "\n",
        "        context = torch.bmm(alphas, enc_outputs)\n",
        "        #weighted = [batch_size, 1, hidden_dim]\n",
        "        \n",
        "        context = context.permute(1, 0, 2)\n",
        "        #context: [1, batch_size, hidden_dim]\n",
        "\n",
        "        output = torch.cat((output, context), dim=-1)\n",
        "        #output:  [1, batch_size, hidden_dim * 2]\n",
        "\n",
        "        output = self.appl_context(output)\n",
        "        output = torch.tanh(output)\n",
        "\n",
        "        output = self.out(output.squeeze(0))\n",
        "        #output:  [1, batch_size, vocab_size]\n",
        "\n",
        "        output = self.logsoftmax(output)\n",
        "\n",
        "        return output, hidden, alphas\n"
      ],
      "execution_count": null,
      "outputs": []
    },
    {
      "cell_type": "code",
      "metadata": {
        "id": "9lPdNYu4wbAs",
        "colab_type": "code",
        "colab": {}
      },
      "source": [
        "#print(enc)\n",
        "#print(dec)"
      ],
      "execution_count": null,
      "outputs": []
    },
    {
      "cell_type": "code",
      "metadata": {
        "id": "WYqrDNmxV7Nq",
        "colab_type": "code",
        "colab": {
          "base_uri": "https://localhost:8080/",
          "height": 443
        },
        "outputId": "2de74f20-287f-4f2b-d48a-4cc04203ef00"
      },
      "source": [
        "vocab_size_src = len(DE.vocab)\n",
        "vocab_size_trg = len(EN.vocab)\n",
        "\n",
        "embedding_size = 300\n",
        "hidden_size = 128\n",
        "n_dropout = 0.1\n",
        "\n",
        "# attention type: concat, dot, attend\n",
        "attend_type = 'concat'\n",
        "# m - monotonic local attention, p - predictive local attention\n",
        "local = 'm'\n",
        "# monotonic local attention window\n",
        "D = 2\n",
        "\n",
        "enc = EncoderRNN(vocab_size_src, embedding_size, hidden_size, device)\n",
        "dec = AttentionDecoderRNN(vocab_size_trg, embedding_size, hidden_size, n_dropout, attend_type, local, D, device)\n",
        "\n",
        "enc_optim = optim.Adam(enc.parameters())\n",
        "dec_optim = optim.Adam(dec.parameters())\n",
        "    \n",
        "pad_idx = EN.vocab.stoi['<pad>']\n",
        "print('Pad index: ', pad_idx)\n",
        "criterion = nn.NLLLoss(ignore_index=pad_idx)\n",
        "\n",
        "epochs = 20\n",
        "clip = 10\n",
        "\n",
        "epoch_losses = []\n",
        "\n",
        "for epoch in range(epochs):\n",
        "    epoch_loss = 0\n",
        "\n",
        "    for batch in train_iter:\n",
        "        hidden = enc.init_hidden(batch.src.size(1))\n",
        "\n",
        "        max_len_enc = batch.src.size(0)\n",
        "\n",
        "        enc_outputs, hidden = enc(batch.src, hidden)\n",
        "\n",
        "        # enc_outputs is of shape [sequence_len, batch_size, hidden_dim]\n",
        "\n",
        "        # store outputs\n",
        "        max_len_dec = batch.trg.size(0)\n",
        "\n",
        "        outputs = torch.zeros(max_len_dec, batch.trg.size(1), vocab_size_trg, device=device)\n",
        "        input = batch.trg[0]\n",
        "        \n",
        "        for i in range(1, max_len_dec):\n",
        "            output, hidden, alphas = dec(input, hidden, enc_outputs, i)\n",
        "            outputs[i] = output\n",
        "            input = batch.trg[i]\n",
        "\n",
        "        enc_optim.zero_grad()\n",
        "        dec_optim.zero_grad()\n",
        "\n",
        "        target = torch.tensor(batch.trg[1:], device=device)\n",
        "        loss = criterion(outputs[1:].view(-1, outputs.shape[2]), target.view(-1))\n",
        "        loss.backward()\n",
        "\n",
        "        nn.utils.clip_grad_norm_(enc.parameters(), clip)\n",
        "        nn.utils.clip_grad_norm_(dec.parameters(), clip)\n",
        "\n",
        "        enc_optim.step()\n",
        "        dec_optim.step()\n",
        "\n",
        "        epoch_loss += loss.item()\n",
        "        print('\\rEpoch {} : Loss {:.3f}'.format(epoch, epoch_loss / len(batch)), end=\"\")\n",
        "\n",
        "    print('\\rEpoch {} : Loss {:.3f}'.format(epoch, epoch_loss / len(train_iter)))\n",
        "\n",
        "    epoch_losses.append(epoch_loss / len(train_iter))"
      ],
      "execution_count": null,
      "outputs": [
        {
          "output_type": "stream",
          "text": [
            "Pad index:  1\n"
          ],
          "name": "stdout"
        },
        {
          "output_type": "stream",
          "text": [
            "/usr/local/lib/python3.6/dist-packages/ipykernel_launcher.py:52: UserWarning: To copy construct from a tensor, it is recommended to use sourceTensor.clone().detach() or sourceTensor.clone().detach().requires_grad_(True), rather than torch.tensor(sourceTensor).\n"
          ],
          "name": "stderr"
        },
        {
          "output_type": "stream",
          "text": [
            "Epoch 0 : Loss 3.631\n",
            "Epoch 1 : Loss 2.539\n",
            "Epoch 2 : Loss 2.154\n",
            "Epoch 3 : Loss 1.915\n",
            "Epoch 4 : Loss 1.744\n",
            "Epoch 5 : Loss 1.610\n",
            "Epoch 6 : Loss 1.501\n",
            "Epoch 7 : Loss 1.408\n",
            "Epoch 8 : Loss 1.327\n",
            "Epoch 9 : Loss 1.255\n",
            "Epoch 10 : Loss 1.192\n",
            "Epoch 11 : Loss 1.135\n",
            "Epoch 12 : Loss 1.082\n",
            "Epoch 13 : Loss 1.036\n",
            "Epoch 14 : Loss 0.992\n",
            "Epoch 15 : Loss 0.954\n",
            "Epoch 16 : Loss 0.917\n",
            "Epoch 17 : Loss 0.882\n",
            "Epoch 18 : Loss 0.852\n",
            "Epoch 19 : Loss 0.825\n"
          ],
          "name": "stdout"
        }
      ]
    },
    {
      "cell_type": "code",
      "metadata": {
        "id": "sJzP-aiMpj84",
        "colab_type": "code",
        "colab": {
          "base_uri": "https://localhost:8080/",
          "height": 299
        },
        "outputId": "a957508b-69f5-4c14-8960-b1a6ffce49bb"
      },
      "source": [
        "import matplotlib.pyplot as plt\n",
        "\n",
        "plt.plot(epoch_losses)\n",
        "plt.title(\"Training loss\")"
      ],
      "execution_count": null,
      "outputs": [
        {
          "output_type": "execute_result",
          "data": {
            "text/plain": [
              "Text(0.5, 1.0, 'Training loss')"
            ]
          },
          "metadata": {
            "tags": []
          },
          "execution_count": 59
        },
        {
          "output_type": "display_data",
          "data": {
            "image/png": "[encoded data removed]",
            "text/plain": [
              "<Figure size 432x288 with 1 Axes>"
            ]
          },
          "metadata": {
            "tags": [],
            "needs_background": "light"
          }
        }
      ]
    },
    {
      "cell_type": "code",
      "metadata": {
        "id": "HiXYRMKkqiyi",
        "colab_type": "code",
        "colab": {}
      },
      "source": [
        "import matplotlib.ticker as ticker\n",
        "import matplotlib.pyplot as plt\n",
        "\n",
        "def show_attention(input_sentence, output_words, attentions):\n",
        "    # Set up figure with colorbar\n",
        "    fig = plt.figure()\n",
        "    ax = fig.add_subplot(111)\n",
        "    cax = ax.matshow(np.array(attentions))\n",
        "    fig.colorbar(cax)\n",
        "\n",
        "    # # Set up axes\n",
        "    ax.set_xticklabels([''] + input_sentence +\n",
        "                       ['<EOS>'], rotation=90)\n",
        "    ax.set_yticklabels([''] + output_words)\n",
        "\n",
        "    # # Show label at every tick\n",
        "    ax.xaxis.set_major_locator(ticker.MultipleLocator(1))\n",
        "    ax.yaxis.set_major_locator(ticker.MultipleLocator(1))\n",
        "\n",
        "    plt.show()\n"
      ],
      "execution_count": null,
      "outputs": []
    },
    {
      "cell_type": "code",
      "metadata": {
        "id": "JQ6RHiXNPeEY",
        "colab_type": "code",
        "colab": {
          "base_uri": "https://localhost:8080/",
          "height": 386
        },
        "outputId": "15158f8d-7111-4400-8d52-cca0b9774715"
      },
      "source": [
        "#### Predictive local attention\n",
        "\n",
        "sos_idx = EN.vocab.stoi['<sos>']\n",
        "eos_idx = EN.vocab.stoi['<eos>']\n",
        "\n",
        "batch = next(iter(valid_iter))\n",
        "\n",
        "for i in range(5):\n",
        "    with torch.no_grad():\n",
        "        encoder_input = batch.src[:, i].unsqueeze(1)\n",
        "        hidden = enc.init_hidden(1)\n",
        "\n",
        "        encoded = []\n",
        "        for ip in encoder_input:\n",
        "            encoded.append(DE.vocab.itos[ip.item()])\n",
        "\n",
        "        enc_outputs, hidden = enc(encoder_input, hidden)\n",
        "\n",
        "        max_len_enc = batch.src.size(0)\n",
        "        max_len_dec = batch.trg.size(0)\n",
        "        decoder_input = torch.tensor([sos_idx], device=device)\n",
        "        decoder_attentions = torch.zeros(max_len_dec*2, max_len_enc)\n",
        "\n",
        "        decoded = []\n",
        "        decoded.append(EN.vocab.itos[sos_idx])\n",
        "\n",
        "        true = [EN.vocab.itos[w] for w in batch.trg[:, i].unsqueeze(1)]\n",
        "\n",
        "        k = 0\n",
        "        while True:\n",
        "            output, hidden, alphas = dec(decoder_input, hidden, enc_outputs, k)\n",
        "            topv, topi = output.topk(1)\n",
        "            topi = topi.squeeze(1)\n",
        "            decoder_input = topi.detach()\n",
        "\n",
        "            decoder_attentions[k] = alphas\n",
        "            k += 1\n",
        "            \n",
        "            decoded.append(EN.vocab.itos[decoder_input.item()])\n",
        "            if decoder_input.item() == eos_idx:\n",
        "                break\n",
        "\n",
        "        print(encoded)\n",
        "        print(decoded)\n",
        "        print(true)\n",
        "        print()\n",
        "\n",
        "        #show_attention(encoded, decoded, decoder_attentions)"
      ],
      "execution_count": null,
      "outputs": [
        {
          "output_type": "stream",
          "text": [
            "['<sos>', 'Ein', 'Kind', 'sitzt', 'auf', 'einer', '<unk>', '.', '<eos>']\n",
            "['<sos>', 'A', 'child', 'sitting', 'on', 'a', 'red', 'bench', '.', '<eos>']\n",
            "['<sos>', 'A', 'child', 'sitting', 'on', 'a', 'rock', 'formation', '.', '<eos>', '<pad>', '<pad>', '<pad>']\n",
            "\n",
            "['<sos>', 'Zwei', 'Frauen', 'lächeln', 'bei', 'einer', 'Veranstaltung', '.', '<eos>']\n",
            "['<sos>', 'A', 'woman', 'is', 'smiling', 'at', 'a', 'restaurant', '.', '<eos>']\n",
            "['<sos>', 'Two', 'women', 'are', 'smiling', 'at', 'an', 'event', '.', '<eos>', '<pad>', '<pad>', '<pad>']\n",
            "\n",
            "['<sos>', 'Zwei', 'Pudel', 'rennen', 'durch', 'den', 'Schnee', '.', '<eos>']\n",
            "['<sos>', 'A', 'black', 'poodle', 'runs', 'through', 'the', 'snow', '.', '<eos>']\n",
            "['<sos>', 'Two', 'poodles', 'are', 'running', 'through', 'the', 'snow', '.', '<eos>', '<pad>', '<pad>', '<pad>']\n",
            "\n",
            "['<sos>', '<unk>', '<unk>', 'tagsüber', 'ihre', '<unk>', '.', '<eos>', '<pad>']\n",
            "['<sos>', 'A', '<unk>', '<unk>', 'is', 'showing', 'her', 'brother', 'as', 'he', 'reaches', 'his', '<unk>', '.', '<eos>']\n",
            "['<sos>', '<unk>', 'are', 'performing', 'their', '<unk>', 'during', 'the', 'day', '.', '<eos>', '<pad>', '<pad>']\n",
            "\n",
            "['<sos>', 'Drei', 'Hunde', 'spielen', 'im', 'Wasser', '.', '<eos>', '<pad>']\n",
            "['<sos>', 'Three', 'dogs', 'are', 'playing', 'in', 'the', 'water', '.', '<eos>']\n",
            "['<sos>', 'Three', 'dogs', 'are', 'playing', 'in', 'the', 'water', '.', '<eos>', '<pad>', '<pad>', '<pad>']\n",
            "\n"
          ],
          "name": "stdout"
        }
      ]
    },
    {
      "cell_type": "code",
      "metadata": {
        "id": "ls0tkuHza2di",
        "colab_type": "code",
        "colab": {
          "base_uri": "https://localhost:8080/",
          "height": 386
        },
        "outputId": "c1bfa486-cffc-4357-dce1-10376241da4b"
      },
      "source": [
        "#### Monotonic local attention\n",
        "\n",
        "sos_idx = EN.vocab.stoi['<sos>']\n",
        "eos_idx = EN.vocab.stoi['<eos>']\n",
        "\n",
        "batch = next(iter(valid_iter))\n",
        "\n",
        "for i in range(5):\n",
        "    with torch.no_grad():\n",
        "        encoder_input = batch.src[:, i].unsqueeze(1)\n",
        "        hidden = enc.init_hidden(1)\n",
        "\n",
        "        encoded = []\n",
        "        for ip in encoder_input:\n",
        "            encoded.append(DE.vocab.itos[ip.item()])\n",
        "\n",
        "        enc_outputs, hidden = enc(encoder_input, hidden)\n",
        "\n",
        "        max_len_enc = batch.src.size(0)\n",
        "        max_len_dec = batch.trg.size(0)\n",
        "        decoder_input = torch.tensor([sos_idx], device=device)\n",
        "        #decoder_attentions = torch.zeros(max_len_dec*2, max_len_enc)\n",
        "\n",
        "        decoded = []\n",
        "        decoded.append(EN.vocab.itos[sos_idx])\n",
        "\n",
        "        true = [EN.vocab.itos[w] for w in batch.trg[:, i].unsqueeze(1)]\n",
        "\n",
        "        k = 0\n",
        "        while True:\n",
        "            output, hidden, alphas = dec(decoder_input, hidden, enc_outputs, k)\n",
        "            topv, topi = output.topk(1)\n",
        "            topi = topi.squeeze(1)\n",
        "            decoder_input = topi.detach()\n",
        "\n",
        "            #decoder_attentions[k, D-k:D+k+1] = alphas\n",
        "            k += 1\n",
        "            \n",
        "            decoded.append(EN.vocab.itos[decoder_input.item()])\n",
        "            if decoder_input.item() == eos_idx:\n",
        "                break\n",
        "\n",
        "        print(encoded)\n",
        "        print(decoded)\n",
        "        print(true)\n",
        "        print()\n",
        "\n",
        "        #show_attention(encoded, decoded, decoder_attentions)"
      ],
      "execution_count": null,
      "outputs": [
        {
          "output_type": "stream",
          "text": [
            "['<sos>', 'Ein', 'Kind', 'sitzt', 'auf', 'einer', '<unk>', '.', '<eos>']\n",
            "['<sos>', 'A', 'child', 'sits', 'on', 'a', 'cement', 'track', '.', '<eos>']\n",
            "['<sos>', 'A', 'child', 'sitting', 'on', 'a', 'rock', 'formation', '.', '<eos>', '<pad>', '<pad>', '<pad>']\n",
            "\n",
            "['<sos>', 'Zwei', 'Frauen', 'lächeln', 'bei', 'einer', 'Veranstaltung', '.', '<eos>']\n",
            "['<sos>', 'Two', 'women', 'are', 'smiling', 'at', 'an', 'event', 'at', 'an', 'event', '.', '<eos>']\n",
            "['<sos>', 'Two', 'women', 'are', 'smiling', 'at', 'an', 'event', '.', '<eos>', '<pad>', '<pad>', '<pad>']\n",
            "\n",
            "['<sos>', 'Zwei', 'Pudel', 'rennen', 'durch', 'den', 'Schnee', '.', '<eos>']\n",
            "['<sos>', 'Two', 'poodles', 'running', 'through', 'the', 'snow', '.', '<eos>']\n",
            "['<sos>', 'Two', 'poodles', 'are', 'running', 'through', 'the', 'snow', '.', '<eos>', '<pad>', '<pad>', '<pad>']\n",
            "\n",
            "['<sos>', '<unk>', '<unk>', 'tagsüber', 'ihre', '<unk>', '.', '<eos>', '<pad>']\n",
            "['<sos>', '<unk>', '<unk>', 'dancers', 'their', 'fellow', '<unk>', 'their', '<unk>', '.', '<eos>']\n",
            "['<sos>', '<unk>', 'are', 'performing', 'their', '<unk>', 'during', 'the', 'day', '.', '<eos>', '<pad>', '<pad>']\n",
            "\n",
            "['<sos>', 'Drei', 'Hunde', 'spielen', 'im', 'Wasser', '.', '<eos>', '<pad>']\n",
            "['<sos>', 'Three', 'dogs', 'are', 'playing', 'in', 'the', 'water', '.', '<eos>']\n",
            "['<sos>', 'Three', 'dogs', 'are', 'playing', 'in', 'the', 'water', '.', '<eos>', '<pad>', '<pad>', '<pad>']\n",
            "\n"
          ],
          "name": "stdout"
        }
      ]
    }
  ]
}