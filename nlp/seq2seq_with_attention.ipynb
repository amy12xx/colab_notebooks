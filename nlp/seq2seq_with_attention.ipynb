{
  "nbformat": 4,
  "nbformat_minor": 0,
  "metadata": {
    "colab": {
      "name": "seq2seq_with_attention.ipynb",
      "provenance": [],
      "collapsed_sections": []
    },
    "kernelspec": {
      "name": "python3",
      "display_name": "Python 3"
    },
    "accelerator": "GPU"
  },
  "cells": [
    {
      "cell_type": "markdown",
      "metadata": {
        "id": "yRooPBDZryc_",
        "colab_type": "text"
      },
      "source": [
        "Code to replicate sequence-to-sequence architecture, with Bahdanau attention"
      ]
    },
    {
      "cell_type": "code",
      "metadata": {
        "id": "QbjOYeDG19w-",
        "colab_type": "code",
        "colab": {}
      },
      "source": [
        "# https://arxiv.org/pdf/1409.0473.pdf\n",
        "# https://pytorch.org/tutorials/intermediate/seq2seq_translation_tutorial.html\n",
        "# https://blog.floydhub.com/attention-mechanism/\n",
        "# https://github.com/divyeshrajpura4114/pytorch-seq2seq/blob/master/3%20-%20Neural%20Machine%20Translation%20by%20Jointly%20Learning%20to%20Align%20and%20Translate.ipynb\n",
        "# https://colab.research.google.com/drive/1uFJBO1pgsiFwCGIJwZlhUzaJ2srDbtw-#scrollTo=KN8G-3YY8ADm"
      ],
      "execution_count": 23,
      "outputs": []
    },
    {
      "cell_type": "code",
      "metadata": {
        "id": "C415mHjozxCJ",
        "colab_type": "code",
        "colab": {}
      },
      "source": [
        "import torch\n",
        "import torch.nn as nn\n",
        "import torch.nn.functional as F\n",
        "import torch.optim as optim\n",
        "from torchtext import data\n",
        "from torchtext import datasets\n",
        "import re\n",
        "import spacy"
      ],
      "execution_count": 24,
      "outputs": []
    },
    {
      "cell_type": "code",
      "metadata": {
        "id": "LW7g1PkVTTTC",
        "colab_type": "code",
        "colab": {}
      },
      "source": [
        "device = torch.device(\"cuda\" if torch.cuda.is_available() else \"cpu\")"
      ],
      "execution_count": 25,
      "outputs": []
    },
    {
      "cell_type": "code",
      "metadata": {
        "id": "WrwzUsJuix3G",
        "colab_type": "code",
        "colab": {
          "base_uri": "https://localhost:8080/",
          "height": 35
        },
        "outputId": "6ab887ed-2752-47ea-aa29-15f44927f93f"
      },
      "source": [
        "device"
      ],
      "execution_count": 26,
      "outputs": [
        {
          "output_type": "execute_result",
          "data": {
            "text/plain": [
              "device(type='cuda')"
            ]
          },
          "metadata": {
            "tags": []
          },
          "execution_count": 26
        }
      ]
    },
    {
      "cell_type": "code",
      "metadata": {
        "id": "M9Ww8oigzSHo",
        "colab_type": "code",
        "colab": {
          "base_uri": "https://localhost:8080/",
          "height": 462
        },
        "outputId": "45d998f8-cf6f-4b77-d494-b94ec23b1f17"
      },
      "source": [
        "!python -m spacy download de_core_news_sm"
      ],
      "execution_count": 27,
      "outputs": [
        {
          "output_type": "stream",
          "text": [
            "Requirement already satisfied: de_core_news_sm==2.2.5 from https://github.com/explosion/spacy-models/releases/download/de_core_news_sm-2.2.5/de_core_news_sm-2.2.5.tar.gz#egg=de_core_news_sm==2.2.5 in /usr/local/lib/python3.6/dist-packages (2.2.5)\n",
            "Requirement already satisfied: spacy>=2.2.2 in /usr/local/lib/python3.6/dist-packages (from de_core_news_sm==2.2.5) (2.2.4)\n",
            "Requirement already satisfied: requests<3.0.0,>=2.13.0 in /usr/local/lib/python3.6/dist-packages (from spacy>=2.2.2->de_core_news_sm==2.2.5) (2.23.0)\n",
            "Requirement already satisfied: cymem<2.1.0,>=2.0.2 in /usr/local/lib/python3.6/dist-packages (from spacy>=2.2.2->de_core_news_sm==2.2.5) (2.0.3)\n",
            "Requirement already satisfied: setuptools in /usr/local/lib/python3.6/dist-packages (from spacy>=2.2.2->de_core_news_sm==2.2.5) (47.3.1)\n",
            "Requirement already satisfied: murmurhash<1.1.0,>=0.28.0 in /usr/local/lib/python3.6/dist-packages (from spacy>=2.2.2->de_core_news_sm==2.2.5) (1.0.2)\n",
            "Requirement already satisfied: thinc==7.4.0 in /usr/local/lib/python3.6/dist-packages (from spacy>=2.2.2->de_core_news_sm==2.2.5) (7.4.0)\n",
            "Requirement already satisfied: wasabi<1.1.0,>=0.4.0 in /usr/local/lib/python3.6/dist-packages (from spacy>=2.2.2->de_core_news_sm==2.2.5) (0.7.0)\n",
            "Requirement already satisfied: catalogue<1.1.0,>=0.0.7 in /usr/local/lib/python3.6/dist-packages (from spacy>=2.2.2->de_core_news_sm==2.2.5) (1.0.0)\n",
            "Requirement already satisfied: tqdm<5.0.0,>=4.38.0 in /usr/local/lib/python3.6/dist-packages (from spacy>=2.2.2->de_core_news_sm==2.2.5) (4.41.1)\n",
            "Requirement already satisfied: numpy>=1.15.0 in /usr/local/lib/python3.6/dist-packages (from spacy>=2.2.2->de_core_news_sm==2.2.5) (1.18.5)\n",
            "Requirement already satisfied: plac<1.2.0,>=0.9.6 in /usr/local/lib/python3.6/dist-packages (from spacy>=2.2.2->de_core_news_sm==2.2.5) (1.1.3)\n",
            "Requirement already satisfied: preshed<3.1.0,>=3.0.2 in /usr/local/lib/python3.6/dist-packages (from spacy>=2.2.2->de_core_news_sm==2.2.5) (3.0.2)\n",
            "Requirement already satisfied: srsly<1.1.0,>=1.0.2 in /usr/local/lib/python3.6/dist-packages (from spacy>=2.2.2->de_core_news_sm==2.2.5) (1.0.2)\n",
            "Requirement already satisfied: blis<0.5.0,>=0.4.0 in /usr/local/lib/python3.6/dist-packages (from spacy>=2.2.2->de_core_news_sm==2.2.5) (0.4.1)\n",
            "Requirement already satisfied: chardet<4,>=3.0.2 in /usr/local/lib/python3.6/dist-packages (from requests<3.0.0,>=2.13.0->spacy>=2.2.2->de_core_news_sm==2.2.5) (3.0.4)\n",
            "Requirement already satisfied: idna<3,>=2.5 in /usr/local/lib/python3.6/dist-packages (from requests<3.0.0,>=2.13.0->spacy>=2.2.2->de_core_news_sm==2.2.5) (2.9)\n",
            "Requirement already satisfied: urllib3!=1.25.0,!=1.25.1,<1.26,>=1.21.1 in /usr/local/lib/python3.6/dist-packages (from requests<3.0.0,>=2.13.0->spacy>=2.2.2->de_core_news_sm==2.2.5) (1.24.3)\n",
            "Requirement already satisfied: certifi>=2017.4.17 in /usr/local/lib/python3.6/dist-packages (from requests<3.0.0,>=2.13.0->spacy>=2.2.2->de_core_news_sm==2.2.5) (2020.6.20)\n",
            "Requirement already satisfied: importlib-metadata>=0.20; python_version < \"3.8\" in /usr/local/lib/python3.6/dist-packages (from catalogue<1.1.0,>=0.0.7->spacy>=2.2.2->de_core_news_sm==2.2.5) (1.6.1)\n",
            "Requirement already satisfied: zipp>=0.5 in /usr/local/lib/python3.6/dist-packages (from importlib-metadata>=0.20; python_version < \"3.8\"->catalogue<1.1.0,>=0.0.7->spacy>=2.2.2->de_core_news_sm==2.2.5) (3.1.0)\n",
            "\u001b[38;5;2m✔ Download and installation successful\u001b[0m\n",
            "You can now load the model via spacy.load('de_core_news_sm')\n"
          ],
          "name": "stdout"
        }
      ]
    },
    {
      "cell_type": "code",
      "metadata": {
        "id": "9p_g0Hcg1e5R",
        "colab_type": "code",
        "colab": {
          "base_uri": "https://localhost:8080/",
          "height": 425
        },
        "outputId": "d3af9cb7-4327-42a4-9889-f7c633996b21"
      },
      "source": [
        "# https://stackoverflow.com/questions/56927602/unable-to-load-the-spacy-model-en-core-web-lg-on-google-colab\n",
        "# https://spacy.io/usage/models\n",
        "\n",
        "!pip install de_core_news_sm"
      ],
      "execution_count": 28,
      "outputs": [
        {
          "output_type": "stream",
          "text": [
            "Requirement already satisfied: de_core_news_sm in /usr/local/lib/python3.6/dist-packages (2.2.5)\n",
            "Requirement already satisfied: spacy>=2.2.2 in /usr/local/lib/python3.6/dist-packages (from de_core_news_sm) (2.2.4)\n",
            "Requirement already satisfied: thinc==7.4.0 in /usr/local/lib/python3.6/dist-packages (from spacy>=2.2.2->de_core_news_sm) (7.4.0)\n",
            "Requirement already satisfied: setuptools in /usr/local/lib/python3.6/dist-packages (from spacy>=2.2.2->de_core_news_sm) (47.3.1)\n",
            "Requirement already satisfied: catalogue<1.1.0,>=0.0.7 in /usr/local/lib/python3.6/dist-packages (from spacy>=2.2.2->de_core_news_sm) (1.0.0)\n",
            "Requirement already satisfied: numpy>=1.15.0 in /usr/local/lib/python3.6/dist-packages (from spacy>=2.2.2->de_core_news_sm) (1.18.5)\n",
            "Requirement already satisfied: wasabi<1.1.0,>=0.4.0 in /usr/local/lib/python3.6/dist-packages (from spacy>=2.2.2->de_core_news_sm) (0.7.0)\n",
            "Requirement already satisfied: requests<3.0.0,>=2.13.0 in /usr/local/lib/python3.6/dist-packages (from spacy>=2.2.2->de_core_news_sm) (2.23.0)\n",
            "Requirement already satisfied: tqdm<5.0.0,>=4.38.0 in /usr/local/lib/python3.6/dist-packages (from spacy>=2.2.2->de_core_news_sm) (4.41.1)\n",
            "Requirement already satisfied: murmurhash<1.1.0,>=0.28.0 in /usr/local/lib/python3.6/dist-packages (from spacy>=2.2.2->de_core_news_sm) (1.0.2)\n",
            "Requirement already satisfied: blis<0.5.0,>=0.4.0 in /usr/local/lib/python3.6/dist-packages (from spacy>=2.2.2->de_core_news_sm) (0.4.1)\n",
            "Requirement already satisfied: plac<1.2.0,>=0.9.6 in /usr/local/lib/python3.6/dist-packages (from spacy>=2.2.2->de_core_news_sm) (1.1.3)\n",
            "Requirement already satisfied: cymem<2.1.0,>=2.0.2 in /usr/local/lib/python3.6/dist-packages (from spacy>=2.2.2->de_core_news_sm) (2.0.3)\n",
            "Requirement already satisfied: srsly<1.1.0,>=1.0.2 in /usr/local/lib/python3.6/dist-packages (from spacy>=2.2.2->de_core_news_sm) (1.0.2)\n",
            "Requirement already satisfied: preshed<3.1.0,>=3.0.2 in /usr/local/lib/python3.6/dist-packages (from spacy>=2.2.2->de_core_news_sm) (3.0.2)\n",
            "Requirement already satisfied: importlib-metadata>=0.20; python_version < \"3.8\" in /usr/local/lib/python3.6/dist-packages (from catalogue<1.1.0,>=0.0.7->spacy>=2.2.2->de_core_news_sm) (1.6.1)\n",
            "Requirement already satisfied: idna<3,>=2.5 in /usr/local/lib/python3.6/dist-packages (from requests<3.0.0,>=2.13.0->spacy>=2.2.2->de_core_news_sm) (2.9)\n",
            "Requirement already satisfied: urllib3!=1.25.0,!=1.25.1,<1.26,>=1.21.1 in /usr/local/lib/python3.6/dist-packages (from requests<3.0.0,>=2.13.0->spacy>=2.2.2->de_core_news_sm) (1.24.3)\n",
            "Requirement already satisfied: chardet<4,>=3.0.2 in /usr/local/lib/python3.6/dist-packages (from requests<3.0.0,>=2.13.0->spacy>=2.2.2->de_core_news_sm) (3.0.4)\n",
            "Requirement already satisfied: certifi>=2017.4.17 in /usr/local/lib/python3.6/dist-packages (from requests<3.0.0,>=2.13.0->spacy>=2.2.2->de_core_news_sm) (2020.6.20)\n",
            "Requirement already satisfied: zipp>=0.5 in /usr/local/lib/python3.6/dist-packages (from importlib-metadata>=0.20; python_version < \"3.8\"->catalogue<1.1.0,>=0.0.7->spacy>=2.2.2->de_core_news_sm) (3.1.0)\n"
          ],
          "name": "stdout"
        }
      ]
    },
    {
      "cell_type": "code",
      "metadata": {
        "id": "e5tUOzUd4wJX",
        "colab_type": "code",
        "colab": {}
      },
      "source": [
        "import de_core_news_sm\n",
        "spacy_de = de_core_news_sm.load()"
      ],
      "execution_count": 29,
      "outputs": []
    },
    {
      "cell_type": "code",
      "metadata": {
        "id": "c_eVHQdG4YlM",
        "colab_type": "code",
        "colab": {
          "base_uri": "https://localhost:8080/",
          "height": 425
        },
        "outputId": "a3f109af-40ed-420c-d483-71fe1936f95c"
      },
      "source": [
        "!pip install en_core_web_sm"
      ],
      "execution_count": 30,
      "outputs": [
        {
          "output_type": "stream",
          "text": [
            "Requirement already satisfied: en_core_web_sm in /usr/local/lib/python3.6/dist-packages (2.2.5)\n",
            "Requirement already satisfied: spacy>=2.2.2 in /usr/local/lib/python3.6/dist-packages (from en_core_web_sm) (2.2.4)\n",
            "Requirement already satisfied: murmurhash<1.1.0,>=0.28.0 in /usr/local/lib/python3.6/dist-packages (from spacy>=2.2.2->en_core_web_sm) (1.0.2)\n",
            "Requirement already satisfied: thinc==7.4.0 in /usr/local/lib/python3.6/dist-packages (from spacy>=2.2.2->en_core_web_sm) (7.4.0)\n",
            "Requirement already satisfied: catalogue<1.1.0,>=0.0.7 in /usr/local/lib/python3.6/dist-packages (from spacy>=2.2.2->en_core_web_sm) (1.0.0)\n",
            "Requirement already satisfied: blis<0.5.0,>=0.4.0 in /usr/local/lib/python3.6/dist-packages (from spacy>=2.2.2->en_core_web_sm) (0.4.1)\n",
            "Requirement already satisfied: wasabi<1.1.0,>=0.4.0 in /usr/local/lib/python3.6/dist-packages (from spacy>=2.2.2->en_core_web_sm) (0.7.0)\n",
            "Requirement already satisfied: requests<3.0.0,>=2.13.0 in /usr/local/lib/python3.6/dist-packages (from spacy>=2.2.2->en_core_web_sm) (2.23.0)\n",
            "Requirement already satisfied: tqdm<5.0.0,>=4.38.0 in /usr/local/lib/python3.6/dist-packages (from spacy>=2.2.2->en_core_web_sm) (4.41.1)\n",
            "Requirement already satisfied: numpy>=1.15.0 in /usr/local/lib/python3.6/dist-packages (from spacy>=2.2.2->en_core_web_sm) (1.18.5)\n",
            "Requirement already satisfied: setuptools in /usr/local/lib/python3.6/dist-packages (from spacy>=2.2.2->en_core_web_sm) (47.3.1)\n",
            "Requirement already satisfied: cymem<2.1.0,>=2.0.2 in /usr/local/lib/python3.6/dist-packages (from spacy>=2.2.2->en_core_web_sm) (2.0.3)\n",
            "Requirement already satisfied: srsly<1.1.0,>=1.0.2 in /usr/local/lib/python3.6/dist-packages (from spacy>=2.2.2->en_core_web_sm) (1.0.2)\n",
            "Requirement already satisfied: plac<1.2.0,>=0.9.6 in /usr/local/lib/python3.6/dist-packages (from spacy>=2.2.2->en_core_web_sm) (1.1.3)\n",
            "Requirement already satisfied: preshed<3.1.0,>=3.0.2 in /usr/local/lib/python3.6/dist-packages (from spacy>=2.2.2->en_core_web_sm) (3.0.2)\n",
            "Requirement already satisfied: importlib-metadata>=0.20; python_version < \"3.8\" in /usr/local/lib/python3.6/dist-packages (from catalogue<1.1.0,>=0.0.7->spacy>=2.2.2->en_core_web_sm) (1.6.1)\n",
            "Requirement already satisfied: idna<3,>=2.5 in /usr/local/lib/python3.6/dist-packages (from requests<3.0.0,>=2.13.0->spacy>=2.2.2->en_core_web_sm) (2.9)\n",
            "Requirement already satisfied: urllib3!=1.25.0,!=1.25.1,<1.26,>=1.21.1 in /usr/local/lib/python3.6/dist-packages (from requests<3.0.0,>=2.13.0->spacy>=2.2.2->en_core_web_sm) (1.24.3)\n",
            "Requirement already satisfied: chardet<4,>=3.0.2 in /usr/local/lib/python3.6/dist-packages (from requests<3.0.0,>=2.13.0->spacy>=2.2.2->en_core_web_sm) (3.0.4)\n",
            "Requirement already satisfied: certifi>=2017.4.17 in /usr/local/lib/python3.6/dist-packages (from requests<3.0.0,>=2.13.0->spacy>=2.2.2->en_core_web_sm) (2020.6.20)\n",
            "Requirement already satisfied: zipp>=0.5 in /usr/local/lib/python3.6/dist-packages (from importlib-metadata>=0.20; python_version < \"3.8\"->catalogue<1.1.0,>=0.0.7->spacy>=2.2.2->en_core_web_sm) (3.1.0)\n"
          ],
          "name": "stdout"
        }
      ]
    },
    {
      "cell_type": "code",
      "metadata": {
        "id": "sq5MgTZ45jUD",
        "colab_type": "code",
        "colab": {}
      },
      "source": [
        "import en_core_web_sm\n",
        "spacy_en = en_core_web_sm.load()"
      ],
      "execution_count": 31,
      "outputs": []
    },
    {
      "cell_type": "code",
      "metadata": {
        "id": "GoGnCYb55nmZ",
        "colab_type": "code",
        "colab": {}
      },
      "source": [
        "url = re.compile('(<url>.*</url>)')"
      ],
      "execution_count": 32,
      "outputs": []
    },
    {
      "cell_type": "code",
      "metadata": {
        "id": "ahkwwkBG1mkm",
        "colab_type": "code",
        "colab": {}
      },
      "source": [
        "def tokenize_de(text):\n",
        "    return [tok.text for tok in spacy_de.tokenizer(url.sub('@URL@', text))]\n",
        "\n",
        "def tokenize_en(text):\n",
        "    return [tok.text for tok in spacy_en.tokenizer(url.sub('@URL@', text))]"
      ],
      "execution_count": 33,
      "outputs": []
    },
    {
      "cell_type": "code",
      "metadata": {
        "id": "84DpBWNP1sbi",
        "colab_type": "code",
        "colab": {}
      },
      "source": [
        "from torchtext.data.utils import get_tokenizer\n",
        "\n",
        "DE = data.Field(tokenize=tokenize_de, init_token='<sos>', eos_token='<eos>')\n",
        "EN = data.Field(tokenize=tokenize_en, init_token='<sos>', eos_token='<eos>')"
      ],
      "execution_count": 34,
      "outputs": []
    },
    {
      "cell_type": "code",
      "metadata": {
        "id": "TWfdpGdh6rJc",
        "colab_type": "code",
        "colab": {
          "base_uri": "https://localhost:8080/",
          "height": 35
        },
        "outputId": "2b2e91ed-c1e1-4ac4-bd64-25e1431b1f6c"
      },
      "source": [
        "from google.colab import drive\n",
        "drive.mount('/content/drive')\n",
        "path = '/content/drive/My Drive/data/data/translation/'"
      ],
      "execution_count": 35,
      "outputs": [
        {
          "output_type": "stream",
          "text": [
            "Drive already mounted at /content/drive; to attempt to forcibly remount, call drive.mount(\"/content/drive\", force_remount=True).\n"
          ],
          "name": "stdout"
        }
      ]
    },
    {
      "cell_type": "code",
      "metadata": {
        "id": "2VHAElbx1uFH",
        "colab_type": "code",
        "colab": {
          "base_uri": "https://localhost:8080/",
          "height": 35
        },
        "outputId": "cbb121f9-dab3-478a-bc5d-a726654a64ad"
      },
      "source": [
        "train_data, valid_data, test_data = datasets.Multi30k.splits(exts=('.de', '.en'), fields=(DE, EN))\n",
        "print('Loaded data...')"
      ],
      "execution_count": 36,
      "outputs": [
        {
          "output_type": "stream",
          "text": [
            "Loaded data...\n"
          ],
          "name": "stdout"
        }
      ]
    },
    {
      "cell_type": "code",
      "metadata": {
        "id": "oRR9469r7U7N",
        "colab_type": "code",
        "colab": {
          "base_uri": "https://localhost:8080/",
          "height": 148
        },
        "outputId": "7d146939-a437-4a93-d51f-c164bf577892"
      },
      "source": [
        "print(train_data.fields)\n",
        "print(len(train_data))\n",
        "print(len(valid_data))\n",
        "print(vars(train_data[0]))\n",
        "print(vars(train_data[100]))\n",
        "print(vars(valid_data[100]))"
      ],
      "execution_count": 37,
      "outputs": [
        {
          "output_type": "stream",
          "text": [
            "{'src': <torchtext.data.field.Field object at 0x7fa7b6d244a8>, 'trg': <torchtext.data.field.Field object at 0x7fa7b6d24470>}\n",
            "29000\n",
            "1014\n",
            "{'src': ['Zwei', 'junge', 'weiße', 'Männer', 'sind', 'im', 'Freien', 'in', 'der', 'Nähe', 'vieler', 'Büsche', '.'], 'trg': ['Two', 'young', ',', 'White', 'males', 'are', 'outside', 'near', 'many', 'bushes', '.']}\n",
            "{'src': ['Männliches', 'Kleinkind', 'in', 'einem', 'roten', 'Hut', ',', 'das', 'sich', 'an', 'einem', 'Geländer', 'festhält', '.'], 'trg': ['Toddler', 'boy', 'in', 'a', 'red', 'hat', 'holding', 'on', 'to', 'some', 'railings', '.']}\n",
            "{'src': ['Ein', 'älterer', ',', 'übergewichtiger', 'Mann', 'wendet', 'einen', 'Pfannkuchen', ',', 'während', 'er', 'Frühstück', 'macht', '.'], 'trg': ['An', 'older', ',', 'overweight', 'man', 'flips', 'a', 'pancake', 'while', 'making', 'breakfast', '.']}\n"
          ],
          "name": "stdout"
        }
      ]
    },
    {
      "cell_type": "code",
      "metadata": {
        "id": "P6XDPfZkB6p4",
        "colab_type": "code",
        "colab": {}
      },
      "source": [
        "# set source and target language\n",
        "DE.build_vocab(train_data.src, min_freq=3)\n",
        "EN.build_vocab(train_data.trg, min_freq=3)"
      ],
      "execution_count": 38,
      "outputs": []
    },
    {
      "cell_type": "code",
      "metadata": {
        "id": "4FwAMWsnCOs0",
        "colab_type": "code",
        "colab": {
          "base_uri": "https://localhost:8080/",
          "height": 111
        },
        "outputId": "1dcdd577-e907-4536-99b6-3b1d26e19e61"
      },
      "source": [
        "train_iter, valid_iter = data.BucketIterator.splits((train_data, valid_data), batch_size=32, device=device)\n",
        "\n",
        "print(DE.vocab.freqs.most_common(10))\n",
        "print(len(DE.vocab))\n",
        "print(EN.vocab.freqs.most_common(10))\n",
        "print(len(EN.vocab))"
      ],
      "execution_count": 39,
      "outputs": [
        {
          "output_type": "stream",
          "text": [
            "[('.', 28821), ('Ein', 13904), ('einem', 13697), ('in', 11830), (',', 8938), ('und', 8925), ('mit', 8838), ('auf', 8686), ('Mann', 7805), ('einer', 6750)]\n",
            "5500\n",
            "[('a', 31707), ('.', 27623), ('A', 17458), ('in', 14847), ('the', 9923), ('on', 8019), ('is', 7524), ('and', 7378), ('man', 7359), ('of', 6871)]\n",
            "4727\n"
          ],
          "name": "stdout"
        }
      ]
    },
    {
      "cell_type": "code",
      "metadata": {
        "id": "v_4fR3w0HAkr",
        "colab_type": "code",
        "colab": {}
      },
      "source": [
        "class EncoderRNN(nn.Module):\n",
        "    def __init__(self, vocab_size, embedding_size, hidden_size, device):\n",
        "        super(EncoderRNN, self).__init__()\n",
        "\n",
        "        self.hidden_size = hidden_size\n",
        "\n",
        "        self.embed = nn.Embedding(vocab_size, embedding_size)\n",
        "        self.gru = nn.GRU(embedding_size, hidden_size)\n",
        "\n",
        "        self.device = device\n",
        "        self.to(self.device)\n",
        "        \n",
        "    def forward(self, input, hidden):\n",
        "        # input is of shape [1, batch_size]\n",
        "        # embedded is of shape [1, batch_size, embedding_size]\n",
        "\n",
        "        input = input.to(self.device)\n",
        "\n",
        "        embedded = self.embed(input)\n",
        "        output, hidden = self.gru(embedded, hidden)\n",
        "\n",
        "        # output shape is [1, batch_size, hidden_dim]\n",
        "        # hidden shape is [num_layers, batch_size, hidden_dim]\n",
        "\n",
        "        return output, hidden\n",
        "\n",
        "    def init_hidden(self, batch_size):\n",
        "        return torch.zeros(1, batch_size, self.hidden_size, device=device)\n"
      ],
      "execution_count": 40,
      "outputs": []
    },
    {
      "cell_type": "code",
      "metadata": {
        "id": "8kmQvH4PIjL4",
        "colab_type": "code",
        "colab": {}
      },
      "source": [
        "class AttentionDecoderRNN(nn.Module):\n",
        "    def __init__(self, vocab_size, embedding_size, hidden_size, n_dropout, device):\n",
        "        super(AttentionDecoderRNN, self).__init__()\n",
        "        self.hidden_size = hidden_size\n",
        "        self.embedding_size = embedding_size\n",
        "        self.n_dropout = n_dropout\n",
        "\n",
        "        self.embed = nn.Embedding(vocab_size, self.embedding_size)\n",
        "        self.gru = nn.GRU(self.hidden_size, self.hidden_size)\n",
        "        self.dropout = nn.Dropout(self.n_dropout)\n",
        "\n",
        "        self.align = nn.Linear(self.hidden_size * 2, self.hidden_size)\n",
        "        self.V = nn.Parameter(torch.rand(hidden_size))\n",
        "\n",
        "        self.appl_context = nn.Linear(self.hidden_size + self.embedding_size, self.hidden_size)\n",
        "        self.out = nn.Linear(hidden_size, vocab_size)\n",
        "        self.logsoftmax = nn.LogSoftmax(dim=1)\n",
        "        \n",
        "        self.device = device\n",
        "        self.to(self.device)\n",
        "\n",
        "    def forward(self, input, hidden, enc_outputs):\n",
        "        # input is of shape [batch_size]\n",
        "        # enc_outputs is of shape [sequence_len, batch_size, hidden_dim]\n",
        "        # hidden is of shape [1, batch_size, hiden_dim]\n",
        "\n",
        "        batch_size = hidden.size(1)\n",
        "\n",
        "        # Attention\n",
        "\n",
        "        hidden_context = hidden.clone().detach().requires_grad_(True)\n",
        "        hidden_context = hidden_context.repeat(enc_outputs.size(0), 1, 1)\n",
        "\n",
        "        # Hidden is expanded to sequence_len\n",
        "        # Hidden is now of shape [sequence_len, batch_size, hidden_dim]\n",
        "\n",
        "        attn_in = torch.cat((enc_outputs, hidden_context), dim=-1)\n",
        "        # combined enc_outputs and hidden:  [sequence_len, batch_size, hidden_dim * 2]\n",
        "\n",
        "        aligned = self.align(attn_in)\n",
        "        aligned = torch.tanh(aligned)\n",
        "        \n",
        "        aligned = aligned.permute(1, 2, 0)\n",
        "        #aligned = [batch size, hidden_dim, sequence_len]\n",
        "        \n",
        "        #v = [hidden_dim]\n",
        "        v = self.V.repeat(batch_size, 1).unsqueeze(1)\n",
        "        #v = [batch size, 1, dec hid dim]\n",
        "\n",
        "        attention = torch.bmm(v, aligned).squeeze(1)\n",
        "        #attention = [batch size, src len]\n",
        "\n",
        "        alphas = F.softmax(attention, dim=1)\n",
        "        #alphas = [batch_size, sequence_len]\n",
        "\n",
        "        alphas = alphas.unsqueeze(1)\n",
        "        #alphas =  [batch_size, 1, sequence_len]\n",
        "\n",
        "        # enc_outputs is of shape [sequence_len, batch_size, hidden_dim]\n",
        "        enc_outputs = enc_outputs.permute(1, 0, 2)\n",
        "        #enc_outputs = [batch_size, sequence_len, hidden_dim]\n",
        "\n",
        "        context = torch.bmm(alphas, enc_outputs)\n",
        "        #weighted = [batch_size, 1, hidden_dim]\n",
        "        \n",
        "        context = context.permute(1, 0, 2)\n",
        "        #context: [1, batch_size, hidden_dim]\n",
        "\n",
        "        # Decoder\n",
        "\n",
        "        batch_size = hidden.size(1)\n",
        "        \n",
        "        input = input.unsqueeze(0)\n",
        "        # now, input shape is [1, batch_size]\n",
        "\n",
        "        input = input.to(self.device)\n",
        "\n",
        "        embedded = self.embed(input)\n",
        "        embedded = self.dropout(embedded)\n",
        "        # embedded is of shape [1, batch_size, embedding_dim]\n",
        "\n",
        "        output = torch.cat((embedded, context), dim=-1)\n",
        "        #output:  [1, batch_size, hidden_dim * 2]\n",
        "\n",
        "        output = self.appl_context(output)\n",
        "        output = F.relu(output)\n",
        "\n",
        "        output, hidden = self.gru(output, hidden)\n",
        "        #output:  [1, batch_size, hidden_dim]\n",
        "\n",
        "        output = self.out(output.squeeze(0))\n",
        "        #output:  [1, batch_size, vocab_size]\n",
        "\n",
        "        output = self.logsoftmax(output)\n",
        "\n",
        "        return output, hidden, alphas\n"
      ],
      "execution_count": 49,
      "outputs": []
    },
    {
      "cell_type": "code",
      "metadata": {
        "id": "9lPdNYu4wbAs",
        "colab_type": "code",
        "colab": {}
      },
      "source": [
        "#print(enc)\n",
        "#print(dec)"
      ],
      "execution_count": 42,
      "outputs": []
    },
    {
      "cell_type": "code",
      "metadata": {
        "id": "WYqrDNmxV7Nq",
        "colab_type": "code",
        "colab": {
          "base_uri": "https://localhost:8080/",
          "height": 443
        },
        "outputId": "53692bb1-f207-4802-b52f-4fc9ee9999f7"
      },
      "source": [
        "vocab_size_src = len(DE.vocab)\n",
        "vocab_size_trg = len(EN.vocab)\n",
        "\n",
        "embedding_size = 300\n",
        "hidden_size = 128\n",
        "n_dropout = 0.1\n",
        "\n",
        "enc = EncoderRNN(vocab_size_src, embedding_size, hidden_size, device)\n",
        "dec = AttentionDecoderRNN(vocab_size_trg, embedding_size, hidden_size, n_dropout, device)\n",
        "\n",
        "enc_optim = optim.Adam(enc.parameters())\n",
        "dec_optim = optim.Adam(dec.parameters())\n",
        "    \n",
        "pad_idx = EN.vocab.stoi['<pad>']\n",
        "print('Pad index: ', pad_idx)\n",
        "criterion = nn.NLLLoss(ignore_index=pad_idx)\n",
        "\n",
        "epochs = 20\n",
        "clip = 10\n",
        "\n",
        "epoch_losses = []\n",
        "\n",
        "for epoch in range(epochs):\n",
        "    epoch_loss = 0\n",
        "\n",
        "    for batch in train_iter:\n",
        "        hidden = enc.init_hidden(batch.src.size(1))\n",
        "\n",
        "        max_len_enc = batch.src.size(0)\n",
        "\n",
        "        enc_outputs = torch.zeros(max_len_enc, batch.src.size(1), hidden_size, device=device)\n",
        "        for i in range(max_len_enc):\n",
        "            out, hidden = enc(batch.src[i].unsqueeze(0), hidden)\n",
        "            enc_outputs[i] = out\n",
        "\n",
        "        # store outputs\n",
        "        max_len_dec = batch.trg.size(0)\n",
        "\n",
        "        outputs = torch.zeros(max_len_dec, batch.trg.size(1), vocab_size_trg, device=device)\n",
        "        input = batch.trg[0]\n",
        "        \n",
        "        for i in range(1, max_len_dec):\n",
        "            output, hidden, _ = dec(input, hidden, enc_outputs)\n",
        "            outputs[i] = output\n",
        "            input = batch.trg[i]\n",
        "\n",
        "        enc_optim.zero_grad()\n",
        "        dec_optim.zero_grad()\n",
        "\n",
        "        target = torch.tensor(batch.trg[1:], device=device)\n",
        "        loss = criterion(outputs[1:].view(-1, outputs.shape[2]), target.view(-1))\n",
        "        loss.backward()\n",
        "\n",
        "        nn.utils.clip_grad_norm_(enc.parameters(), clip)\n",
        "        nn.utils.clip_grad_norm_(dec.parameters(), clip)\n",
        "\n",
        "        enc_optim.step()\n",
        "        dec_optim.step()\n",
        "\n",
        "        epoch_loss += loss.item()\n",
        "        print('\\rEpoch {} : Loss {:.3f}'.format(epoch, epoch_loss / len(batch)), end=\"\")\n",
        "\n",
        "    print('\\rEpoch {} : Loss {:.3f}'.format(epoch, epoch_loss / len(train_iter)))\n",
        "\n",
        "    epoch_losses.append(epoch_loss / len(train_iter))"
      ],
      "execution_count": 50,
      "outputs": [
        {
          "output_type": "stream",
          "text": [
            "Pad index:  1\n"
          ],
          "name": "stdout"
        },
        {
          "output_type": "stream",
          "text": [
            "/usr/local/lib/python3.6/dist-packages/ipykernel_launcher.py:50: UserWarning: To copy construct from a tensor, it is recommended to use sourceTensor.clone().detach() or sourceTensor.clone().detach().requires_grad_(True), rather than torch.tensor(sourceTensor).\n"
          ],
          "name": "stderr"
        },
        {
          "output_type": "stream",
          "text": [
            "Epoch 0 : Loss 4.094\n",
            "Epoch 1 : Loss 3.193\n",
            "Epoch 2 : Loss 2.749\n",
            "Epoch 3 : Loss 2.439\n",
            "Epoch 4 : Loss 2.205\n",
            "Epoch 5 : Loss 2.022\n",
            "Epoch 6 : Loss 1.873\n",
            "Epoch 7 : Loss 1.751\n",
            "Epoch 8 : Loss 1.647\n",
            "Epoch 9 : Loss 1.558\n",
            "Epoch 10 : Loss 1.481\n",
            "Epoch 11 : Loss 1.412\n",
            "Epoch 12 : Loss 1.350\n",
            "Epoch 13 : Loss 1.295\n",
            "Epoch 14 : Loss 1.244\n",
            "Epoch 15 : Loss 1.200\n",
            "Epoch 16 : Loss 1.160\n",
            "Epoch 17 : Loss 1.118\n",
            "Epoch 18 : Loss 1.084\n",
            "Epoch 19 : Loss 1.052\n"
          ],
          "name": "stdout"
        }
      ]
    },
    {
      "cell_type": "code",
      "metadata": {
        "id": "sJzP-aiMpj84",
        "colab_type": "code",
        "colab": {
          "base_uri": "https://localhost:8080/",
          "height": 299
        },
        "outputId": "ca6cc048-9bfc-455a-f700-2f1303470ffa"
      },
      "source": [
        "import matplotlib.pyplot as plt\n",
        "\n",
        "plt.plot(epoch_losses)\n",
        "plt.title(\"Training loss\")"
      ],
      "execution_count": 51,
      "outputs": [
        {
          "output_type": "execute_result",
          "data": {
            "text/plain": [
              "Text(0.5, 1.0, 'Training loss')"
            ]
          },
          "metadata": {
            "tags": []
          },
          "execution_count": 51
        },
        {
          "output_type": "display_data",
          "data": {
            "image/png": "[encoded data removed]",
            "text/plain": [
              "<Figure size 432x288 with 1 Axes>"
            ]
          },
          "metadata": {
            "tags": [],
            "needs_background": "light"
          }
        }
      ]
    },
    {
      "cell_type": "code",
      "metadata": {
        "id": "HiXYRMKkqiyi",
        "colab_type": "code",
        "colab": {}
      },
      "source": [
        "import matplotlib.ticker as ticker\n",
        "import matplotlib.pyplot as plt\n",
        "\n",
        "def show_attention(input_sentence, output_words, attentions):\n",
        "    # Set up figure with colorbar\n",
        "    fig = plt.figure()\n",
        "    ax = fig.add_subplot(111)\n",
        "    cax = ax.matshow(attentions.numpy(), cmap='bone')\n",
        "    fig.colorbar(cax)\n",
        "\n",
        "    # Set up axes\n",
        "    ax.set_xticklabels([''] + input_sentence +\n",
        "                       ['<EOS>'], rotation=90)\n",
        "    ax.set_yticklabels([''] + output_words)\n",
        "\n",
        "    # Show label at every tick\n",
        "    ax.xaxis.set_major_locator(ticker.MultipleLocator(1))\n",
        "    ax.yaxis.set_major_locator(ticker.MultipleLocator(1))\n",
        "\n",
        "    plt.show()"
      ],
      "execution_count": 52,
      "outputs": []
    },
    {
      "cell_type": "code",
      "metadata": {
        "id": "JQ6RHiXNPeEY",
        "colab_type": "code",
        "colab": {
          "base_uri": "https://localhost:8080/",
          "height": 386
        },
        "outputId": "5f4cfad7-e112-4eed-a110-309fc826cc75"
      },
      "source": [
        "sos_idx = EN.vocab.stoi['<sos>']\n",
        "eos_idx = EN.vocab.stoi['<eos>']\n",
        "\n",
        "batch = next(iter(valid_iter))\n",
        "\n",
        "for i in range(5):\n",
        "    with torch.no_grad():\n",
        "        encoder_input = batch.src[:, i].unsqueeze(1)\n",
        "        hidden = enc.init_hidden(1)\n",
        "\n",
        "        encoded = []\n",
        "        max_len_enc = batch.src.size(0)\n",
        "        enc_outputs = torch.zeros(max_len_enc, 1, hidden_size, device=device)\n",
        "        for ip in encoder_input:\n",
        "            encoded.append(DE.vocab.itos[ip.item()])\n",
        "            out, hidden = enc(ip.unsqueeze(0), hidden)\n",
        "            enc_outputs[i] = out\n",
        "\n",
        "        max_len_dec = batch.trg.size(0)\n",
        "        decoder_input = torch.tensor([sos_idx], device=device)\n",
        "        decoder_attentions = torch.zeros(max_len_dec*2, max_len_enc)\n",
        "\n",
        "        decoded = []\n",
        "        decoded.append(EN.vocab.itos[sos_idx])\n",
        "        true_output = batch.trg[:, i].unsqueeze(1)\n",
        "        true = [EN.vocab.itos[w] for w in true_output]\n",
        "\n",
        "        k = 0\n",
        "        while True:\n",
        "            output, hidden, alphas = dec(decoder_input, hidden, enc_outputs)\n",
        "            topv, topi = output.topk(1)\n",
        "            topi = topi.squeeze(1)\n",
        "            decoder_input = topi.detach()\n",
        "            \n",
        "            decoder_attentions[k] = alphas\n",
        "            k += 1\n",
        "            \n",
        "            decoded.append(EN.vocab.itos[decoder_input.item()])\n",
        "            if decoder_input.item() == eos_idx:\n",
        "                break\n",
        "\n",
        "        print(encoded)\n",
        "        print(decoded)\n",
        "        print(true)\n",
        "        print()\n",
        "\n",
        "        #show_attention(encoded, decoded, decoder_attentions)"
      ],
      "execution_count": 54,
      "outputs": [
        {
          "output_type": "stream",
          "text": [
            "['<sos>', 'Ein', 'Kind', 'sitzt', 'auf', 'einer', '<unk>', '.', '<eos>']\n",
            "['<sos>', 'A', 'high', '-', '<unk>', 'is', 'riding', 'a', 'beige', '-', '<unk>', 'in', 'a', 'forest', '.', '<eos>']\n",
            "['<sos>', 'A', 'child', 'sitting', 'on', 'a', 'rock', 'formation', '.', '<eos>', '<pad>', '<pad>', '<pad>']\n",
            "\n",
            "['<sos>', 'Zwei', 'Frauen', 'lächeln', 'bei', 'einer', 'Veranstaltung', '.', '<eos>']\n",
            "['<sos>', 'Two', 'women', 'in', 'a', 'military', 'camouflage', 'shirt', 'are', 'flipping', 'hand', 'on', 'a', 'shoulder', '.', '<eos>']\n",
            "['<sos>', 'Two', 'women', 'are', 'smiling', 'at', 'an', 'event', '.', '<eos>', '<pad>', '<pad>', '<pad>']\n",
            "\n",
            "['<sos>', 'Zwei', 'Pudel', 'rennen', 'durch', 'den', 'Schnee', '.', '<eos>']\n",
            "['<sos>', 'Two', 'women', 'in', 'red', 'and', 'gray', 'snow', 'are', 'wearing', 'a', 'life', 'jacket', '.', '<eos>']\n",
            "['<sos>', 'Two', 'poodles', 'are', 'running', 'through', 'the', 'snow', '.', '<eos>', '<pad>', '<pad>', '<pad>']\n",
            "\n",
            "['<sos>', '<unk>', '<unk>', 'tagsüber', 'ihre', '<unk>', '.', '<eos>', '<pad>']\n",
            "['<sos>', '<unk>', ',', 'a', 'couple', 'of', 'blue', 'and', 'white', 'lab', 'is', 'taking', 'place', 'in', 'the', 'woods', '.', '<eos>']\n",
            "['<sos>', '<unk>', 'are', 'performing', 'their', '<unk>', 'during', 'the', 'day', '.', '<eos>', '<pad>', '<pad>']\n",
            "\n",
            "['<sos>', 'Drei', 'Hunde', 'spielen', 'im', 'Wasser', '.', '<eos>', '<pad>']\n",
            "['<sos>', 'Three', 'people', 'in', 'red', 'and', 'purple', 'hiking', 'gear', '.', '<eos>']\n",
            "['<sos>', 'Three', 'dogs', 'are', 'playing', 'in', 'the', 'water', '.', '<eos>', '<pad>', '<pad>', '<pad>']\n",
            "\n"
          ],
          "name": "stdout"
        }
      ]
    },
    {
      "cell_type": "code",
      "metadata": {
        "id": "2n7ClZmtxwSh",
        "colab_type": "code",
        "colab": {
          "base_uri": "https://localhost:8080/",
          "height": 460
        },
        "outputId": "db32a1b4-d945-4aff-c16e-78ecfad38af2"
      },
      "source": [
        "import numpy as np\n",
        "\n",
        "batch_src = [['<sos>', 'Ein', 'Kind', 'sitzt', 'auf', 'einer', '<unk>', '.', '<eos>'], \n",
        "             ['<sos>', 'Zwei', 'Frauen', 'lächeln', 'bei', 'einer', 'Veranstaltung', '.', '<eos>'],\n",
        "             ['<sos>', 'Zwei', 'Pudel', 'rennen', 'durch', 'den', 'Schnee', '.', '<eos>'],\n",
        "             ['<sos>', '<unk>', '<unk>', 'tagsüber', 'ihre', '<unk>', '.', '<eos>', '<pad>'],\n",
        "             ['<sos>', 'Drei', 'Hunde', 'spielen', 'im', 'Wasser', '.', '<eos>', '<pad>']]\n",
        "batch_src = np.array(batch_src)\n",
        "\n",
        "batch_src_tensor = torch.zeros(batch_src.shape[0], batch_src.shape[1], dtype=torch.long)\n",
        "\n",
        "for n in range(batch_src.shape[0]):\n",
        "    for m in range(batch_src.shape[1]):\n",
        "        batch_src_tensor[n, m] = DE.vocab.stoi[batch_src[n, m]]\n",
        "\n",
        "batch_src_tensor = batch_src_tensor.T\n",
        "print(batch_src_tensor)\n",
        "\n",
        "for i in range(5):\n",
        "    with torch.no_grad():\n",
        "        encoder_input = batch_src_tensor[:, i].unsqueeze(1)\n",
        "        hidden = enc.init_hidden(1)\n",
        "\n",
        "        encoded = []\n",
        "        max_len_enc = batch_src_tensor.size(0)\n",
        "        enc_outputs = torch.zeros(max_len_enc, 1, hidden_size, device=device)\n",
        "        for ip in encoder_input:\n",
        "            encoded.append(DE.vocab.itos[ip.item()])\n",
        "            out, hidden = enc(ip.unsqueeze(0), hidden)\n",
        "            enc_outputs[i] = out\n",
        "\n",
        "        max_len_dec = batch_src_tensor.size(0)\n",
        "        decoder_input = torch.tensor([sos_idx], device=device)\n",
        "        decoder_attentions = torch.zeros(max_len_dec*2, max_len_enc)\n",
        "\n",
        "        decoded = []\n",
        "        decoded.append(EN.vocab.itos[sos_idx])\n",
        "\n",
        "        k = 0\n",
        "        while True:\n",
        "            output, hidden, alphas = dec(decoder_input, hidden, enc_outputs)\n",
        "            topv, topi = output.topk(1)\n",
        "            topi = topi.squeeze(1)\n",
        "            decoder_input = topi.detach()\n",
        "            \n",
        "            decoder_attentions[k] = alphas\n",
        "            k += 1\n",
        "            \n",
        "            decoded.append(EN.vocab.itos[decoder_input.item()])\n",
        "            if decoder_input.item() == eos_idx:\n",
        "                break\n",
        "\n",
        "        print(encoded)\n",
        "        print(decoded)\n",
        "        print()\n",
        "\n",
        "        #show_attention(encoded, decoded, decoder_attentions)\n"
      ],
      "execution_count": 63,
      "outputs": [
        {
          "output_type": "stream",
          "text": [
            "tensor([[   2,    2,    2,    2,    2],\n",
            "        [   5,   21,   21,    0,   60],\n",
            "        [  50,   46, 1751,    0,  123],\n",
            "        [  32,  328,  236, 2274,   59],\n",
            "        [  11,   63,   58,  128,   22],\n",
            "        [  13,   13,   34,    0,   65],\n",
            "        [   0,  521,  125,    4,    4],\n",
            "        [   4,    4,    4,    3,    3],\n",
            "        [   3,    3,    3,    1,    1]])\n",
            "['<sos>', 'Ein', 'Kind', 'sitzt', 'auf', 'einer', '<unk>', '.', '<eos>']\n",
            "['<sos>', 'A', 'high', 'jumper', 'is', 'doing', 'a', '<unk>', 'trick', 'on', 'a', 'red', 'barrier', '.', '<eos>']\n",
            "\n",
            "['<sos>', 'Zwei', 'Frauen', 'lächeln', 'bei', 'einer', 'Veranstaltung', '.', '<eos>']\n",
            "['<sos>', 'Two', 'women', 'in', 'a', 'military', 'camouflage', 'shirt', '<unk>', 'on', 'a', 'brick', 'wall', '.', '<eos>']\n",
            "\n",
            "['<sos>', 'Zwei', 'Pudel', 'rennen', 'durch', 'den', 'Schnee', '.', '<eos>']\n",
            "['<sos>', 'Two', 'women', 'in', 'red', 'and', 'gray', 'snow', 'covered', 'in', 'a', 'snow', '.', '<eos>']\n",
            "\n",
            "['<sos>', '<unk>', '<unk>', 'tagsüber', 'ihre', '<unk>', '.', '<eos>', '<pad>']\n",
            "['<sos>', 'A', '<unk>', 'of', 'young', 'Asian', 'people', 'in', 'a', 'gold', 'session', ',', 'is', 'surrounded', 'by', 'trees', '.', '<eos>']\n",
            "\n",
            "['<sos>', 'Drei', 'Hunde', 'spielen', 'im', 'Wasser', '.', '<eos>', '<pad>']\n",
            "['<sos>', 'Three', 'women', 'in', 'summer', 'clothes', 'are', 'playing', 'soccer', 'game', '.', '<eos>']\n",
            "\n"
          ],
          "name": "stdout"
        }
      ]
    }
  ]
}