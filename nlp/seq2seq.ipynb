{
  "nbformat": 4,
  "nbformat_minor": 0,
  "metadata": {
    "colab": {
      "name": "seq2seq.ipynb",
      "provenance": [],
      "collapsed_sections": []
    },
    "kernelspec": {
      "name": "python3",
      "display_name": "Python 3"
    },
    "accelerator": "GPU"
  },
  "cells": [
    {
      "cell_type": "markdown",
      "metadata": {
        "id": "yRooPBDZryc_",
        "colab_type": "text"
      },
      "source": [
        "Code to replicate sequence-to-sequence architecture"
      ]
    },
    {
      "cell_type": "code",
      "metadata": {
        "id": "QbjOYeDG19w-",
        "colab_type": "code",
        "colab": {}
      },
      "source": [
        "# https://github.com/pytorch/text/blob/master/test/translation.py\n",
        "# https://pytorch.org/tutorials/intermediate/seq2seq_translation_tutorial.html\n",
        "# https://graviraja.github.io/seqtoseqimp/#\n",
        "# https://papers.nips.cc/paper/5346-sequence-to-sequence-learning-with-neural-networks.pdf"
      ],
      "execution_count": 3,
      "outputs": []
    },
    {
      "cell_type": "code",
      "metadata": {
        "id": "C415mHjozxCJ",
        "colab_type": "code",
        "colab": {}
      },
      "source": [
        "import torch\n",
        "import torch.nn as nn\n",
        "import torch.nn.functional as F\n",
        "import torch.optim as optim\n",
        "from torchtext import data\n",
        "from torchtext import datasets\n",
        "import re\n",
        "import spacy"
      ],
      "execution_count": 4,
      "outputs": []
    },
    {
      "cell_type": "code",
      "metadata": {
        "id": "LW7g1PkVTTTC",
        "colab_type": "code",
        "colab": {}
      },
      "source": [
        "device = torch.device(\"cuda\" if torch.cuda.is_available() else \"cpu\")"
      ],
      "execution_count": 5,
      "outputs": []
    },
    {
      "cell_type": "code",
      "metadata": {
        "id": "WrwzUsJuix3G",
        "colab_type": "code",
        "colab": {
          "base_uri": "https://localhost:8080/",
          "height": 36
        },
        "outputId": "a559d1c5-83fe-480f-b829-f4319d425886"
      },
      "source": [
        "device"
      ],
      "execution_count": 6,
      "outputs": [
        {
          "output_type": "execute_result",
          "data": {
            "text/plain": [
              "device(type='cuda')"
            ]
          },
          "metadata": {
            "tags": []
          },
          "execution_count": 6
        }
      ]
    },
    {
      "cell_type": "code",
      "metadata": {
        "id": "M9Ww8oigzSHo",
        "colab_type": "code",
        "colab": {
          "base_uri": "https://localhost:8080/",
          "height": 467
        },
        "outputId": "75fb71cf-936d-4cec-f008-1056505ab77c"
      },
      "source": [
        "!python -m spacy download de_core_news_sm"
      ],
      "execution_count": 7,
      "outputs": [
        {
          "output_type": "stream",
          "text": [
            "Requirement already satisfied: de_core_news_sm==2.2.5 from https://github.com/explosion/spacy-models/releases/download/de_core_news_sm-2.2.5/de_core_news_sm-2.2.5.tar.gz#egg=de_core_news_sm==2.2.5 in /usr/local/lib/python3.6/dist-packages (2.2.5)\n",
            "Requirement already satisfied: spacy>=2.2.2 in /usr/local/lib/python3.6/dist-packages (from de_core_news_sm==2.2.5) (2.2.4)\n",
            "Requirement already satisfied: plac<1.2.0,>=0.9.6 in /usr/local/lib/python3.6/dist-packages (from spacy>=2.2.2->de_core_news_sm==2.2.5) (1.1.3)\n",
            "Requirement already satisfied: requests<3.0.0,>=2.13.0 in /usr/local/lib/python3.6/dist-packages (from spacy>=2.2.2->de_core_news_sm==2.2.5) (2.23.0)\n",
            "Requirement already satisfied: preshed<3.1.0,>=3.0.2 in /usr/local/lib/python3.6/dist-packages (from spacy>=2.2.2->de_core_news_sm==2.2.5) (3.0.2)\n",
            "Requirement already satisfied: murmurhash<1.1.0,>=0.28.0 in /usr/local/lib/python3.6/dist-packages (from spacy>=2.2.2->de_core_news_sm==2.2.5) (1.0.2)\n",
            "Requirement already satisfied: srsly<1.1.0,>=1.0.2 in /usr/local/lib/python3.6/dist-packages (from spacy>=2.2.2->de_core_news_sm==2.2.5) (1.0.2)\n",
            "Requirement already satisfied: cymem<2.1.0,>=2.0.2 in /usr/local/lib/python3.6/dist-packages (from spacy>=2.2.2->de_core_news_sm==2.2.5) (2.0.3)\n",
            "Requirement already satisfied: numpy>=1.15.0 in /usr/local/lib/python3.6/dist-packages (from spacy>=2.2.2->de_core_news_sm==2.2.5) (1.18.5)\n",
            "Requirement already satisfied: setuptools in /usr/local/lib/python3.6/dist-packages (from spacy>=2.2.2->de_core_news_sm==2.2.5) (47.3.1)\n",
            "Requirement already satisfied: wasabi<1.1.0,>=0.4.0 in /usr/local/lib/python3.6/dist-packages (from spacy>=2.2.2->de_core_news_sm==2.2.5) (0.6.0)\n",
            "Requirement already satisfied: tqdm<5.0.0,>=4.38.0 in /usr/local/lib/python3.6/dist-packages (from spacy>=2.2.2->de_core_news_sm==2.2.5) (4.41.1)\n",
            "Requirement already satisfied: thinc==7.4.0 in /usr/local/lib/python3.6/dist-packages (from spacy>=2.2.2->de_core_news_sm==2.2.5) (7.4.0)\n",
            "Requirement already satisfied: blis<0.5.0,>=0.4.0 in /usr/local/lib/python3.6/dist-packages (from spacy>=2.2.2->de_core_news_sm==2.2.5) (0.4.1)\n",
            "Requirement already satisfied: catalogue<1.1.0,>=0.0.7 in /usr/local/lib/python3.6/dist-packages (from spacy>=2.2.2->de_core_news_sm==2.2.5) (1.0.0)\n",
            "Requirement already satisfied: certifi>=2017.4.17 in /usr/local/lib/python3.6/dist-packages (from requests<3.0.0,>=2.13.0->spacy>=2.2.2->de_core_news_sm==2.2.5) (2020.4.5.2)\n",
            "Requirement already satisfied: chardet<4,>=3.0.2 in /usr/local/lib/python3.6/dist-packages (from requests<3.0.0,>=2.13.0->spacy>=2.2.2->de_core_news_sm==2.2.5) (3.0.4)\n",
            "Requirement already satisfied: idna<3,>=2.5 in /usr/local/lib/python3.6/dist-packages (from requests<3.0.0,>=2.13.0->spacy>=2.2.2->de_core_news_sm==2.2.5) (2.9)\n",
            "Requirement already satisfied: urllib3!=1.25.0,!=1.25.1,<1.26,>=1.21.1 in /usr/local/lib/python3.6/dist-packages (from requests<3.0.0,>=2.13.0->spacy>=2.2.2->de_core_news_sm==2.2.5) (1.24.3)\n",
            "Requirement already satisfied: importlib-metadata>=0.20; python_version < \"3.8\" in /usr/local/lib/python3.6/dist-packages (from catalogue<1.1.0,>=0.0.7->spacy>=2.2.2->de_core_news_sm==2.2.5) (1.6.1)\n",
            "Requirement already satisfied: zipp>=0.5 in /usr/local/lib/python3.6/dist-packages (from importlib-metadata>=0.20; python_version < \"3.8\"->catalogue<1.1.0,>=0.0.7->spacy>=2.2.2->de_core_news_sm==2.2.5) (3.1.0)\n",
            "\u001b[38;5;2m✔ Download and installation successful\u001b[0m\n",
            "You can now load the model via spacy.load('de_core_news_sm')\n"
          ],
          "name": "stdout"
        }
      ]
    },
    {
      "cell_type": "code",
      "metadata": {
        "id": "9p_g0Hcg1e5R",
        "colab_type": "code",
        "colab": {
          "base_uri": "https://localhost:8080/",
          "height": 430
        },
        "outputId": "371ddc6c-437c-4ac2-c0d8-99334d32de38"
      },
      "source": [
        "# https://stackoverflow.com/questions/56927602/unable-to-load-the-spacy-model-en-core-web-lg-on-google-colab\n",
        "# https://spacy.io/usage/models\n",
        "\n",
        "!pip install de_core_news_sm"
      ],
      "execution_count": 8,
      "outputs": [
        {
          "output_type": "stream",
          "text": [
            "Requirement already satisfied: de_core_news_sm in /usr/local/lib/python3.6/dist-packages (2.2.5)\n",
            "Requirement already satisfied: spacy>=2.2.2 in /usr/local/lib/python3.6/dist-packages (from de_core_news_sm) (2.2.4)\n",
            "Requirement already satisfied: tqdm<5.0.0,>=4.38.0 in /usr/local/lib/python3.6/dist-packages (from spacy>=2.2.2->de_core_news_sm) (4.41.1)\n",
            "Requirement already satisfied: setuptools in /usr/local/lib/python3.6/dist-packages (from spacy>=2.2.2->de_core_news_sm) (47.3.1)\n",
            "Requirement already satisfied: requests<3.0.0,>=2.13.0 in /usr/local/lib/python3.6/dist-packages (from spacy>=2.2.2->de_core_news_sm) (2.23.0)\n",
            "Requirement already satisfied: numpy>=1.15.0 in /usr/local/lib/python3.6/dist-packages (from spacy>=2.2.2->de_core_news_sm) (1.18.5)\n",
            "Requirement already satisfied: wasabi<1.1.0,>=0.4.0 in /usr/local/lib/python3.6/dist-packages (from spacy>=2.2.2->de_core_news_sm) (0.6.0)\n",
            "Requirement already satisfied: plac<1.2.0,>=0.9.6 in /usr/local/lib/python3.6/dist-packages (from spacy>=2.2.2->de_core_news_sm) (1.1.3)\n",
            "Requirement already satisfied: murmurhash<1.1.0,>=0.28.0 in /usr/local/lib/python3.6/dist-packages (from spacy>=2.2.2->de_core_news_sm) (1.0.2)\n",
            "Requirement already satisfied: preshed<3.1.0,>=3.0.2 in /usr/local/lib/python3.6/dist-packages (from spacy>=2.2.2->de_core_news_sm) (3.0.2)\n",
            "Requirement already satisfied: thinc==7.4.0 in /usr/local/lib/python3.6/dist-packages (from spacy>=2.2.2->de_core_news_sm) (7.4.0)\n",
            "Requirement already satisfied: cymem<2.1.0,>=2.0.2 in /usr/local/lib/python3.6/dist-packages (from spacy>=2.2.2->de_core_news_sm) (2.0.3)\n",
            "Requirement already satisfied: blis<0.5.0,>=0.4.0 in /usr/local/lib/python3.6/dist-packages (from spacy>=2.2.2->de_core_news_sm) (0.4.1)\n",
            "Requirement already satisfied: srsly<1.1.0,>=1.0.2 in /usr/local/lib/python3.6/dist-packages (from spacy>=2.2.2->de_core_news_sm) (1.0.2)\n",
            "Requirement already satisfied: catalogue<1.1.0,>=0.0.7 in /usr/local/lib/python3.6/dist-packages (from spacy>=2.2.2->de_core_news_sm) (1.0.0)\n",
            "Requirement already satisfied: certifi>=2017.4.17 in /usr/local/lib/python3.6/dist-packages (from requests<3.0.0,>=2.13.0->spacy>=2.2.2->de_core_news_sm) (2020.4.5.2)\n",
            "Requirement already satisfied: idna<3,>=2.5 in /usr/local/lib/python3.6/dist-packages (from requests<3.0.0,>=2.13.0->spacy>=2.2.2->de_core_news_sm) (2.9)\n",
            "Requirement already satisfied: chardet<4,>=3.0.2 in /usr/local/lib/python3.6/dist-packages (from requests<3.0.0,>=2.13.0->spacy>=2.2.2->de_core_news_sm) (3.0.4)\n",
            "Requirement already satisfied: urllib3!=1.25.0,!=1.25.1,<1.26,>=1.21.1 in /usr/local/lib/python3.6/dist-packages (from requests<3.0.0,>=2.13.0->spacy>=2.2.2->de_core_news_sm) (1.24.3)\n",
            "Requirement already satisfied: importlib-metadata>=0.20; python_version < \"3.8\" in /usr/local/lib/python3.6/dist-packages (from catalogue<1.1.0,>=0.0.7->spacy>=2.2.2->de_core_news_sm) (1.6.1)\n",
            "Requirement already satisfied: zipp>=0.5 in /usr/local/lib/python3.6/dist-packages (from importlib-metadata>=0.20; python_version < \"3.8\"->catalogue<1.1.0,>=0.0.7->spacy>=2.2.2->de_core_news_sm) (3.1.0)\n"
          ],
          "name": "stdout"
        }
      ]
    },
    {
      "cell_type": "code",
      "metadata": {
        "id": "e5tUOzUd4wJX",
        "colab_type": "code",
        "colab": {}
      },
      "source": [
        "import de_core_news_sm\n",
        "spacy_de = de_core_news_sm.load()"
      ],
      "execution_count": 9,
      "outputs": []
    },
    {
      "cell_type": "code",
      "metadata": {
        "id": "c_eVHQdG4YlM",
        "colab_type": "code",
        "colab": {
          "base_uri": "https://localhost:8080/",
          "height": 430
        },
        "outputId": "4e85dd78-3546-4ef5-bfad-7c5000d12351"
      },
      "source": [
        "!pip install en_core_web_sm"
      ],
      "execution_count": 10,
      "outputs": [
        {
          "output_type": "stream",
          "text": [
            "Requirement already satisfied: en_core_web_sm in /usr/local/lib/python3.6/dist-packages (2.2.5)\n",
            "Requirement already satisfied: spacy>=2.2.2 in /usr/local/lib/python3.6/dist-packages (from en_core_web_sm) (2.2.4)\n",
            "Requirement already satisfied: requests<3.0.0,>=2.13.0 in /usr/local/lib/python3.6/dist-packages (from spacy>=2.2.2->en_core_web_sm) (2.23.0)\n",
            "Requirement already satisfied: cymem<2.1.0,>=2.0.2 in /usr/local/lib/python3.6/dist-packages (from spacy>=2.2.2->en_core_web_sm) (2.0.3)\n",
            "Requirement already satisfied: murmurhash<1.1.0,>=0.28.0 in /usr/local/lib/python3.6/dist-packages (from spacy>=2.2.2->en_core_web_sm) (1.0.2)\n",
            "Requirement already satisfied: numpy>=1.15.0 in /usr/local/lib/python3.6/dist-packages (from spacy>=2.2.2->en_core_web_sm) (1.18.5)\n",
            "Requirement already satisfied: setuptools in /usr/local/lib/python3.6/dist-packages (from spacy>=2.2.2->en_core_web_sm) (47.3.1)\n",
            "Requirement already satisfied: preshed<3.1.0,>=3.0.2 in /usr/local/lib/python3.6/dist-packages (from spacy>=2.2.2->en_core_web_sm) (3.0.2)\n",
            "Requirement already satisfied: catalogue<1.1.0,>=0.0.7 in /usr/local/lib/python3.6/dist-packages (from spacy>=2.2.2->en_core_web_sm) (1.0.0)\n",
            "Requirement already satisfied: blis<0.5.0,>=0.4.0 in /usr/local/lib/python3.6/dist-packages (from spacy>=2.2.2->en_core_web_sm) (0.4.1)\n",
            "Requirement already satisfied: tqdm<5.0.0,>=4.38.0 in /usr/local/lib/python3.6/dist-packages (from spacy>=2.2.2->en_core_web_sm) (4.41.1)\n",
            "Requirement already satisfied: thinc==7.4.0 in /usr/local/lib/python3.6/dist-packages (from spacy>=2.2.2->en_core_web_sm) (7.4.0)\n",
            "Requirement already satisfied: plac<1.2.0,>=0.9.6 in /usr/local/lib/python3.6/dist-packages (from spacy>=2.2.2->en_core_web_sm) (1.1.3)\n",
            "Requirement already satisfied: wasabi<1.1.0,>=0.4.0 in /usr/local/lib/python3.6/dist-packages (from spacy>=2.2.2->en_core_web_sm) (0.6.0)\n",
            "Requirement already satisfied: srsly<1.1.0,>=1.0.2 in /usr/local/lib/python3.6/dist-packages (from spacy>=2.2.2->en_core_web_sm) (1.0.2)\n",
            "Requirement already satisfied: idna<3,>=2.5 in /usr/local/lib/python3.6/dist-packages (from requests<3.0.0,>=2.13.0->spacy>=2.2.2->en_core_web_sm) (2.9)\n",
            "Requirement already satisfied: chardet<4,>=3.0.2 in /usr/local/lib/python3.6/dist-packages (from requests<3.0.0,>=2.13.0->spacy>=2.2.2->en_core_web_sm) (3.0.4)\n",
            "Requirement already satisfied: urllib3!=1.25.0,!=1.25.1,<1.26,>=1.21.1 in /usr/local/lib/python3.6/dist-packages (from requests<3.0.0,>=2.13.0->spacy>=2.2.2->en_core_web_sm) (1.24.3)\n",
            "Requirement already satisfied: certifi>=2017.4.17 in /usr/local/lib/python3.6/dist-packages (from requests<3.0.0,>=2.13.0->spacy>=2.2.2->en_core_web_sm) (2020.4.5.2)\n",
            "Requirement already satisfied: importlib-metadata>=0.20; python_version < \"3.8\" in /usr/local/lib/python3.6/dist-packages (from catalogue<1.1.0,>=0.0.7->spacy>=2.2.2->en_core_web_sm) (1.6.1)\n",
            "Requirement already satisfied: zipp>=0.5 in /usr/local/lib/python3.6/dist-packages (from importlib-metadata>=0.20; python_version < \"3.8\"->catalogue<1.1.0,>=0.0.7->spacy>=2.2.2->en_core_web_sm) (3.1.0)\n"
          ],
          "name": "stdout"
        }
      ]
    },
    {
      "cell_type": "code",
      "metadata": {
        "id": "sq5MgTZ45jUD",
        "colab_type": "code",
        "colab": {}
      },
      "source": [
        "import en_core_web_sm\n",
        "spacy_en = en_core_web_sm.load()"
      ],
      "execution_count": 11,
      "outputs": []
    },
    {
      "cell_type": "code",
      "metadata": {
        "id": "GoGnCYb55nmZ",
        "colab_type": "code",
        "colab": {}
      },
      "source": [
        "url = re.compile('(<url>.*</url>)')"
      ],
      "execution_count": 12,
      "outputs": []
    },
    {
      "cell_type": "code",
      "metadata": {
        "id": "ahkwwkBG1mkm",
        "colab_type": "code",
        "colab": {}
      },
      "source": [
        "def tokenize_de(text):\n",
        "    return [tok.text for tok in spacy_de.tokenizer(url.sub('@URL@', text))]\n",
        "\n",
        "\n",
        "def tokenize_en(text):\n",
        "    return [tok.text for tok in spacy_en.tokenizer(url.sub('@URL@', text))]"
      ],
      "execution_count": 13,
      "outputs": []
    },
    {
      "cell_type": "code",
      "metadata": {
        "id": "84DpBWNP1sbi",
        "colab_type": "code",
        "colab": {}
      },
      "source": [
        "from torchtext.data.utils import get_tokenizer\n",
        "\n",
        "DE = data.Field(tokenize=tokenize_de, init_token='<sos>', eos_token='<eos>')\n",
        "EN = data.Field(tokenize=tokenize_en, init_token='<sos>', eos_token='<eos>')"
      ],
      "execution_count": 15,
      "outputs": []
    },
    {
      "cell_type": "code",
      "metadata": {
        "id": "TWfdpGdh6rJc",
        "colab_type": "code",
        "colab": {
          "base_uri": "https://localhost:8080/",
          "height": 36
        },
        "outputId": "081c6122-8f24-45b9-98cc-dda207fd4f22"
      },
      "source": [
        "from google.colab import drive\n",
        "drive.mount('/content/drive')\n",
        "path = '/content/drive/My Drive/data/data/translation/'"
      ],
      "execution_count": 16,
      "outputs": [
        {
          "output_type": "stream",
          "text": [
            "Drive already mounted at /content/drive; to attempt to forcibly remount, call drive.mount(\"/content/drive\", force_remount=True).\n"
          ],
          "name": "stdout"
        }
      ]
    },
    {
      "cell_type": "code",
      "metadata": {
        "id": "2VHAElbx1uFH",
        "colab_type": "code",
        "colab": {
          "base_uri": "https://localhost:8080/",
          "height": 36
        },
        "outputId": "4e3f64ed-6009-4b2c-93c6-4f17987ea496"
      },
      "source": [
        "train_data, valid_data, test_data = datasets.Multi30k.splits(exts=('.de', '.en'), fields=(DE, EN))\n",
        "print('Loaded data...')"
      ],
      "execution_count": 50,
      "outputs": [
        {
          "output_type": "stream",
          "text": [
            "Loaded data...\n"
          ],
          "name": "stdout"
        }
      ]
    },
    {
      "cell_type": "code",
      "metadata": {
        "id": "07xDwI93nFfx",
        "colab_type": "code",
        "colab": {
          "base_uri": "https://localhost:8080/",
          "height": 56
        },
        "outputId": "7d5e82ce-5e63-4270-8661-0bd6c451a3be"
      },
      "source": [
        "# Code to reverse the input to feed to the network\n",
        "'''\n",
        "for i in range(len(train_data)):\n",
        "    train_data[i].src = train_data[i].src[::-1]\n",
        "for i in range(len(valid_data)):\n",
        "    valid_data[i].src = valid_data[i].src[::-1]\n",
        "'''"
      ],
      "execution_count": 51,
      "outputs": [
        {
          "output_type": "execute_result",
          "data": {
            "text/plain": [
              "'\\nfor i in range(len(train_data)):\\n    train_data[i].src = train_data[i].src[::-1]\\nfor i in range(len(valid_data)):\\n    valid_data[i].src = valid_data[i].src[::-1]\\n'"
            ]
          },
          "metadata": {
            "tags": []
          },
          "execution_count": 51
        }
      ]
    },
    {
      "cell_type": "code",
      "metadata": {
        "id": "oRR9469r7U7N",
        "colab_type": "code",
        "colab": {
          "base_uri": "https://localhost:8080/",
          "height": 149
        },
        "outputId": "1c06e22c-e80a-40ee-ce0d-c28dcd229528"
      },
      "source": [
        "print(train_data.fields)\n",
        "print(len(train_data))\n",
        "print(len(valid_data))\n",
        "print(vars(train_data[0]))\n",
        "print(vars(train_data[100]))\n",
        "print(vars(valid_data[100]))"
      ],
      "execution_count": 52,
      "outputs": [
        {
          "output_type": "stream",
          "text": [
            "{'src': <torchtext.data.field.Field object at 0x7fb266d6e518>, 'trg': <torchtext.data.field.Field object at 0x7fb3099afd68>}\n",
            "29000\n",
            "1014\n",
            "{'src': ['Zwei', 'junge', 'weiße', 'Männer', 'sind', 'im', 'Freien', 'in', 'der', 'Nähe', 'vieler', 'Büsche', '.'], 'trg': ['Two', 'young', ',', 'White', 'males', 'are', 'outside', 'near', 'many', 'bushes', '.']}\n",
            "{'src': ['Männliches', 'Kleinkind', 'in', 'einem', 'roten', 'Hut', ',', 'das', 'sich', 'an', 'einem', 'Geländer', 'festhält', '.'], 'trg': ['Toddler', 'boy', 'in', 'a', 'red', 'hat', 'holding', 'on', 'to', 'some', 'railings', '.']}\n",
            "{'src': ['Ein', 'älterer', ',', 'übergewichtiger', 'Mann', 'wendet', 'einen', 'Pfannkuchen', ',', 'während', 'er', 'Frühstück', 'macht', '.'], 'trg': ['An', 'older', ',', 'overweight', 'man', 'flips', 'a', 'pancake', 'while', 'making', 'breakfast', '.']}\n"
          ],
          "name": "stdout"
        }
      ]
    },
    {
      "cell_type": "code",
      "metadata": {
        "id": "P6XDPfZkB6p4",
        "colab_type": "code",
        "colab": {}
      },
      "source": [
        "# set source and target language\n",
        "DE.build_vocab(train_data.src, min_freq=3)\n",
        "EN.build_vocab(train_data.trg, min_freq=3)"
      ],
      "execution_count": 53,
      "outputs": []
    },
    {
      "cell_type": "code",
      "metadata": {
        "id": "4FwAMWsnCOs0",
        "colab_type": "code",
        "colab": {
          "base_uri": "https://localhost:8080/",
          "height": 112
        },
        "outputId": "52137dc6-95b0-4d6c-faab-3d418f9915e6"
      },
      "source": [
        "train_iter, valid_iter, test_iter = data.BucketIterator.splits((train_data, valid_data, test_data), batch_size=32, device=device)\n",
        "\n",
        "print(DE.vocab.freqs.most_common(10))\n",
        "print(len(DE.vocab))\n",
        "print(EN.vocab.freqs.most_common(10))\n",
        "print(len(EN.vocab))"
      ],
      "execution_count": 54,
      "outputs": [
        {
          "output_type": "stream",
          "text": [
            "[('.', 28821), ('Ein', 13904), ('einem', 13697), ('in', 11830), (',', 8938), ('und', 8925), ('mit', 8838), ('auf', 8686), ('Mann', 7805), ('einer', 6750)]\n",
            "5500\n",
            "[('a', 31707), ('.', 27623), ('A', 17458), ('in', 14847), ('the', 9923), ('on', 8019), ('is', 7524), ('and', 7378), ('man', 7359), ('of', 6871)]\n",
            "4727\n"
          ],
          "name": "stdout"
        }
      ]
    },
    {
      "cell_type": "code",
      "metadata": {
        "id": "MNqHhR7mCYzG",
        "colab_type": "code",
        "colab": {
          "base_uri": "https://localhost:8080/",
          "height": 36
        },
        "outputId": "bcabff56-afbb-410a-9a7f-3e3c69ab57da"
      },
      "source": [
        "batch = next(iter(train_iter))\n",
        "print(batch.src.size())\n",
        "#print(batch.src[-1])\n",
        "#print(batch.src.size())\n",
        "#print(batch.trg.size())"
      ],
      "execution_count": 55,
      "outputs": [
        {
          "output_type": "stream",
          "text": [
            "torch.Size([23, 32])\n"
          ],
          "name": "stdout"
        }
      ]
    },
    {
      "cell_type": "code",
      "metadata": {
        "id": "v_4fR3w0HAkr",
        "colab_type": "code",
        "colab": {}
      },
      "source": [
        "class EncoderRNN(nn.Module):\n",
        "    def __init__(self, vocab_size, embedding_size, hidden_size, device):\n",
        "        super(EncoderRNN, self).__init__()\n",
        "\n",
        "        self.hidden_size = hidden_size\n",
        "\n",
        "        self.embed = nn.Embedding(vocab_size, embedding_size)\n",
        "        self.gru = nn.GRU(embedding_size, hidden_size)\n",
        "\n",
        "        self.device = device\n",
        "        self.to(self.device)\n",
        "        \n",
        "    def forward(self, input, hidden):\n",
        "        # input is of shape [sentence_length, batch_size]\n",
        "        # embedded is of shape [sentence_length, batch_size, embedding_size]\n",
        "\n",
        "        input = input.to(self.device)\n",
        "\n",
        "        embedded = self.embed(input)\n",
        "        output, hidden = self.gru(embedded, hidden)\n",
        "\n",
        "        # output shape is [sentence_length, batch_size, hidden_dim]\n",
        "        # hidden shape is [num_layers, batch_size, hidden_dim]\n",
        "\n",
        "        return output, hidden\n",
        "\n",
        "    def init_hidden(self, batch_size):\n",
        "        return torch.zeros(1, batch_size, self.hidden_size, device=device)\n"
      ],
      "execution_count": 56,
      "outputs": []
    },
    {
      "cell_type": "code",
      "metadata": {
        "id": "8kmQvH4PIjL4",
        "colab_type": "code",
        "colab": {}
      },
      "source": [
        "class DecoderRNN(nn.Module):\n",
        "    def __init__(self, vocab_size, embedding_size, hidden_size, device):\n",
        "        super(DecoderRNN, self).__init__()\n",
        "        self.hidden_size = hidden_size\n",
        "\n",
        "        self.embed = nn.Embedding(vocab_size, embedding_size)\n",
        "        self.gru = nn.GRU(embedding_size, hidden_size)\n",
        "        \n",
        "        self.out = nn.Linear(hidden_size, vocab_size)\n",
        "        self.softmax = nn.LogSoftmax(dim=1)\n",
        "        \n",
        "        self.device = device\n",
        "        self.to(self.device)\n",
        "\n",
        "    def forward(self, input, hidden):\n",
        "        # input is of shape [batch_size]\n",
        "        \n",
        "        input = input.unsqueeze(0)\n",
        "        # now, input shape is [1, batch_size]\n",
        "\n",
        "        input = input.to(self.device)\n",
        "\n",
        "        embedded = self.embed(input)\n",
        "        # embedded is of shape [1, batch_size, embedding_dim]\n",
        "\n",
        "        embedded = F.relu(embedded)\n",
        "        output, hidden = self.gru(embedded, hidden)\n",
        "\n",
        "        output = self.out(output.squeeze(0))\n",
        "        output = self.softmax(output)\n",
        "\n",
        "        return output, hidden\n"
      ],
      "execution_count": 57,
      "outputs": []
    },
    {
      "cell_type": "code",
      "metadata": {
        "id": "WYqrDNmxV7Nq",
        "colab_type": "code",
        "colab": {
          "base_uri": "https://localhost:8080/",
          "height": 448
        },
        "outputId": "4864a457-2b50-4a8b-a114-26e419e5ab61"
      },
      "source": [
        "vocab_size_src = len(DE.vocab)\n",
        "vocab_size_trg = len(EN.vocab)\n",
        "\n",
        "embedding_size = 300\n",
        "hidden_size = 128\n",
        "\n",
        "enc = EncoderRNN(vocab_size_src, embedding_size, hidden_size, device)\n",
        "dec = DecoderRNN(vocab_size_trg, embedding_size, hidden_size, device)\n",
        "enc_optim = optim.Adam(enc.parameters())\n",
        "dec_optim = optim.Adam(dec.parameters())\n",
        "    \n",
        "pad_idx = EN.vocab.stoi['<pad>']\n",
        "print('Pad index: ', pad_idx)\n",
        "criterion = nn.NLLLoss(ignore_index=pad_idx)\n",
        "\n",
        "epochs = 20\n",
        "clip = 10\n",
        "\n",
        "epoch_losses = []\n",
        "\n",
        "for epoch in range(epochs):\n",
        "    epoch_loss = 0\n",
        "\n",
        "    for batch in train_iter:\n",
        "        hidden = enc.init_hidden(batch.src.size(1))\n",
        "        \n",
        "        out, hidden = enc(batch.src, hidden)\n",
        "\n",
        "        max_len = batch.trg.size(0)\n",
        "        batch_size = batch.trg.size(1)\n",
        "\n",
        "        # store outputs\n",
        "        outputs = torch.zeros(max_len, batch_size, vocab_size_trg, device=device)\n",
        "        input = batch.trg[0, :]\n",
        "        \n",
        "        for i in range(1, max_len):\n",
        "            output, hidden = dec(input, hidden)\n",
        "            outputs[i] = output\n",
        "            input = batch.trg[i]\n",
        "\n",
        "        enc_optim.zero_grad()\n",
        "        dec_optim.zero_grad()\n",
        "\n",
        "        target = torch.tensor(batch.trg[1:], device=device)\n",
        "        loss = criterion(outputs[1:].view(-1, outputs.shape[2]), target.view(-1))\n",
        "        loss.backward()\n",
        "\n",
        "        nn.utils.clip_grad_norm_(enc.parameters(), clip)\n",
        "        nn.utils.clip_grad_norm_(dec.parameters(), clip)\n",
        "\n",
        "        enc_optim.step()\n",
        "        dec_optim.step()\n",
        "\n",
        "        epoch_loss += loss.item()\n",
        "        print('\\rEpoch {} : Loss {:.3f}'.format(epoch, epoch_loss / len(batch)), end=\"\")\n",
        "\n",
        "    print('\\rEpoch {} : Loss {:.3f}'.format(epoch, epoch_loss / len(train_iter)))\n",
        "\n",
        "    epoch_losses.append(epoch_loss / len(train_iter))"
      ],
      "execution_count": 58,
      "outputs": [
        {
          "output_type": "stream",
          "text": [
            "Pad index:  1\n",
            "\rEpoch 0 : Loss 0.264\rEpoch 0 : Loss 0.524\rEpoch 0 : Loss 0.780\rEpoch 0 : Loss 1.030"
          ],
          "name": "stdout"
        },
        {
          "output_type": "stream",
          "text": [
            "/usr/local/lib/python3.6/dist-packages/ipykernel_launcher.py:44: UserWarning: To copy construct from a tensor, it is recommended to use sourceTensor.clone().detach() or sourceTensor.clone().detach().requires_grad_(True), rather than torch.tensor(sourceTensor).\n"
          ],
          "name": "stderr"
        },
        {
          "output_type": "stream",
          "text": [
            "Epoch 0 : Loss 4.083\n",
            "Epoch 1 : Loss 3.333\n",
            "Epoch 2 : Loss 3.054\n",
            "Epoch 3 : Loss 2.856\n",
            "Epoch 4 : Loss 2.708\n",
            "Epoch 5 : Loss 2.591\n",
            "Epoch 6 : Loss 2.491\n",
            "Epoch 7 : Loss 2.403\n",
            "Epoch 8 : Loss 2.324\n",
            "Epoch 9 : Loss 2.253\n",
            "Epoch 10 : Loss 2.188\n",
            "Epoch 11 : Loss 2.127\n",
            "Epoch 12 : Loss 2.071\n",
            "Epoch 13 : Loss 2.020\n",
            "Epoch 14 : Loss 1.971\n",
            "Epoch 15 : Loss 1.926\n",
            "Epoch 16 : Loss 1.881\n",
            "Epoch 17 : Loss 1.841\n",
            "Epoch 18 : Loss 1.803\n",
            "Epoch 19 : Loss 1.769\n"
          ],
          "name": "stdout"
        }
      ]
    },
    {
      "cell_type": "code",
      "metadata": {
        "id": "sJzP-aiMpj84",
        "colab_type": "code",
        "colab": {
          "base_uri": "https://localhost:8080/",
          "height": 300
        },
        "outputId": "fc0c1e73-98f4-4ee1-89cb-012e1afa4282"
      },
      "source": [
        "import matplotlib.pyplot as plt\n",
        "\n",
        "plt.plot(epoch_losses)\n",
        "plt.title(\"Training loss\")"
      ],
      "execution_count": 59,
      "outputs": [
        {
          "output_type": "execute_result",
          "data": {
            "text/plain": [
              "Text(0.5, 1.0, 'Training loss')"
            ]
          },
          "metadata": {
            "tags": []
          },
          "execution_count": 59
        },
        {
          "output_type": "display_data",
          "data": {
            "image/png": "[encoded data removed]",
            "text/plain": [
              "<Figure size 432x288 with 1 Axes>"
            ]
          },
          "metadata": {
            "tags": [],
            "needs_background": "light"
          }
        }
      ]
    },
    {
      "cell_type": "code",
      "metadata": {
        "id": "JQ6RHiXNPeEY",
        "colab_type": "code",
        "colab": {
          "base_uri": "https://localhost:8080/",
          "height": 298
        },
        "outputId": "6a68aba3-5ad1-4b10-c4e5-686994616a52"
      },
      "source": [
        "sos_idx = EN.vocab.stoi['<sos>']\n",
        "eos_idx = EN.vocab.stoi['<eos>']\n",
        "\n",
        "batch = next(iter(valid_iter))\n",
        "\n",
        "for i in range(5):\n",
        "    with torch.no_grad():\n",
        "        encoder_input = batch.src[:, i].unsqueeze(1)\n",
        "        hidden = enc.init_hidden(1)\n",
        "\n",
        "        encoded = []\n",
        "        for ip in encoder_input:\n",
        "            encoded.append(DE.vocab.itos[ip.item()])\n",
        "\n",
        "        out, hidden = enc(encoder_input, hidden)\n",
        "\n",
        "        decoder_input = torch.tensor([sos_idx], device=device)\n",
        "\n",
        "        decoded = []\n",
        "        decoded.append(EN.vocab.itos[sos_idx])\n",
        "\n",
        "        while True:\n",
        "            output, hidden = dec(decoder_input, hidden)\n",
        "            topv, topi = output.topk(1)\n",
        "            decoder_input = topi.squeeze(1).detach()\n",
        "            \n",
        "            decoded.append(EN.vocab.itos[decoder_input.item()])\n",
        "            if decoder_input.item() == eos_idx:\n",
        "                break\n",
        "\n",
        "        print(encoded)\n",
        "        print(decoded)\n",
        "        print()"
      ],
      "execution_count": 60,
      "outputs": [
        {
          "output_type": "stream",
          "text": [
            "['<sos>', 'Ein', 'Kind', 'sitzt', 'auf', 'einer', '<unk>', '.', '<eos>']\n",
            "['<sos>', 'A', 'child', 'is', 'sitting', 'on', 'a', 'couch', '.', '<eos>']\n",
            "\n",
            "['<sos>', 'Zwei', 'Frauen', 'lächeln', 'bei', 'einer', 'Veranstaltung', '.', '<eos>']\n",
            "['<sos>', 'Two', 'women', 'are', 'playing', 'a', 'game', 'of', 'checkers', 'to', '<unk>', 'a', 'jug', '.', '<eos>']\n",
            "\n",
            "['<sos>', 'Zwei', 'Pudel', 'rennen', 'durch', 'den', 'Schnee', '.', '<eos>']\n",
            "['<sos>', 'Two', 'basketball', 'players', 'jump', 'in', 'the', 'snow', '.', '<eos>']\n",
            "\n",
            "['<sos>', '<unk>', '<unk>', 'tagsüber', 'ihre', '<unk>', '.', '<eos>', '<pad>']\n",
            "['<sos>', '<unk>', 'are', 'being', '<unk>', 'by', 'the', 'ocean', '.', '<eos>']\n",
            "\n",
            "['<sos>', 'Drei', 'Hunde', 'spielen', 'im', 'Wasser', '.', '<eos>', '<pad>']\n",
            "['<sos>', 'Three', 'dogs', 'are', 'playing', 'in', 'the', 'water', '.', '<eos>']\n",
            "\n"
          ],
          "name": "stdout"
        }
      ]
    },
    {
      "cell_type": "code",
      "metadata": {
        "id": "uX4nv2WXp09X",
        "colab_type": "code",
        "colab": {}
      },
      "source": [
        "### Reversing the input (src) as suggested in the paper Sequence to Sequence Learning with Neural Networks\n",
        "'''\n",
        "Epoch 0 : Loss 4.116\n",
        "Epoch 1 : Loss 3.334\n",
        "Epoch 2 : Loss 3.012\n",
        "Epoch 3 : Loss 2.796\n",
        "Epoch 4 : Loss 2.644\n",
        "Epoch 5 : Loss 2.523\n",
        "Epoch 6 : Loss 2.421\n",
        "Epoch 7 : Loss 2.331\n",
        "Epoch 8 : Loss 2.250\n",
        "Epoch 9 : Loss 2.179\n",
        "Epoch 10 : Loss 2.112\n",
        "Epoch 11 : Loss 2.053\n",
        "Epoch 12 : Loss 1.997\n",
        "Epoch 13 : Loss 1.944\n",
        "Epoch 14 : Loss 1.897\n",
        "Epoch 15 : Loss 1.852\n",
        "Epoch 16 : Loss 1.808\n",
        "Epoch 17 : Loss 1.768\n",
        "Epoch 18 : Loss 1.732\n",
        "Epoch 19 : Loss 1.696\n",
        "\n",
        "['<sos>', '.', '<unk>', 'einer', 'auf', 'sitzt', 'Kind', 'Ein', '<eos>']\n",
        "['<sos>', 'A', '<unk>', 'and', 'a', 'guy', 'getting', 'ready', 'to', 'put', 'a', '<unk>', '.', '<eos>']\n",
        "\n",
        "['<sos>', '.', 'Veranstaltung', 'einer', 'bei', 'lächeln', 'Frauen', 'Zwei', '<eos>']\n",
        "['<sos>', 'Five', 'road', 'people', 'are', 'playing', 'instruments', '.', '<eos>']\n",
        "\n",
        "['<sos>', '.', 'Schnee', 'den', 'durch', 'rennen', 'Pudel', 'Zwei', '<eos>']\n",
        "['<sos>', 'Five', 'water', 'racing', 'in', 'the', 'water', '.', '<eos>']\n",
        "\n",
        "['<sos>', '.', '<unk>', 'ihre', 'tagsüber', '<unk>', '<unk>', '<eos>', '<pad>']\n",
        "['<sos>', '<unk>', 'are', 'being', '<unk>', 'out', 'the', 'window', 'in', 'the', 'daytime', 'of', 'the', 'ocean', '.', '<eos>']\n",
        "\n",
        "['<sos>', '.', 'Wasser', 'im', 'spielen', 'Hunde', 'Drei', '<eos>', '<pad>']\n",
        "['<sos>', 'Five', 'men', '.', '<eos>']\n",
        "'''"
      ],
      "execution_count": null,
      "outputs": []
    }
  ]
}